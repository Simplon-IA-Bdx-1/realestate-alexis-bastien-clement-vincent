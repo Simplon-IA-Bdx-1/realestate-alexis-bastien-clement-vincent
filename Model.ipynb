{
 "cells": [
  {
   "cell_type": "markdown",
   "metadata": {},
   "source": [
    "## Création d'un modele avec les données propres"
   ]
  },
  {
   "cell_type": "code",
   "execution_count": 1,
   "metadata": {},
   "outputs": [],
   "source": [
    "import pandas as pd\n",
    "import numpy as np\n",
    "import seaborn as sns\n",
    "import matplotlib.pyplot as plt\n",
    "import pickle\n",
    "import re\n",
    "\n",
    "from sklearn.model_selection import KFold, cross_val_score, train_test_split\n",
    "from sklearn.metrics import mean_squared_error , mean_absolute_error\n",
    "from sklearn.linear_model import Ridge, LinearRegression, Lasso, ElasticNet\n",
    "from sklearn.model_selection import GridSearchCV\n",
    "from sklearn.pipeline import Pipeline\n",
    "from math import sqrt\n",
    "\n",
    "#import xgboost"
   ]
  },
  {
   "cell_type": "code",
   "execution_count": 2,
   "metadata": {},
   "outputs": [],
   "source": [
    "data_full = pd.read_csv(\"logic_immo_trainfull.csv\",index_col=0)"
   ]
  },
  {
   "cell_type": "code",
   "execution_count": 3,
   "metadata": {},
   "outputs": [
    {
     "data": {
      "text/plain": [
       "(4298, 23)"
      ]
     },
     "execution_count": 3,
     "metadata": {},
     "output_type": "execute_result"
    }
   ],
   "source": [
    "data_full.shape"
   ]
  },
  {
   "cell_type": "code",
   "execution_count": 4,
   "metadata": {},
   "outputs": [
    {
     "data": {
      "text/plain": [
       "array(['id', 'area', 'rooms', 'price', 'district_10', 'district_11',\n",
       "       'district_12', 'district_13', 'district_14', 'district_15',\n",
       "       'district_16', 'district_17', 'district_18', 'district_19',\n",
       "       'district_2', 'district_20', 'district_3', 'district_4',\n",
       "       'district_5', 'district_6', 'district_7', 'district_8',\n",
       "       'district_9'], dtype=object)"
      ]
     },
     "execution_count": 4,
     "metadata": {},
     "output_type": "execute_result"
    }
   ],
   "source": [
    "columns = data_full.columns.values\n",
    "columns"
   ]
  },
  {
   "cell_type": "code",
   "execution_count": 5,
   "metadata": {},
   "outputs": [
    {
     "data": {
      "text/plain": [
       "count    4.298000e+03\n",
       "mean     1.318471e+06\n",
       "std      1.548441e+06\n",
       "min      1.100000e+04\n",
       "25%      4.850000e+05\n",
       "50%      8.330000e+05\n",
       "75%      1.605250e+06\n",
       "max      2.500000e+07\n",
       "Name: price, dtype: float64"
      ]
     },
     "execution_count": 5,
     "metadata": {},
     "output_type": "execute_result"
    }
   ],
   "source": [
    "data_full['price'].describe()"
   ]
  },
  {
   "cell_type": "markdown",
   "metadata": {},
   "source": [
    "#### Test de suppression des prix trop important pour voir la modification sur la qualité du modele\n",
    "Ca fonctionne mais pas sur que ca soit une bonne idée , la MAE passe de 330 à 243k , quand on supprime ces biens"
   ]
  },
  {
   "cell_type": "code",
   "execution_count": 6,
   "metadata": {},
   "outputs": [
    {
     "data": {
      "text/plain": [
       "(4298, 23)"
      ]
     },
     "execution_count": 6,
     "metadata": {},
     "output_type": "execute_result"
    }
   ],
   "source": [
    "data_full.shape"
   ]
  },
  {
   "cell_type": "code",
   "execution_count": 7,
   "metadata": {},
   "outputs": [],
   "source": [
    "#important_prices = data_full.loc[data_full['price'] > 3000000]\n",
    "#print(len(important_prices))"
   ]
  },
  {
   "cell_type": "code",
   "execution_count": 8,
   "metadata": {},
   "outputs": [],
   "source": [
    "#print(len(important_prices)/data_full.shape[0]*100)"
   ]
  },
  {
   "cell_type": "code",
   "execution_count": 9,
   "metadata": {},
   "outputs": [],
   "source": [
    "#data_full = data_full.drop(important_prices.index, axis=0)"
   ]
  },
  {
   "cell_type": "code",
   "execution_count": 10,
   "metadata": {},
   "outputs": [
    {
     "data": {
      "text/plain": [
       "(4298, 23)"
      ]
     },
     "execution_count": 10,
     "metadata": {},
     "output_type": "execute_result"
    }
   ],
   "source": [
    "data_full.shape"
   ]
  },
  {
   "cell_type": "code",
   "execution_count": 11,
   "metadata": {},
   "outputs": [
    {
     "data": {
      "text/plain": [
       "count    4.298000e+03\n",
       "mean     1.318471e+06\n",
       "std      1.548441e+06\n",
       "min      1.100000e+04\n",
       "25%      4.850000e+05\n",
       "50%      8.330000e+05\n",
       "75%      1.605250e+06\n",
       "max      2.500000e+07\n",
       "Name: price, dtype: float64"
      ]
     },
     "execution_count": 11,
     "metadata": {},
     "output_type": "execute_result"
    }
   ],
   "source": [
    "data_full['price'].describe()"
   ]
  },
  {
   "cell_type": "markdown",
   "metadata": {},
   "source": [
    "Log Price\n",
    "- penser a exp les predictions pour avoir le vrai chiffre"
   ]
  },
  {
   "cell_type": "code",
   "execution_count": 12,
   "metadata": {},
   "outputs": [
    {
     "name": "stderr",
     "output_type": "stream",
     "text": [
      "/usr/local/lib/python3.7/site-packages/scipy/stats/stats.py:1713: FutureWarning: Using a non-tuple sequence for multidimensional indexing is deprecated; use `arr[tuple(seq)]` instead of `arr[seq]`. In the future this will be interpreted as an array index, `arr[np.array(seq)]`, which will result either in an error or a different result.\n",
      "  return np.add.reduce(sorted[indexer] * weights, axis=axis) / sumval\n"
     ]
    },
    {
     "data": {
      "text/plain": [
       "<matplotlib.axes._subplots.AxesSubplot at 0x1059f12d0>"
      ]
     },
     "execution_count": 12,
     "metadata": {},
     "output_type": "execute_result"
    },
    {
     "data": {
      "image/png": "[encoded data removed]",
      "text/plain": [
       "<Figure size 432x288 with 1 Axes>"
      ]
     },
     "metadata": {
      "needs_background": "light"
     },
     "output_type": "display_data"
    }
   ],
   "source": [
    "data_full['price'] = np.log(data_full['price'])\n",
    "sns.distplot(data_full['price'])"
   ]
  },
  {
   "cell_type": "markdown",
   "metadata": {},
   "source": [
    "#### Split Train / Val"
   ]
  },
  {
   "cell_type": "code",
   "execution_count": 13,
   "metadata": {},
   "outputs": [],
   "source": [
    "id_column = 'id'\n",
    "target_column = 'price'\n",
    "y_train_full_log = data_full[target_column].values\n",
    "X_train_full = data_full.drop([id_column,target_column], axis=1).values"
   ]
  },
  {
   "cell_type": "code",
   "execution_count": 14,
   "metadata": {},
   "outputs": [],
   "source": [
    "SEED = 42\n",
    "np.random.seed(SEED)"
   ]
  },
  {
   "cell_type": "code",
   "execution_count": 15,
   "metadata": {},
   "outputs": [],
   "source": [
    "X_train, X_val, y_train_log, y_val_log = train_test_split(X_train_full, y_train_full_log, test_size=0.1)"
   ]
  },
  {
   "cell_type": "code",
   "execution_count": 16,
   "metadata": {},
   "outputs": [
    {
     "name": "stdout",
     "output_type": "stream",
     "text": [
      "Train full shape : (4298, 23)\n",
      "X_train shape : (3868, 21)\n",
      "X_val shape : (430, 21)\n",
      "y_train_log shape : (3868,)\n",
      "y_val_log shape : (430,)\n"
     ]
    }
   ],
   "source": [
    "print(f\"Train full shape : {data_full.shape}\")\n",
    "print(f\"X_train shape : {X_train.shape}\")\n",
    "print(f\"X_val shape : {X_val.shape}\")\n",
    "print(f\"y_train_log shape : {y_train_log.shape}\")\n",
    "print(f\"y_val_log shape : {y_val_log.shape}\")"
   ]
  },
  {
   "cell_type": "markdown",
   "metadata": {},
   "source": [
    "#### Scaler\n",
    "Essai pour trouver le meilleur scaler pour nos données"
   ]
  },
  {
   "cell_type": "code",
   "execution_count": 17,
   "metadata": {},
   "outputs": [],
   "source": [
    "from sklearn.preprocessing import MinMaxScaler\n",
    "from sklearn.preprocessing import MaxAbsScaler\n",
    "from sklearn.preprocessing import StandardScaler\n",
    "from sklearn.preprocessing import RobustScaler\n",
    "from sklearn.preprocessing import Normalizer\n",
    "from sklearn.preprocessing import QuantileTransformer\n",
    "from sklearn.preprocessing import PowerTransformer"
   ]
  },
  {
   "cell_type": "code",
   "execution_count": 18,
   "metadata": {},
   "outputs": [],
   "source": [
    "scalers = [\n",
    "    MinMaxScaler(),\n",
    "    MaxAbsScaler(),\n",
    "    StandardScaler(),\n",
    "    RobustScaler(),\n",
    "    Normalizer(),\n",
    "    QuantileTransformer(),\n",
    "    PowerTransformer()\n",
    "]"
   ]
  },
  {
   "cell_type": "code",
   "execution_count": 19,
   "metadata": {},
   "outputs": [
    {
     "name": "stdout",
     "output_type": "stream",
     "text": [
      "Recherche du meilleur scaler pour nos données\n",
      "_____________________________________________\n",
      "MinMaxScaler(copy=True, feature_range=(0, 1))\n",
      "0.7482671226814346\n",
      "_____________________________________________\n",
      "MaxAbsScaler(copy=True)\n",
      "0.748152869340488\n",
      "_____________________________________________\n",
      "StandardScaler(copy=True, with_mean=True, with_std=True)\n",
      "0.7500998049467174\n",
      "_____________________________________________\n",
      "RobustScaler(copy=True, quantile_range=(25.0, 75.0), with_centering=True,\n",
      "             with_scaling=True)\n",
      "0.7500540686626224\n",
      "_____________________________________________\n",
      "Normalizer(copy=True, norm='l2')\n",
      "0.3160449829073137\n",
      "_____________________________________________\n",
      "QuantileTransformer(copy=True, ignore_implicit_zeros=False, n_quantiles=1000,\n",
      "                    output_distribution='uniform', random_state=None,\n",
      "                    subsample=100000)\n",
      "0.8229964612112418\n",
      "_____________________________________________\n",
      "PowerTransformer(copy=True, method='yeo-johnson', standardize=True)\n",
      "0.8768134834170199\n",
      "_____________________________________________\n",
      "Meilleur scaler PowerTransformer(copy=True, method='yeo-johnson', standardize=True) , score : 0.8768134834170199\n"
     ]
    }
   ],
   "source": [
    "print(\"Recherche du meilleur scaler pour nos données\")\n",
    "print(\"_____________________________________________\")\n",
    "best_score = 0\n",
    "best_scaler = \"Null\" \n",
    "\n",
    "for scaler in scalers:\n",
    "    pipe = Pipeline(steps=[('scaler', scaler),('Ridge', Ridge())])\n",
    "    pipe.fit(X_train,y_train_log)\n",
    "    print(scaler)\n",
    "    score = pipe.score(X_val,y_val_log)\n",
    "    print(score)\n",
    "    if score > best_score:\n",
    "        best_score = score\n",
    "        best_scaler = scaler    \n",
    "    print(\"_____________________________________________\")\n",
    "    \n",
    "print(f\"Meilleur scaler {best_scaler} , score : {best_score}\")"
   ]
  },
  {
   "cell_type": "markdown",
   "metadata": {},
   "source": [
    "#### Pipeline"
   ]
  },
  {
   "cell_type": "code",
   "execution_count": 20,
   "metadata": {},
   "outputs": [],
   "source": [
    "steps = [('scaler', best_scaler) , ('Ridge', Ridge())]\n",
    "pipeline = Pipeline(steps)"
   ]
  },
  {
   "cell_type": "code",
   "execution_count": 21,
   "metadata": {},
   "outputs": [],
   "source": [
    "parameters = {'Ridge__solver' : ['auto', 'svd', 'cholesky', 'lsqr', 'sparse_cg', 'sag', 'saga'],'Ridge__alpha': [1e-10,1e-5,1,10,100]}"
   ]
  },
  {
   "cell_type": "code",
   "execution_count": 22,
   "metadata": {},
   "outputs": [],
   "source": [
    "grid = GridSearchCV(pipeline, param_grid=parameters, cv=5)"
   ]
  },
  {
   "cell_type": "code",
   "execution_count": 23,
   "metadata": {},
   "outputs": [
    {
     "data": {
      "text/plain": [
       "GridSearchCV(cv=5, error_score='raise-deprecating',\n",
       "             estimator=Pipeline(memory=None,\n",
       "                                steps=[('scaler',\n",
       "                                        PowerTransformer(copy=True,\n",
       "                                                         method='yeo-johnson',\n",
       "                                                         standardize=True)),\n",
       "                                       ('Ridge',\n",
       "                                        Ridge(alpha=1.0, copy_X=True,\n",
       "                                              fit_intercept=True, max_iter=None,\n",
       "                                              normalize=False,\n",
       "                                              random_state=None, solver='auto',\n",
       "                                              tol=0.001))],\n",
       "                                verbose=False),\n",
       "             iid='warn', n_jobs=None,\n",
       "             param_grid={'Ridge__alpha': [1e-10, 1e-05, 1, 10, 100],\n",
       "                         'Ridge__solver': ['auto', 'svd', 'cholesky', 'lsqr',\n",
       "                                           'sparse_cg', 'sag', 'saga']},\n",
       "             pre_dispatch='2*n_jobs', refit=True, return_train_score=False,\n",
       "             scoring=None, verbose=0)"
      ]
     },
     "execution_count": 23,
     "metadata": {},
     "output_type": "execute_result"
    }
   ],
   "source": [
    "grid.fit(X_train,y_train_log)"
   ]
  },
  {
   "cell_type": "code",
   "execution_count": 24,
   "metadata": {},
   "outputs": [
    {
     "data": {
      "text/plain": [
       "0.876800992347977"
      ]
     },
     "execution_count": 24,
     "metadata": {},
     "output_type": "execute_result"
    }
   ],
   "source": [
    "# Verifie la perfomance sur le val set ? \n",
    "# Utilise le scorer du modele si pas précisé dans scoring ? Ridge = R2\n",
    "grid.score(X_val,y_val_log)"
   ]
  },
  {
   "cell_type": "code",
   "execution_count": 25,
   "metadata": {},
   "outputs": [
    {
     "data": {
      "text/plain": [
       "{'Ridge__alpha': 1, 'Ridge__solver': 'saga'}"
      ]
     },
     "execution_count": 25,
     "metadata": {},
     "output_type": "execute_result"
    }
   ],
   "source": [
    "grid.best_params_"
   ]
  },
  {
   "cell_type": "code",
   "execution_count": 26,
   "metadata": {},
   "outputs": [],
   "source": [
    "y_val_log_predict = grid.best_estimator_.predict(X_val)"
   ]
  },
  {
   "cell_type": "code",
   "execution_count": 27,
   "metadata": {},
   "outputs": [
    {
     "name": "stdout",
     "output_type": "stream",
     "text": [
      " MAE sur val : 315858.98 Euros \n"
     ]
    }
   ],
   "source": [
    "print(f\" MAE sur val : { round(mean_absolute_error(np.exp(y_val_log),np.exp(y_val_log_predict)),2) } Euros \")"
   ]
  },
  {
   "cell_type": "code",
   "execution_count": 28,
   "metadata": {},
   "outputs": [],
   "source": [
    "# Enregistre le modele\n",
    "pickle.dump(grid, open('realestate_model.pickle', 'wb'))"
   ]
  },
  {
   "cell_type": "markdown",
   "metadata": {},
   "source": [
    "#### Test prédiction sur nouvel input"
   ]
  },
  {
   "cell_type": "markdown",
   "metadata": {},
   "source": [
    "[Lien vers l'annonce pour le test](https://www.logic-immo.com/detail-vente-c929c130-fc68-6e83-35a5-8b8f6093f49d.htm)"
   ]
  },
  {
   "cell_type": "code",
   "execution_count": 29,
   "metadata": {},
   "outputs": [
    {
     "data": {
      "text/html": [
       "<div>\n",
       "<style scoped>\n",
       "    .dataframe tbody tr th:only-of-type {\n",
       "        vertical-align: middle;\n",
       "    }\n",
       "\n",
       "    .dataframe tbody tr th {\n",
       "        vertical-align: top;\n",
       "    }\n",
       "\n",
       "    .dataframe thead th {\n",
       "        text-align: right;\n",
       "    }\n",
       "</style>\n",
       "<table border=\"1\" class=\"dataframe\">\n",
       "  <thead>\n",
       "    <tr style=\"text-align: right;\">\n",
       "      <th></th>\n",
       "      <th>id</th>\n",
       "      <th>area</th>\n",
       "      <th>rooms</th>\n",
       "      <th>price</th>\n",
       "      <th>district_10</th>\n",
       "      <th>district_11</th>\n",
       "      <th>district_12</th>\n",
       "      <th>district_13</th>\n",
       "      <th>district_14</th>\n",
       "      <th>district_15</th>\n",
       "      <th>...</th>\n",
       "      <th>district_19</th>\n",
       "      <th>district_2</th>\n",
       "      <th>district_20</th>\n",
       "      <th>district_3</th>\n",
       "      <th>district_4</th>\n",
       "      <th>district_5</th>\n",
       "      <th>district_6</th>\n",
       "      <th>district_7</th>\n",
       "      <th>district_8</th>\n",
       "      <th>district_9</th>\n",
       "    </tr>\n",
       "  </thead>\n",
       "  <tbody>\n",
       "    <tr>\n",
       "      <th>0</th>\n",
       "      <td>8A95B48A-5CB1-C2D0-0C57-563B8A815993</td>\n",
       "      <td>20</td>\n",
       "      <td>2</td>\n",
       "      <td>12.240474</td>\n",
       "      <td>0</td>\n",
       "      <td>0</td>\n",
       "      <td>0</td>\n",
       "      <td>0</td>\n",
       "      <td>0</td>\n",
       "      <td>0</td>\n",
       "      <td>...</td>\n",
       "      <td>0</td>\n",
       "      <td>0</td>\n",
       "      <td>0</td>\n",
       "      <td>0</td>\n",
       "      <td>0</td>\n",
       "      <td>0</td>\n",
       "      <td>0</td>\n",
       "      <td>0</td>\n",
       "      <td>0</td>\n",
       "      <td>0</td>\n",
       "    </tr>\n",
       "  </tbody>\n",
       "</table>\n",
       "<p>1 rows × 23 columns</p>\n",
       "</div>"
      ],
      "text/plain": [
       "                                     id  area  rooms      price  district_10  \\\n",
       "0  8A95B48A-5CB1-C2D0-0C57-563B8A815993    20      2  12.240474            0   \n",
       "\n",
       "   district_11  district_12  district_13  district_14  district_15  \\\n",
       "0            0            0            0            0            0   \n",
       "\n",
       "      ...      district_19  district_2  district_20  district_3  district_4  \\\n",
       "0     ...                0           0            0           0           0   \n",
       "\n",
       "   district_5  district_6  district_7  district_8  district_9  \n",
       "0           0           0           0           0           0  \n",
       "\n",
       "[1 rows x 23 columns]"
      ]
     },
     "execution_count": 29,
     "metadata": {},
     "output_type": "execute_result"
    }
   ],
   "source": [
    "data_full.head(1)"
   ]
  },
  {
   "cell_type": "markdown",
   "metadata": {},
   "source": [
    "Pour choisir la ville sans avoir a tout tapper , ou copier/coller ( sera utile dans le code de l'API ) \n",
    "- on cherche toutes les colonnes qui commence par \" localisation_ \" \n",
    "- On fait un dictionnaire avec ces colonnes avec toutes les valeurs à zéro\n",
    "- On passe une des clés a 1 ( la ville ou on veut faire la prédiction )\n",
    "- Et on ajoute enfin ce dictionnaire au premier dictionnaire comprenant le début du nouvel input dont on veut prédire le prix"
   ]
  },
  {
   "cell_type": "code",
   "execution_count": 30,
   "metadata": {},
   "outputs": [],
   "source": [
    "list_localisation = []\n",
    "for column in columns:\n",
    "    localisation = re.search(\"^district_\",column)\n",
    "    if(localisation):\n",
    "        list_localisation.append(column)"
   ]
  },
  {
   "cell_type": "code",
   "execution_count": 31,
   "metadata": {},
   "outputs": [
    {
     "name": "stdout",
     "output_type": "stream",
     "text": [
      "['10', '11', '12', '13', '14', '15', '16', '17', '18', '19', '2', '20', '3', '4', '5', '6', '7', '8', '9']\n"
     ]
    }
   ],
   "source": [
    "list_district = []\n",
    "for localisation in list_localisation:\n",
    "    district = localisation.replace(\"district_\",\"\")\n",
    "    list_district.append(district)\n",
    "list_district\n",
    "\n",
    "print(list_district)\n",
    "\n",
    "pickle.dump(list_district, open('district_values.pickle', 'wb'))"
   ]
  },
  {
   "cell_type": "code",
   "execution_count": 32,
   "metadata": {},
   "outputs": [],
   "source": [
    "dict_localisation = { i : [0] for i in list_localisation }"
   ]
  },
  {
   "cell_type": "code",
   "execution_count": 33,
   "metadata": {},
   "outputs": [],
   "source": [
    "dict_localisation['district_4'] = [1]"
   ]
  },
  {
   "cell_type": "code",
   "execution_count": 34,
   "metadata": {},
   "outputs": [],
   "source": [
    "dict = {\n",
    "    'area': [21],\n",
    "    'rooms': [1],\n",
    "}"
   ]
  },
  {
   "cell_type": "code",
   "execution_count": 35,
   "metadata": {},
   "outputs": [],
   "source": [
    "dict.update(dict_localisation)"
   ]
  },
  {
   "cell_type": "code",
   "execution_count": 36,
   "metadata": {},
   "outputs": [
    {
     "data": {
      "text/plain": [
       "{'area': [21],\n",
       " 'rooms': [1],\n",
       " 'district_10': [0],\n",
       " 'district_11': [0],\n",
       " 'district_12': [0],\n",
       " 'district_13': [0],\n",
       " 'district_14': [0],\n",
       " 'district_15': [0],\n",
       " 'district_16': [0],\n",
       " 'district_17': [0],\n",
       " 'district_18': [0],\n",
       " 'district_19': [0],\n",
       " 'district_2': [0],\n",
       " 'district_20': [0],\n",
       " 'district_3': [0],\n",
       " 'district_4': [1],\n",
       " 'district_5': [0],\n",
       " 'district_6': [0],\n",
       " 'district_7': [0],\n",
       " 'district_8': [0],\n",
       " 'district_9': [0]}"
      ]
     },
     "execution_count": 36,
     "metadata": {},
     "output_type": "execute_result"
    }
   ],
   "source": [
    "dict"
   ]
  },
  {
   "cell_type": "code",
   "execution_count": 37,
   "metadata": {},
   "outputs": [
    {
     "data": {
      "text/html": [
       "<div>\n",
       "<style scoped>\n",
       "    .dataframe tbody tr th:only-of-type {\n",
       "        vertical-align: middle;\n",
       "    }\n",
       "\n",
       "    .dataframe tbody tr th {\n",
       "        vertical-align: top;\n",
       "    }\n",
       "\n",
       "    .dataframe thead th {\n",
       "        text-align: right;\n",
       "    }\n",
       "</style>\n",
       "<table border=\"1\" class=\"dataframe\">\n",
       "  <thead>\n",
       "    <tr style=\"text-align: right;\">\n",
       "      <th></th>\n",
       "      <th>area</th>\n",
       "      <th>rooms</th>\n",
       "      <th>district_10</th>\n",
       "      <th>district_11</th>\n",
       "      <th>district_12</th>\n",
       "      <th>district_13</th>\n",
       "      <th>district_14</th>\n",
       "      <th>district_15</th>\n",
       "      <th>district_16</th>\n",
       "      <th>district_17</th>\n",
       "      <th>...</th>\n",
       "      <th>district_19</th>\n",
       "      <th>district_2</th>\n",
       "      <th>district_20</th>\n",
       "      <th>district_3</th>\n",
       "      <th>district_4</th>\n",
       "      <th>district_5</th>\n",
       "      <th>district_6</th>\n",
       "      <th>district_7</th>\n",
       "      <th>district_8</th>\n",
       "      <th>district_9</th>\n",
       "    </tr>\n",
       "  </thead>\n",
       "  <tbody>\n",
       "    <tr>\n",
       "      <th>0</th>\n",
       "      <td>21</td>\n",
       "      <td>1</td>\n",
       "      <td>0</td>\n",
       "      <td>0</td>\n",
       "      <td>0</td>\n",
       "      <td>0</td>\n",
       "      <td>0</td>\n",
       "      <td>0</td>\n",
       "      <td>0</td>\n",
       "      <td>0</td>\n",
       "      <td>...</td>\n",
       "      <td>0</td>\n",
       "      <td>0</td>\n",
       "      <td>0</td>\n",
       "      <td>0</td>\n",
       "      <td>1</td>\n",
       "      <td>0</td>\n",
       "      <td>0</td>\n",
       "      <td>0</td>\n",
       "      <td>0</td>\n",
       "      <td>0</td>\n",
       "    </tr>\n",
       "  </tbody>\n",
       "</table>\n",
       "<p>1 rows × 21 columns</p>\n",
       "</div>"
      ],
      "text/plain": [
       "   area  rooms  district_10  district_11  district_12  district_13  \\\n",
       "0    21      1            0            0            0            0   \n",
       "\n",
       "   district_14  district_15  district_16  district_17     ...      \\\n",
       "0            0            0            0            0     ...       \n",
       "\n",
       "   district_19  district_2  district_20  district_3  district_4  district_5  \\\n",
       "0            0           0            0           0           1           0   \n",
       "\n",
       "   district_6  district_7  district_8  district_9  \n",
       "0           0           0           0           0  \n",
       "\n",
       "[1 rows x 21 columns]"
      ]
     },
     "execution_count": 37,
     "metadata": {},
     "output_type": "execute_result"
    }
   ],
   "source": [
    "df_pred = pd.DataFrame(dict)\n",
    "df_pred"
   ]
  },
  {
   "cell_type": "code",
   "execution_count": 38,
   "metadata": {},
   "outputs": [],
   "source": [
    "X_new = df_pred.values"
   ]
  },
  {
   "cell_type": "code",
   "execution_count": 39,
   "metadata": {},
   "outputs": [
    {
     "data": {
      "text/plain": [
       "array([[21,  1,  0,  0,  0,  0,  0,  0,  0,  0,  0,  0,  0,  0,  0,  1,\n",
       "         0,  0,  0,  0,  0]])"
      ]
     },
     "execution_count": 39,
     "metadata": {},
     "output_type": "execute_result"
    }
   ],
   "source": [
    "X_new"
   ]
  },
  {
   "cell_type": "markdown",
   "metadata": {},
   "source": [
    "### Prediction\n",
    "Test avec l'input <br>\n",
    "![photo d'appartement](https://mmf.logic-immo.com/mmf/ads/photo-prop-800x600/c92/a/a50f3829-eb6a-4b79-b16d-44b5cedb5c9b.jpg)"
   ]
  },
  {
   "cell_type": "code",
   "execution_count": 40,
   "metadata": {},
   "outputs": [],
   "source": [
    "new_pred2 = grid.best_estimator_.predict(X_new)"
   ]
  },
  {
   "cell_type": "code",
   "execution_count": 41,
   "metadata": {},
   "outputs": [
    {
     "data": {
      "text/plain": [
       "330051"
      ]
     },
     "execution_count": 41,
     "metadata": {},
     "output_type": "execute_result"
    }
   ],
   "source": [
    "int(np.exp(new_pred2[0]))"
   ]
  },
  {
   "cell_type": "code",
   "execution_count": 42,
   "metadata": {},
   "outputs": [],
   "source": [
    "# model = pickle.load(open('realestate_model', 'rb'))"
   ]
  }
 ],
 "metadata": {
  "kernelspec": {
   "display_name": "Python 3",
   "language": "python",
   "name": "python3"
  },
  "language_info": {
   "codemirror_mode": {
    "name": "ipython",
    "version": 3
   },
   "file_extension": ".py",
   "mimetype": "text/x-python",
   "name": "python",
   "nbconvert_exporter": "python",
   "pygments_lexer": "ipython3",
   "version": "3.7.6"
  }
 },
 "nbformat": 4,
 "nbformat_minor": 2
}
