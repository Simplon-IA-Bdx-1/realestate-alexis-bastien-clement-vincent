{
 "cells": [
  {
   "cell_type": "markdown",
   "metadata": {},
   "source": [
    "## Analyse datas bellesdemeures.com"
   ]
  },
  {
   "cell_type": "code",
   "execution_count": 1,
   "metadata": {},
   "outputs": [],
   "source": [
    "import pandas as pd\n",
    "import matplotlib.pyplot as plt\n",
    "import seaborn as sns\n",
    "import numpy as np"
   ]
  },
  {
   "cell_type": "code",
   "execution_count": 2,
   "metadata": {},
   "outputs": [],
   "source": [
    "data_full = pd.read_csv(\"immos_bx_2020-01-19.csv\")"
   ]
  },
  {
   "cell_type": "code",
   "execution_count": 3,
   "metadata": {},
   "outputs": [
    {
     "data": {
      "text/plain": [
       "(744, 13)"
      ]
     },
     "execution_count": 3,
     "metadata": {},
     "output_type": "execute_result"
    }
   ],
   "source": [
    "data_full.shape"
   ]
  },
  {
   "cell_type": "code",
   "execution_count": 4,
   "metadata": {},
   "outputs": [
    {
     "data": {
      "text/html": [
       "<div>\n",
       "<style scoped>\n",
       "    .dataframe tbody tr th:only-of-type {\n",
       "        vertical-align: middle;\n",
       "    }\n",
       "\n",
       "    .dataframe tbody tr th {\n",
       "        vertical-align: top;\n",
       "    }\n",
       "\n",
       "    .dataframe thead th {\n",
       "        text-align: right;\n",
       "    }\n",
       "</style>\n",
       "<table border=\"1\" class=\"dataframe\">\n",
       "  <thead>\n",
       "    <tr style=\"text-align: right;\">\n",
       "      <th></th>\n",
       "      <th>surface</th>\n",
       "      <th>field_surface</th>\n",
       "      <th>rooms</th>\n",
       "      <th>bedrooms</th>\n",
       "      <th>balcony</th>\n",
       "      <th>parking</th>\n",
       "    </tr>\n",
       "  </thead>\n",
       "  <tbody>\n",
       "    <tr>\n",
       "      <td>count</td>\n",
       "      <td>740.000000</td>\n",
       "      <td>2.760000e+02</td>\n",
       "      <td>732.000000</td>\n",
       "      <td>736.000000</td>\n",
       "      <td>100.000000</td>\n",
       "      <td>166.000000</td>\n",
       "    </tr>\n",
       "    <tr>\n",
       "      <td>mean</td>\n",
       "      <td>246.082432</td>\n",
       "      <td>4.499175e+04</td>\n",
       "      <td>6.900273</td>\n",
       "      <td>4.230978</td>\n",
       "      <td>1.170000</td>\n",
       "      <td>2.265060</td>\n",
       "    </tr>\n",
       "    <tr>\n",
       "      <td>std</td>\n",
       "      <td>258.447855</td>\n",
       "      <td>1.437938e+05</td>\n",
       "      <td>3.863208</td>\n",
       "      <td>2.082232</td>\n",
       "      <td>0.472582</td>\n",
       "      <td>3.191216</td>\n",
       "    </tr>\n",
       "    <tr>\n",
       "      <td>min</td>\n",
       "      <td>56.000000</td>\n",
       "      <td>2.200000e+01</td>\n",
       "      <td>2.000000</td>\n",
       "      <td>1.000000</td>\n",
       "      <td>1.000000</td>\n",
       "      <td>1.000000</td>\n",
       "    </tr>\n",
       "    <tr>\n",
       "      <td>25%</td>\n",
       "      <td>126.750000</td>\n",
       "      <td>1.990000e+02</td>\n",
       "      <td>5.000000</td>\n",
       "      <td>3.000000</td>\n",
       "      <td>1.000000</td>\n",
       "      <td>1.000000</td>\n",
       "    </tr>\n",
       "    <tr>\n",
       "      <td>50%</td>\n",
       "      <td>172.000000</td>\n",
       "      <td>5.450000e+02</td>\n",
       "      <td>6.000000</td>\n",
       "      <td>4.000000</td>\n",
       "      <td>1.000000</td>\n",
       "      <td>2.000000</td>\n",
       "    </tr>\n",
       "    <tr>\n",
       "      <td>75%</td>\n",
       "      <td>260.000000</td>\n",
       "      <td>9.850000e+03</td>\n",
       "      <td>8.000000</td>\n",
       "      <td>5.000000</td>\n",
       "      <td>1.000000</td>\n",
       "      <td>2.000000</td>\n",
       "    </tr>\n",
       "    <tr>\n",
       "      <td>max</td>\n",
       "      <td>3200.000000</td>\n",
       "      <td>1.200000e+06</td>\n",
       "      <td>30.000000</td>\n",
       "      <td>19.000000</td>\n",
       "      <td>4.000000</td>\n",
       "      <td>36.000000</td>\n",
       "    </tr>\n",
       "  </tbody>\n",
       "</table>\n",
       "</div>"
      ],
      "text/plain": [
       "           surface  field_surface       rooms    bedrooms     balcony  \\\n",
       "count   740.000000   2.760000e+02  732.000000  736.000000  100.000000   \n",
       "mean    246.082432   4.499175e+04    6.900273    4.230978    1.170000   \n",
       "std     258.447855   1.437938e+05    3.863208    2.082232    0.472582   \n",
       "min      56.000000   2.200000e+01    2.000000    1.000000    1.000000   \n",
       "25%     126.750000   1.990000e+02    5.000000    3.000000    1.000000   \n",
       "50%     172.000000   5.450000e+02    6.000000    4.000000    1.000000   \n",
       "75%     260.000000   9.850000e+03    8.000000    5.000000    1.000000   \n",
       "max    3200.000000   1.200000e+06   30.000000   19.000000    4.000000   \n",
       "\n",
       "          parking  \n",
       "count  166.000000  \n",
       "mean     2.265060  \n",
       "std      3.191216  \n",
       "min      1.000000  \n",
       "25%      1.000000  \n",
       "50%      2.000000  \n",
       "75%      2.000000  \n",
       "max     36.000000  "
      ]
     },
     "execution_count": 4,
     "metadata": {},
     "output_type": "execute_result"
    }
   ],
   "source": [
    "data_full.describe()"
   ]
  },
  {
   "cell_type": "code",
   "execution_count": 5,
   "metadata": {},
   "outputs": [
    {
     "data": {
      "text/html": [
       "<div>\n",
       "<style scoped>\n",
       "    .dataframe tbody tr th:only-of-type {\n",
       "        vertical-align: middle;\n",
       "    }\n",
       "\n",
       "    .dataframe tbody tr th {\n",
       "        vertical-align: top;\n",
       "    }\n",
       "\n",
       "    .dataframe thead th {\n",
       "        text-align: right;\n",
       "    }\n",
       "</style>\n",
       "<table border=\"1\" class=\"dataframe\">\n",
       "  <thead>\n",
       "    <tr style=\"text-align: right;\">\n",
       "      <th></th>\n",
       "      <th>typeof</th>\n",
       "      <th>price</th>\n",
       "      <th>surface</th>\n",
       "      <th>field_surface</th>\n",
       "      <th>rooms</th>\n",
       "      <th>bedrooms</th>\n",
       "      <th>terrace</th>\n",
       "      <th>balcony</th>\n",
       "      <th>pool</th>\n",
       "      <th>parking</th>\n",
       "      <th>localisation</th>\n",
       "      <th>agency</th>\n",
       "      <th>link</th>\n",
       "    </tr>\n",
       "  </thead>\n",
       "  <tbody>\n",
       "    <tr>\n",
       "      <td>0</td>\n",
       "      <td>Hôtel particulier</td>\n",
       "      <td>1 596 500</td>\n",
       "      <td>315.0</td>\n",
       "      <td>220.0</td>\n",
       "      <td>10.0</td>\n",
       "      <td>6.0</td>\n",
       "      <td>NON</td>\n",
       "      <td>1.0</td>\n",
       "      <td>OUI</td>\n",
       "      <td>1.0</td>\n",
       "      <td>Bordeaux</td>\n",
       "      <td>GOOD WEEK</td>\n",
       "      <td>https://www.bellesdemeures.com/annonces/vente/...</td>\n",
       "    </tr>\n",
       "    <tr>\n",
       "      <td>1</td>\n",
       "      <td>Maison / Villa</td>\n",
       "      <td>1 400 000</td>\n",
       "      <td>250.0</td>\n",
       "      <td>270.0</td>\n",
       "      <td>7.0</td>\n",
       "      <td>5.0</td>\n",
       "      <td>NON</td>\n",
       "      <td>NaN</td>\n",
       "      <td>OUI</td>\n",
       "      <td>NaN</td>\n",
       "      <td>Bordeaux</td>\n",
       "      <td>MOVEMENT</td>\n",
       "      <td>https://www.bellesdemeures.com/annonces/vente/...</td>\n",
       "    </tr>\n",
       "    <tr>\n",
       "      <td>2</td>\n",
       "      <td>Appartement</td>\n",
       "      <td>693 000</td>\n",
       "      <td>102.0</td>\n",
       "      <td>NaN</td>\n",
       "      <td>3.0</td>\n",
       "      <td>2.0</td>\n",
       "      <td>NON</td>\n",
       "      <td>1.0</td>\n",
       "      <td>NON</td>\n",
       "      <td>NaN</td>\n",
       "      <td>Bordeaux</td>\n",
       "      <td>GRANGE DELMAS IMMOBILIER</td>\n",
       "      <td>https://www.bellesdemeures.com/annonces/vente/...</td>\n",
       "    </tr>\n",
       "    <tr>\n",
       "      <td>3</td>\n",
       "      <td>Maison / Villa</td>\n",
       "      <td>598 000</td>\n",
       "      <td>140.0</td>\n",
       "      <td>50.0</td>\n",
       "      <td>5.0</td>\n",
       "      <td>3.0</td>\n",
       "      <td>NON</td>\n",
       "      <td>NaN</td>\n",
       "      <td>NON</td>\n",
       "      <td>NaN</td>\n",
       "      <td>Bordeaux</td>\n",
       "      <td>BORDEAUX AND BEYOND</td>\n",
       "      <td>https://www.bellesdemeures.com/annonces/vente/...</td>\n",
       "    </tr>\n",
       "    <tr>\n",
       "      <td>4</td>\n",
       "      <td>Maison / Villa</td>\n",
       "      <td>1 325 000</td>\n",
       "      <td>740.0</td>\n",
       "      <td>15483.0</td>\n",
       "      <td>21.0</td>\n",
       "      <td>8.0</td>\n",
       "      <td>NON</td>\n",
       "      <td>NaN</td>\n",
       "      <td>OUI</td>\n",
       "      <td>NaN</td>\n",
       "      <td>Bordeaux</td>\n",
       "      <td>BORDEAUX AND BEYOND</td>\n",
       "      <td>https://www.bellesdemeures.com/annonces/vente/...</td>\n",
       "    </tr>\n",
       "  </tbody>\n",
       "</table>\n",
       "</div>"
      ],
      "text/plain": [
       "              typeof      price  surface  field_surface  rooms  bedrooms  \\\n",
       "0  Hôtel particulier  1 596 500    315.0          220.0   10.0       6.0   \n",
       "1     Maison / Villa  1 400 000    250.0          270.0    7.0       5.0   \n",
       "2        Appartement    693 000    102.0            NaN    3.0       2.0   \n",
       "3     Maison / Villa    598 000    140.0           50.0    5.0       3.0   \n",
       "4     Maison / Villa  1 325 000    740.0        15483.0   21.0       8.0   \n",
       "\n",
       "  terrace  balcony pool  parking localisation                    agency  \\\n",
       "0     NON      1.0  OUI      1.0     Bordeaux                 GOOD WEEK   \n",
       "1     NON      NaN  OUI      NaN     Bordeaux                  MOVEMENT   \n",
       "2     NON      1.0  NON      NaN     Bordeaux  GRANGE DELMAS IMMOBILIER   \n",
       "3     NON      NaN  NON      NaN     Bordeaux       BORDEAUX AND BEYOND   \n",
       "4     NON      NaN  OUI      NaN     Bordeaux       BORDEAUX AND BEYOND   \n",
       "\n",
       "                                                link  \n",
       "0  https://www.bellesdemeures.com/annonces/vente/...  \n",
       "1  https://www.bellesdemeures.com/annonces/vente/...  \n",
       "2  https://www.bellesdemeures.com/annonces/vente/...  \n",
       "3  https://www.bellesdemeures.com/annonces/vente/...  \n",
       "4  https://www.bellesdemeures.com/annonces/vente/...  "
      ]
     },
     "execution_count": 5,
     "metadata": {},
     "output_type": "execute_result"
    }
   ],
   "source": [
    "data_full.head()"
   ]
  },
  {
   "cell_type": "code",
   "execution_count": 6,
   "metadata": {},
   "outputs": [
    {
     "data": {
      "text/plain": [
       "array(['typeof', 'price', 'surface', 'field_surface', 'rooms', 'bedrooms',\n",
       "       'terrace', 'balcony', 'pool', 'parking', 'localisation', 'agency',\n",
       "       'link'], dtype=object)"
      ]
     },
     "execution_count": 6,
     "metadata": {},
     "output_type": "execute_result"
    }
   ],
   "source": [
    "columns = data_full.columns.values\n",
    "columns"
   ]
  },
  {
   "cell_type": "code",
   "execution_count": 7,
   "metadata": {},
   "outputs": [
    {
     "data": {
      "text/plain": [
       "typeof            object\n",
       "price             object\n",
       "surface          float64\n",
       "field_surface    float64\n",
       "rooms            float64\n",
       "bedrooms         float64\n",
       "terrace           object\n",
       "balcony          float64\n",
       "pool              object\n",
       "parking          float64\n",
       "localisation      object\n",
       "agency            object\n",
       "link              object\n",
       "dtype: object"
      ]
     },
     "execution_count": 7,
     "metadata": {},
     "output_type": "execute_result"
    }
   ],
   "source": [
    "data_full.dtypes"
   ]
  },
  {
   "cell_type": "markdown",
   "metadata": {},
   "source": [
    "La colonne price est considérée comme non numérique , il faut changer son format"
   ]
  },
  {
   "cell_type": "markdown",
   "metadata": {},
   "source": [
    "### Analyse price et modification type colonne\n",
    " Modification du format des prix , changement de la colonne price en numerique et distribution"
   ]
  },
  {
   "cell_type": "code",
   "execution_count": 8,
   "metadata": {},
   "outputs": [],
   "source": [
    "# De 1,7M à 3M\n",
    "# + de 10M\n",
    "# De 3M à 10M\n",
    "# De 3M à 10M\n",
    "\n",
    "data_full.loc[data_full['price'] == 'De 1,7M à 3M', 'price'] = (1700000+3000000)/2\n",
    "data_full.loc[data_full['price'] == '+ de 10M', 'price'] = 10000000\n",
    "data_full.loc[data_full['price'] == 'De 3M à 10M', 'price'] = (3000000+10000000)/2"
   ]
  },
  {
   "cell_type": "code",
   "execution_count": 9,
   "metadata": {},
   "outputs": [
    {
     "data": {
      "text/plain": [
       "0      1596500\n",
       "1      1400000\n",
       "2       693000\n",
       "3       598000\n",
       "4      1325000\n",
       "        ...   \n",
       "739    1415000\n",
       "740    1250000\n",
       "741    1200000\n",
       "742    1200000\n",
       "743     997500\n",
       "Name: price, Length: 744, dtype: object"
      ]
     },
     "execution_count": 9,
     "metadata": {},
     "output_type": "execute_result"
    }
   ],
   "source": [
    "# les prix sont sous la forme 1 590 000 , on enleve les espaces\n",
    "data_full['price'] = data_full['price'].replace('\\s+', '', regex=True)\n",
    "data_full['price']"
   ]
  },
  {
   "cell_type": "code",
   "execution_count": 10,
   "metadata": {},
   "outputs": [],
   "source": [
    "data_full['price'] = pd.to_numeric(data_full['price'])"
   ]
  },
  {
   "cell_type": "code",
   "execution_count": 11,
   "metadata": {},
   "outputs": [
    {
     "data": {
      "text/plain": [
       "dtype('float64')"
      ]
     },
     "execution_count": 11,
     "metadata": {},
     "output_type": "execute_result"
    }
   ],
   "source": [
    "data_full['price'].dtypes"
   ]
  },
  {
   "cell_type": "code",
   "execution_count": 12,
   "metadata": {},
   "outputs": [
    {
     "data": {
      "text/plain": [
       "0"
      ]
     },
     "execution_count": 12,
     "metadata": {},
     "output_type": "execute_result"
    }
   ],
   "source": [
    "data_full.price.isna().sum()"
   ]
  },
  {
   "cell_type": "code",
   "execution_count": 13,
   "metadata": {},
   "outputs": [
    {
     "data": {
      "text/plain": [
       "count    7.440000e+02\n",
       "mean     1.182056e+06\n",
       "std      9.898925e+05\n",
       "min      3.990000e+05\n",
       "25%      7.139000e+05\n",
       "50%      8.955000e+05\n",
       "75%      1.325000e+06\n",
       "max      1.600000e+07\n",
       "Name: price, dtype: float64"
      ]
     },
     "execution_count": 13,
     "metadata": {},
     "output_type": "execute_result"
    }
   ],
   "source": [
    "data_full['price'].describe()"
   ]
  },
  {
   "cell_type": "code",
   "execution_count": 14,
   "metadata": {},
   "outputs": [
    {
     "data": {
      "text/plain": [
       "<matplotlib.axes._subplots.AxesSubplot at 0x163f044a088>"
      ]
     },
     "execution_count": 14,
     "metadata": {},
     "output_type": "execute_result"
    },
    {
     "data": {
      "image/png": "[encoded data removed]",
      "text/plain": [
       "<Figure size 432x288 with 1 Axes>"
      ]
     },
     "metadata": {
      "needs_background": "light"
     },
     "output_type": "display_data"
    }
   ],
   "source": [
    "sns.distplot(data_full['price'])"
   ]
  },
  {
   "cell_type": "code",
   "execution_count": 15,
   "metadata": {},
   "outputs": [
    {
     "data": {
      "text/plain": [
       "<matplotlib.axes._subplots.AxesSubplot at 0x163f182a288>"
      ]
     },
     "execution_count": 15,
     "metadata": {},
     "output_type": "execute_result"
    },
    {
     "data": {
      "image/png": "[encoded data removed]",
      "text/plain": [
       "<Figure size 432x288 with 1 Axes>"
      ]
     },
     "metadata": {
      "needs_background": "light"
     },
     "output_type": "display_data"
    }
   ],
   "source": [
    "data_full['price'] = np.log(data_full['price'])\n",
    "sns.distplot(data_full['price'])"
   ]
  },
  {
   "cell_type": "markdown",
   "metadata": {},
   "source": [
    "### Division des datas en valeurs numériques ( quantitative ) et catégorielles ( qualititative ) "
   ]
  },
  {
   "cell_type": "code",
   "execution_count": 16,
   "metadata": {},
   "outputs": [
    {
     "data": {
      "text/plain": [
       "typeof            object\n",
       "price            float64\n",
       "surface          float64\n",
       "field_surface    float64\n",
       "rooms            float64\n",
       "bedrooms         float64\n",
       "terrace           object\n",
       "balcony          float64\n",
       "pool              object\n",
       "parking          float64\n",
       "localisation      object\n",
       "agency            object\n",
       "link              object\n",
       "dtype: object"
      ]
     },
     "execution_count": 16,
     "metadata": {},
     "output_type": "execute_result"
    }
   ],
   "source": [
    "data_full.dtypes"
   ]
  },
  {
   "cell_type": "code",
   "execution_count": 17,
   "metadata": {},
   "outputs": [
    {
     "name": "stdout",
     "output_type": "stream",
     "text": [
      "Index(['typeof', 'terrace', 'pool', 'localisation', 'agency', 'link'], dtype='object')\n"
     ]
    }
   ],
   "source": [
    "qual = data_full.select_dtypes(include=['object']).columns\n",
    "print(qual)"
   ]
  },
  {
   "cell_type": "code",
   "execution_count": 18,
   "metadata": {},
   "outputs": [
    {
     "name": "stdout",
     "output_type": "stream",
     "text": [
      "Index(['surface', 'field_surface', 'rooms', 'bedrooms', 'balcony', 'parking'], dtype='object')\n"
     ]
    }
   ],
   "source": [
    "quan = data_full.select_dtypes(include=['int64','float64']).columns\n",
    "quan = quan.drop(pd.Index(['price']))\n",
    "print(quan)"
   ]
  },
  {
   "cell_type": "code",
   "execution_count": 19,
   "metadata": {},
   "outputs": [
    {
     "name": "stdout",
     "output_type": "stream",
     "text": [
      "6 catégorielles et 6 numériques\n"
     ]
    }
   ],
   "source": [
    "print(f\"{len(qual)} catégorielles et {len(quan)} numériques\")"
   ]
  },
  {
   "cell_type": "code",
   "execution_count": 20,
   "metadata": {},
   "outputs": [
    {
     "data": {
      "text/html": [
       "<div>\n",
       "<style scoped>\n",
       "    .dataframe tbody tr th:only-of-type {\n",
       "        vertical-align: middle;\n",
       "    }\n",
       "\n",
       "    .dataframe tbody tr th {\n",
       "        vertical-align: top;\n",
       "    }\n",
       "\n",
       "    .dataframe thead th {\n",
       "        text-align: right;\n",
       "    }\n",
       "</style>\n",
       "<table border=\"1\" class=\"dataframe\">\n",
       "  <thead>\n",
       "    <tr style=\"text-align: right;\">\n",
       "      <th></th>\n",
       "      <th>price</th>\n",
       "      <th>surface</th>\n",
       "      <th>field_surface</th>\n",
       "      <th>rooms</th>\n",
       "      <th>bedrooms</th>\n",
       "      <th>balcony</th>\n",
       "      <th>parking</th>\n",
       "    </tr>\n",
       "  </thead>\n",
       "  <tbody>\n",
       "    <tr>\n",
       "      <td>price</td>\n",
       "      <td>1.000000</td>\n",
       "      <td>0.694578</td>\n",
       "      <td>0.475977</td>\n",
       "      <td>0.641703</td>\n",
       "      <td>0.537328</td>\n",
       "      <td>-0.046074</td>\n",
       "      <td>0.407087</td>\n",
       "    </tr>\n",
       "    <tr>\n",
       "      <td>surface</td>\n",
       "      <td>0.694578</td>\n",
       "      <td>1.000000</td>\n",
       "      <td>0.601611</td>\n",
       "      <td>0.793105</td>\n",
       "      <td>0.666939</td>\n",
       "      <td>-0.061678</td>\n",
       "      <td>0.351546</td>\n",
       "    </tr>\n",
       "    <tr>\n",
       "      <td>field_surface</td>\n",
       "      <td>0.475977</td>\n",
       "      <td>0.601611</td>\n",
       "      <td>1.000000</td>\n",
       "      <td>0.456165</td>\n",
       "      <td>0.331146</td>\n",
       "      <td>0.036158</td>\n",
       "      <td>0.404397</td>\n",
       "    </tr>\n",
       "    <tr>\n",
       "      <td>rooms</td>\n",
       "      <td>0.641703</td>\n",
       "      <td>0.793105</td>\n",
       "      <td>0.456165</td>\n",
       "      <td>1.000000</td>\n",
       "      <td>0.786375</td>\n",
       "      <td>-0.016083</td>\n",
       "      <td>0.416682</td>\n",
       "    </tr>\n",
       "    <tr>\n",
       "      <td>bedrooms</td>\n",
       "      <td>0.537328</td>\n",
       "      <td>0.666939</td>\n",
       "      <td>0.331146</td>\n",
       "      <td>0.786375</td>\n",
       "      <td>1.000000</td>\n",
       "      <td>0.002229</td>\n",
       "      <td>0.143176</td>\n",
       "    </tr>\n",
       "    <tr>\n",
       "      <td>balcony</td>\n",
       "      <td>-0.046074</td>\n",
       "      <td>-0.061678</td>\n",
       "      <td>0.036158</td>\n",
       "      <td>-0.016083</td>\n",
       "      <td>0.002229</td>\n",
       "      <td>1.000000</td>\n",
       "      <td>-0.180267</td>\n",
       "    </tr>\n",
       "    <tr>\n",
       "      <td>parking</td>\n",
       "      <td>0.407087</td>\n",
       "      <td>0.351546</td>\n",
       "      <td>0.404397</td>\n",
       "      <td>0.416682</td>\n",
       "      <td>0.143176</td>\n",
       "      <td>-0.180267</td>\n",
       "      <td>1.000000</td>\n",
       "    </tr>\n",
       "  </tbody>\n",
       "</table>\n",
       "</div>"
      ],
      "text/plain": [
       "                  price   surface  field_surface     rooms  bedrooms  \\\n",
       "price          1.000000  0.694578       0.475977  0.641703  0.537328   \n",
       "surface        0.694578  1.000000       0.601611  0.793105  0.666939   \n",
       "field_surface  0.475977  0.601611       1.000000  0.456165  0.331146   \n",
       "rooms          0.641703  0.793105       0.456165  1.000000  0.786375   \n",
       "bedrooms       0.537328  0.666939       0.331146  0.786375  1.000000   \n",
       "balcony       -0.046074 -0.061678       0.036158 -0.016083  0.002229   \n",
       "parking        0.407087  0.351546       0.404397  0.416682  0.143176   \n",
       "\n",
       "                balcony   parking  \n",
       "price         -0.046074  0.407087  \n",
       "surface       -0.061678  0.351546  \n",
       "field_surface  0.036158  0.404397  \n",
       "rooms         -0.016083  0.416682  \n",
       "bedrooms       0.002229  0.143176  \n",
       "balcony        1.000000 -0.180267  \n",
       "parking       -0.180267  1.000000  "
      ]
     },
     "execution_count": 20,
     "metadata": {},
     "output_type": "execute_result"
    }
   ],
   "source": [
    "corrmat = data_full.corr()\n",
    "corrmat"
   ]
  },
  {
   "cell_type": "markdown",
   "metadata": {},
   "source": [
    "## Analyse features numériques"
   ]
  },
  {
   "cell_type": "code",
   "execution_count": 21,
   "metadata": {},
   "outputs": [
    {
     "data": {
      "text/plain": [
       "(744, 13)"
      ]
     },
     "execution_count": 21,
     "metadata": {},
     "output_type": "execute_result"
    }
   ],
   "source": [
    "data_full.shape"
   ]
  },
  {
   "cell_type": "code",
   "execution_count": 22,
   "metadata": {
    "scrolled": false
   },
   "outputs": [
    {
     "data": {
      "image/png": "[encoded data removed]",
      "text/plain": [
       "<Figure size 432x288 with 1 Axes>"
      ]
     },
     "metadata": {
      "needs_background": "light"
     },
     "output_type": "display_data"
    },
    {
     "data": {
      "image/png": "[encoded data removed]",
      "text/plain": [
       "<Figure size 432x288 with 1 Axes>"
      ]
     },
     "metadata": {
      "needs_background": "light"
     },
     "output_type": "display_data"
    },
    {
     "data": {
      "image/png": "[encoded data removed]",
      "text/plain": [
       "<Figure size 432x288 with 1 Axes>"
      ]
     },
     "metadata": {
      "needs_background": "light"
     },
     "output_type": "display_data"
    },
    {
     "data": {
      "image/png": "[encoded data removed]",
      "text/plain": [
       "<Figure size 432x288 with 1 Axes>"
      ]
     },
     "metadata": {
      "needs_background": "light"
     },
     "output_type": "display_data"
    },
    {
     "data": {
      "image/png": "[encoded data removed]",
      "text/plain": [
       "<Figure size 432x288 with 1 Axes>"
      ]
     },
     "metadata": {
      "needs_background": "light"
     },
     "output_type": "display_data"
    },
    {
     "data": {
      "image/png": "[encoded data removed]",
      "text/plain": [
       "<Figure size 432x288 with 1 Axes>"
      ]
     },
     "metadata": {
      "needs_background": "light"
     },
     "output_type": "display_data"
    }
   ],
   "source": [
    "for feature in data_full[quan]:\n",
    "    sns.regplot(x=feature,y='price', data=data_full)\n",
    "    plt.show()"
   ]
  },
  {
   "cell_type": "markdown",
   "metadata": {},
   "source": [
    "### Certaines features semblent avoir des outliers , Analyse une par une\n",
    "\n",
    "* #### Surface\n"
   ]
  },
  {
   "cell_type": "code",
   "execution_count": 23,
   "metadata": {},
   "outputs": [
    {
     "name": "stdout",
     "output_type": "stream",
     "text": [
      "corr : 0.69\n"
     ]
    },
    {
     "data": {
      "image/png": "[encoded data removed]",
      "text/plain": [
       "<Figure size 432x288 with 1 Axes>"
      ]
     },
     "metadata": {
      "needs_background": "light"
     },
     "output_type": "display_data"
    }
   ],
   "source": [
    "sns.regplot(x='surface',y='price', data=data_full)\n",
    "print(f\"corr : {round(data_full['surface'].corr(data_full['price']),2)}\")"
   ]
  },
  {
   "cell_type": "code",
   "execution_count": 24,
   "metadata": {},
   "outputs": [
    {
     "name": "stdout",
     "output_type": "stream",
     "text": [
      "corr : 0.71\n"
     ]
    },
    {
     "data": {
      "image/png": "[encoded data removed]",
      "text/plain": [
       "<Figure size 432x288 with 1 Axes>"
      ]
     },
     "metadata": {
      "needs_background": "light"
     },
     "output_type": "display_data"
    }
   ],
   "source": [
    "data_full = data_full.drop(data_full[(data_full['surface']>2900)].index).reset_index(drop=True)\n",
    "sns.regplot(x='surface',y='price', data=data_full)\n",
    "print(f\"corr : {round(data_full['surface'].corr(data_full['price']),2)}\")"
   ]
  },
  {
   "cell_type": "code",
   "execution_count": 25,
   "metadata": {},
   "outputs": [
    {
     "data": {
      "text/plain": [
       "(742, 13)"
      ]
     },
     "execution_count": 25,
     "metadata": {},
     "output_type": "execute_result"
    }
   ],
   "source": [
    "data_full.shape"
   ]
  },
  {
   "cell_type": "markdown",
   "metadata": {},
   "source": [
    "* #### Field_surface"
   ]
  },
  {
   "cell_type": "code",
   "execution_count": 26,
   "metadata": {},
   "outputs": [
    {
     "name": "stdout",
     "output_type": "stream",
     "text": [
      "corr : 0.39\n"
     ]
    },
    {
     "data": {
      "image/png": "[encoded data removed]",
      "text/plain": [
       "<Figure size 432x288 with 1 Axes>"
      ]
     },
     "metadata": {
      "needs_background": "light"
     },
     "output_type": "display_data"
    }
   ],
   "source": [
    "sns.regplot(x='field_surface',y='price', data=data_full)\n",
    "print(f\"corr : {round(data_full['field_surface'].corr(data_full['price']),2)}\")"
   ]
  },
  {
   "cell_type": "code",
   "execution_count": 27,
   "metadata": {},
   "outputs": [
    {
     "name": "stdout",
     "output_type": "stream",
     "text": [
      "corr : 0.43\n"
     ]
    },
    {
     "data": {
      "image/png": "[encoded data removed]",
      "text/plain": [
       "<Figure size 432x288 with 1 Axes>"
      ]
     },
     "metadata": {
      "needs_background": "light"
     },
     "output_type": "display_data"
    }
   ],
   "source": [
    "data_full = data_full.drop(data_full[(data_full['field_surface']>800000)].index).reset_index(drop=True)\n",
    "sns.regplot(x='field_surface',y='price', data=data_full)\n",
    "print(f\"corr : {round(data_full['field_surface'].corr(data_full['price']),2)}\")"
   ]
  },
  {
   "cell_type": "markdown",
   "metadata": {},
   "source": [
    "On a supprimé 4 outliers"
   ]
  },
  {
   "cell_type": "markdown",
   "metadata": {},
   "source": [
    "## Traitement des valeurs manquantes dans le dataset"
   ]
  },
  {
   "cell_type": "code",
   "execution_count": 28,
   "metadata": {},
   "outputs": [
    {
     "data": {
      "text/plain": [
       "(740, 13)"
      ]
     },
     "execution_count": 28,
     "metadata": {},
     "output_type": "execute_result"
    }
   ],
   "source": [
    "data_full.shape"
   ]
  },
  {
   "cell_type": "code",
   "execution_count": 29,
   "metadata": {},
   "outputs": [],
   "source": [
    "def hasnan(dataset):\n",
    "    hasNAN = round((dataset.isnull().sum() / len(dataset)) * 100,2)  # toutes les features et leurs nombres de zéros ( % )\n",
    "    hasNAN = hasNAN[hasNAN > 0] # On enleve celles qui n'ont pas de valeurs nulles \n",
    "    hasNAN = hasNAN.sort_values(ascending=False)\n",
    "    missing_values = pd.DataFrame({'Missing Ratio': hasNAN})\n",
    "    return missing_values"
   ]
  },
  {
   "cell_type": "code",
   "execution_count": 30,
   "metadata": {},
   "outputs": [
    {
     "data": {
      "text/html": [
       "<div>\n",
       "<style scoped>\n",
       "    .dataframe tbody tr th:only-of-type {\n",
       "        vertical-align: middle;\n",
       "    }\n",
       "\n",
       "    .dataframe tbody tr th {\n",
       "        vertical-align: top;\n",
       "    }\n",
       "\n",
       "    .dataframe thead th {\n",
       "        text-align: right;\n",
       "    }\n",
       "</style>\n",
       "<table border=\"1\" class=\"dataframe\">\n",
       "  <thead>\n",
       "    <tr style=\"text-align: right;\">\n",
       "      <th></th>\n",
       "      <th>Missing Ratio</th>\n",
       "    </tr>\n",
       "  </thead>\n",
       "  <tbody>\n",
       "    <tr>\n",
       "      <td>balcony</td>\n",
       "      <td>86.49</td>\n",
       "    </tr>\n",
       "    <tr>\n",
       "      <td>parking</td>\n",
       "      <td>77.57</td>\n",
       "    </tr>\n",
       "    <tr>\n",
       "      <td>field_surface</td>\n",
       "      <td>63.24</td>\n",
       "    </tr>\n",
       "    <tr>\n",
       "      <td>rooms</td>\n",
       "      <td>1.49</td>\n",
       "    </tr>\n",
       "    <tr>\n",
       "      <td>bedrooms</td>\n",
       "      <td>0.81</td>\n",
       "    </tr>\n",
       "    <tr>\n",
       "      <td>surface</td>\n",
       "      <td>0.54</td>\n",
       "    </tr>\n",
       "  </tbody>\n",
       "</table>\n",
       "</div>"
      ],
      "text/plain": [
       "               Missing Ratio\n",
       "balcony                86.49\n",
       "parking                77.57\n",
       "field_surface          63.24\n",
       "rooms                   1.49\n",
       "bedrooms                0.81\n",
       "surface                 0.54"
      ]
     },
     "execution_count": 30,
     "metadata": {},
     "output_type": "execute_result"
    }
   ],
   "source": [
    "hasnan(data_full)"
   ]
  },
  {
   "cell_type": "markdown",
   "metadata": {},
   "source": [
    "### field_surface"
   ]
  },
  {
   "cell_type": "code",
   "execution_count": 31,
   "metadata": {},
   "outputs": [
    {
     "data": {
      "text/plain": [
       "468"
      ]
     },
     "execution_count": 31,
     "metadata": {},
     "output_type": "execute_result"
    }
   ],
   "source": [
    "data_full['field_surface'].isnull().sum()"
   ]
  },
  {
   "cell_type": "markdown",
   "metadata": {},
   "source": [
    "63% des biens n'ont pas de surface du terrain renseigné , certains sont des appartements"
   ]
  },
  {
   "cell_type": "code",
   "execution_count": 32,
   "metadata": {},
   "outputs": [
    {
     "data": {
      "text/plain": [
       "290"
      ]
     },
     "execution_count": 32,
     "metadata": {},
     "output_type": "execute_result"
    }
   ],
   "source": [
    "app_surface_null = data_full.loc[(data_full['typeof'] == 'Appartement') & (data_full['field_surface'].isnull())]\n",
    "len(app_surface_null)"
   ]
  },
  {
   "cell_type": "code",
   "execution_count": 33,
   "metadata": {},
   "outputs": [
    {
     "data": {
      "text/plain": [
       "178"
      ]
     },
     "execution_count": 33,
     "metadata": {},
     "output_type": "execute_result"
    }
   ],
   "source": [
    "other_surface_null = data_full.loc[(data_full['typeof'] != 'Appartement') & (data_full['field_surface'].isnull())]\n",
    "len(other_surface_null)"
   ]
  },
  {
   "cell_type": "markdown",
   "metadata": {},
   "source": [
    "178 batiments qui ne sont pas des appartements n'ont pas de surface indiqués , peut etre qu'ils ont un terrain mais dont la taille n'est pas indiquée. On va mettre tout a \" None \" étant donné que les terrains qui sont indiqués sont énormes , la moyenne ne devrait pas refleter une réalitée"
   ]
  },
  {
   "cell_type": "markdown",
   "metadata": {},
   "source": [
    "### rooms\n",
    "Analyse des biens dont le nombre de pièces n'est pas précisé"
   ]
  },
  {
   "cell_type": "code",
   "execution_count": 34,
   "metadata": {},
   "outputs": [
    {
     "data": {
      "text/plain": [
       "11"
      ]
     },
     "execution_count": 34,
     "metadata": {},
     "output_type": "execute_result"
    }
   ],
   "source": [
    "rooms_na = data_full.loc[data_full['rooms'].isnull()]\n",
    "len(rooms_na)"
   ]
  },
  {
   "cell_type": "code",
   "execution_count": 35,
   "metadata": {},
   "outputs": [
    {
     "data": {
      "text/plain": [
       "(740, 13)"
      ]
     },
     "execution_count": 35,
     "metadata": {},
     "output_type": "execute_result"
    }
   ],
   "source": [
    "data_full.shape"
   ]
  },
  {
   "cell_type": "markdown",
   "metadata": {},
   "source": [
    "Les biens dont le nombre de pièces n'est pas précisés et dont le prix de vente est important sont supprimés pour ne pas influer le modele ( ex : 1 piece , prix important ) , et on voit en parcourant certaines annonces que les biens ont 1 pièce"
   ]
  },
  {
   "cell_type": "code",
   "execution_count": 36,
   "metadata": {},
   "outputs": [
    {
     "name": "stdout",
     "output_type": "stream",
     "text": [
      "https://www.bellesdemeures.com/annonces/vente/tt-2-tb-1-pl-48327/153438049/\n",
      "https://www.bellesdemeures.com/annonces/vente/tt-2-tb-14-pl-48327/153462833/\n",
      "https://www.bellesdemeures.com/annonces/vente/tt-2-tb-2-pl-48321/151313183/\n",
      "https://www.bellesdemeures.com/annonces/vente/tt-2-tb-2-pl-48321/136016827/\n",
      "https://www.bellesdemeures.com/annonces/vente/tt-2-tb-2-pl-48321/151568733/\n",
      "https://www.bellesdemeures.com/annonces/vente/tt-2-tb-2-pl-48323/154950027/\n",
      "https://www.bellesdemeures.com/annonces/vente/tt-2-tb-2-pl-48322/144680989/\n",
      "https://www.bellesdemeures.com/annonces/vente/tt-2-tb-2-pl-48321/155354337/\n",
      "https://www.bellesdemeures.com/annonces/vente/tt-2-tb-2-pl-13950/154297815/\n",
      "https://www.bellesdemeures.com/annonces/vente/tt-2-tb-13-pl-13950/144014585/\n",
      "https://www.bellesdemeures.com/annonces/vente/tt-2-tb-13-pl-13950/144015353/\n"
     ]
    }
   ],
   "source": [
    "print(data_full.iloc[322]['link']) # 1 piece \n",
    "print(data_full.iloc[326]['link']) # On vire 1 piece 3.5M\n",
    "print(data_full.iloc[399]['link']) # 1 Piece \n",
    "print(data_full.iloc[442]['link']) # NA , trop cher , on vire \n",
    "print(data_full.iloc[446]['link']) # NA , trop cher , on vire \n",
    "print(data_full.iloc[472]['link']) # NA , trop cher , on vire \n",
    "print(data_full.iloc[505]['link']) # 1 piece \n",
    "print(data_full.iloc[509]['link']) # NA , trop cher , on vire \n",
    "print(data_full.iloc[690]['link']) # NA , on vire \n",
    "print(data_full.iloc[696]['link']) # NA , trop cher , on vire \n",
    "print(data_full.iloc[714]['link']) # NA , trop cher , on vire \n"
   ]
  },
  {
   "cell_type": "code",
   "execution_count": 37,
   "metadata": {},
   "outputs": [
    {
     "data": {
      "text/plain": [
       "(732, 13)"
      ]
     },
     "execution_count": 37,
     "metadata": {},
     "output_type": "execute_result"
    }
   ],
   "source": [
    "data_full.iloc[322, data_full.columns.get_loc('rooms')] = 1\n",
    "data_full.iloc[399, data_full.columns.get_loc('rooms')] = 1\n",
    "data_full.iloc[505, data_full.columns.get_loc('rooms')] = 1\n",
    "\n",
    "data_full = data_full.drop([326,442,446,472,509,690,696,714], axis=0)\n",
    "data_full.shape\n"
   ]
  },
  {
   "cell_type": "markdown",
   "metadata": {},
   "source": [
    "### bedrooms\n",
    "Analyse des biens dont le nombre de chambres n'est pas précisés"
   ]
  },
  {
   "cell_type": "code",
   "execution_count": 38,
   "metadata": {},
   "outputs": [
    {
     "data": {
      "text/plain": [
       "5"
      ]
     },
     "execution_count": 38,
     "metadata": {},
     "output_type": "execute_result"
    }
   ],
   "source": [
    "bedrooms_na = data_full.loc[data_full['bedrooms'].isnull()]\n",
    "len(bedrooms_na)"
   ]
  },
  {
   "cell_type": "code",
   "execution_count": 45,
   "metadata": {},
   "outputs": [
    {
     "data": {
      "text/html": [
       "<div>\n",
       "<style scoped>\n",
       "    .dataframe tbody tr th:only-of-type {\n",
       "        vertical-align: middle;\n",
       "    }\n",
       "\n",
       "    .dataframe tbody tr th {\n",
       "        vertical-align: top;\n",
       "    }\n",
       "\n",
       "    .dataframe thead th {\n",
       "        text-align: right;\n",
       "    }\n",
       "</style>\n",
       "<table border=\"1\" class=\"dataframe\">\n",
       "  <thead>\n",
       "    <tr style=\"text-align: right;\">\n",
       "      <th></th>\n",
       "      <th>typeof</th>\n",
       "      <th>price</th>\n",
       "      <th>surface</th>\n",
       "      <th>field_surface</th>\n",
       "      <th>rooms</th>\n",
       "      <th>bedrooms</th>\n",
       "      <th>terrace</th>\n",
       "      <th>balcony</th>\n",
       "      <th>pool</th>\n",
       "      <th>parking</th>\n",
       "      <th>localisation</th>\n",
       "      <th>agency</th>\n",
       "      <th>link</th>\n",
       "    </tr>\n",
       "  </thead>\n",
       "  <tbody>\n",
       "    <tr>\n",
       "      <td>322</td>\n",
       "      <td>Appartement</td>\n",
       "      <td>13.112313</td>\n",
       "      <td>73.0</td>\n",
       "      <td>NaN</td>\n",
       "      <td>1.0</td>\n",
       "      <td>NaN</td>\n",
       "      <td>OUI</td>\n",
       "      <td>NaN</td>\n",
       "      <td>NON</td>\n",
       "      <td>NaN</td>\n",
       "      <td>Bordeaux</td>\n",
       "      <td>Barnes Bordeaux</td>\n",
       "      <td>https://www.bellesdemeures.com/annonces/vente/...</td>\n",
       "    </tr>\n",
       "    <tr>\n",
       "      <td>435</td>\n",
       "      <td>Appartement</td>\n",
       "      <td>13.287878</td>\n",
       "      <td>110.0</td>\n",
       "      <td>NaN</td>\n",
       "      <td>4.0</td>\n",
       "      <td>NaN</td>\n",
       "      <td>NON</td>\n",
       "      <td>NaN</td>\n",
       "      <td>NON</td>\n",
       "      <td>NaN</td>\n",
       "      <td>Bordeaux</td>\n",
       "      <td>SCOUT HOME</td>\n",
       "      <td>https://www.bellesdemeures.com/annonces/vente/...</td>\n",
       "    </tr>\n",
       "    <tr>\n",
       "      <td>666</td>\n",
       "      <td>Appartement</td>\n",
       "      <td>13.195614</td>\n",
       "      <td>120.0</td>\n",
       "      <td>NaN</td>\n",
       "      <td>6.0</td>\n",
       "      <td>NaN</td>\n",
       "      <td>NON</td>\n",
       "      <td>NaN</td>\n",
       "      <td>NON</td>\n",
       "      <td>NaN</td>\n",
       "      <td>Bordeaux</td>\n",
       "      <td>MENA IMMOBILIER</td>\n",
       "      <td>https://www.bellesdemeures.com/annonces/vente/...</td>\n",
       "    </tr>\n",
       "    <tr>\n",
       "      <td>671</td>\n",
       "      <td>Hôtel particulier</td>\n",
       "      <td>13.883169</td>\n",
       "      <td>240.0</td>\n",
       "      <td>NaN</td>\n",
       "      <td>8.0</td>\n",
       "      <td>NaN</td>\n",
       "      <td>NON</td>\n",
       "      <td>NaN</td>\n",
       "      <td>NON</td>\n",
       "      <td>NaN</td>\n",
       "      <td>Bordeaux</td>\n",
       "      <td>MENA IMMOBILIER</td>\n",
       "      <td>https://www.bellesdemeures.com/annonces/vente/...</td>\n",
       "    </tr>\n",
       "    <tr>\n",
       "      <td>708</td>\n",
       "      <td>Hôtel particulier</td>\n",
       "      <td>15.017882</td>\n",
       "      <td>1000.0</td>\n",
       "      <td>NaN</td>\n",
       "      <td>12.0</td>\n",
       "      <td>NaN</td>\n",
       "      <td>NON</td>\n",
       "      <td>NaN</td>\n",
       "      <td>NON</td>\n",
       "      <td>NaN</td>\n",
       "      <td>Bordeaux</td>\n",
       "      <td>Agence immobilière du Grand-Théâtre</td>\n",
       "      <td>https://www.bellesdemeures.com/annonces/vente/...</td>\n",
       "    </tr>\n",
       "  </tbody>\n",
       "</table>\n",
       "</div>"
      ],
      "text/plain": [
       "                typeof      price  surface  field_surface  rooms  bedrooms  \\\n",
       "322        Appartement  13.112313     73.0            NaN    1.0       NaN   \n",
       "435        Appartement  13.287878    110.0            NaN    4.0       NaN   \n",
       "666        Appartement  13.195614    120.0            NaN    6.0       NaN   \n",
       "671  Hôtel particulier  13.883169    240.0            NaN    8.0       NaN   \n",
       "708  Hôtel particulier  15.017882   1000.0            NaN   12.0       NaN   \n",
       "\n",
       "    terrace  balcony pool  parking localisation  \\\n",
       "322     OUI      NaN  NON      NaN     Bordeaux   \n",
       "435     NON      NaN  NON      NaN     Bordeaux   \n",
       "666     NON      NaN  NON      NaN     Bordeaux   \n",
       "671     NON      NaN  NON      NaN     Bordeaux   \n",
       "708     NON      NaN  NON      NaN     Bordeaux   \n",
       "\n",
       "                                  agency  \\\n",
       "322                      Barnes Bordeaux   \n",
       "435                           SCOUT HOME   \n",
       "666                      MENA IMMOBILIER   \n",
       "671                      MENA IMMOBILIER   \n",
       "708  Agence immobilière du Grand-Théâtre   \n",
       "\n",
       "                                                  link  \n",
       "322  https://www.bellesdemeures.com/annonces/vente/...  \n",
       "435  https://www.bellesdemeures.com/annonces/vente/...  \n",
       "666  https://www.bellesdemeures.com/annonces/vente/...  \n",
       "671  https://www.bellesdemeures.com/annonces/vente/...  \n",
       "708  https://www.bellesdemeures.com/annonces/vente/...  "
      ]
     },
     "execution_count": 45,
     "metadata": {},
     "output_type": "execute_result"
    }
   ],
   "source": [
    "bedrooms_na"
   ]
  },
  {
   "cell_type": "code",
   "execution_count": 40,
   "metadata": {},
   "outputs": [
    {
     "name": "stdout",
     "output_type": "stream",
     "text": [
      "https://www.bellesdemeures.com/annonces/vente/tt-2-tb-1-pl-48327/153438049/\n",
      "https://www.bellesdemeures.com/annonces/vente/tt-2-tb-2-pl-48321/152946981/\n",
      "https://www.bellesdemeures.com/annonces/vente/tt-2-tb-14-pl-13950/149257533/\n",
      "https://www.bellesdemeures.com/annonces/vente/tt-2-tb-1-pl-13950/144293729/\n",
      "https://www.bellesdemeures.com/annonces/vente/tt-2-tb-2-pl-13950/152796083/\n"
     ]
    }
   ],
   "source": [
    "print(data_full.iloc[322]['link']) # 1 chambre \n",
    "print(data_full.iloc[435]['link']) # 2 \n",
    "print(data_full.iloc[666]['link']) # 1 chambre \n",
    "print(data_full.iloc[671]['link']) # Pas de renseignement sur les chambres.\n",
    "print(data_full.iloc[708]['link']) # 12 Pieces mais pas de renseignement sur les chambres "
   ]
  },
  {
   "cell_type": "code",
   "execution_count": 41,
   "metadata": {},
   "outputs": [],
   "source": [
    "def remplace_na(dataset):\n",
    "    dataset[\"balcony\"] = dataset[\"balcony\"].fillna(\"None\")\n",
    "    dataset[\"parking\"] = dataset[\"parking\"].fillna(\"None\")\n",
    "    dataset[\"field_surface\"] = dataset[\"field_surface\"].fillna(\"None\")\n",
    "    return dataset"
   ]
  },
  {
   "cell_type": "markdown",
   "metadata": {},
   "source": [
    "## Type de bien"
   ]
  },
  {
   "cell_type": "code",
   "execution_count": 42,
   "metadata": {},
   "outputs": [
    {
     "data": {
      "text/plain": [
       "Maison / Villa          394\n",
       "Appartement             290\n",
       "Château                  28\n",
       "Hôtel particulier        12\n",
       "Loft/Atelier/Surface      8\n",
       "Name: typeof, dtype: int64"
      ]
     },
     "execution_count": 42,
     "metadata": {},
     "output_type": "execute_result"
    }
   ],
   "source": [
    "data_full.typeof.value_counts()"
   ]
  },
  {
   "cell_type": "code",
   "execution_count": 43,
   "metadata": {},
   "outputs": [],
   "source": [
    "#Moyenne de la surface des biens de type \"Maison/Villa\"\n",
    "meansur_house =  data_full.loc[data_full['typeof'] == 'Maison / Villa']['surface'].mean()\n",
    "meansur_apartment =  data_full.loc[data_full['typeof'] == 'Appartement']['surface'].mean()\n",
    "meansur_castle =  data_full.loc[data_full['typeof'] == 'Château']['surface'].mean()\n",
    "meansur_hostel =  data_full.loc[data_full['typeof'] == 'Hôtel particulier']['surface'].mean()\n",
    "meansur_loft =  data_full.loc[data_full['typeof'] == 'Loft/Atelier/Surface']['surface'].mean()"
   ]
  },
  {
   "cell_type": "code",
   "execution_count": 44,
   "metadata": {},
   "outputs": [
    {
     "name": "stdout",
     "output_type": "stream",
     "text": [
      "Surface moyenne des maisons : 256.3\n",
      "Surface moyenne des appartements : 136.11\n",
      "Surface moyenne des chateaux : 805.86\n",
      "Surface moyenne des hotels particuliers : 538.33\n",
      "Surface moyenne des lofts : 222.12\n"
     ]
    }
   ],
   "source": [
    "print(f\"Surface moyenne des maisons : {round(meansur_house,2)}\")\n",
    "print(f\"Surface moyenne des appartements : {round(meansur_apartment,2)}\")\n",
    "print(f\"Surface moyenne des chateaux : {round(meansur_castle,2)}\")\n",
    "print(f\"Surface moyenne des hotels particuliers : {round(meansur_hostel,2)}\")\n",
    "print(f\"Surface moyenne des lofts : {round(meansur_loft,2)}\")"
   ]
  },
  {
   "cell_type": "code",
   "execution_count": null,
   "metadata": {},
   "outputs": [],
   "source": []
  }
 ],
 "metadata": {
  "kernelspec": {
   "display_name": "Python 3",
   "language": "python",
   "name": "python3"
  },
  "language_info": {
   "codemirror_mode": {
    "name": "ipython",
    "version": 3
   },
   "file_extension": ".py",
   "mimetype": "text/x-python",
   "name": "python",
   "nbconvert_exporter": "python",
   "pygments_lexer": "ipython3",
   "version": "3.7.4"
  }
 },
 "nbformat": 4,
 "nbformat_minor": 2
}
