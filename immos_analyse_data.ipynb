{
 "cells": [
  {
   "cell_type": "markdown",
   "metadata": {},
   "source": [
    "# Analyse datas bellesdemeures.com"
   ]
  },
  {
   "cell_type": "code",
   "execution_count": 1,
   "metadata": {},
   "outputs": [],
   "source": [
    "import pandas as pd\n",
    "import matplotlib.pyplot as plt\n",
    "import seaborn as sns\n",
    "import numpy as np\n",
    "import re"
   ]
  },
  {
   "cell_type": "code",
   "execution_count": 2,
   "metadata": {},
   "outputs": [],
   "source": [
    "data_full = pd.read_csv(\"immos_gir_2020-01-21.csv\")"
   ]
  },
  {
   "cell_type": "code",
   "execution_count": 3,
   "metadata": {},
   "outputs": [
    {
     "data": {
      "text/plain": [
       "(1507, 13)"
      ]
     },
     "execution_count": 3,
     "metadata": {},
     "output_type": "execute_result"
    }
   ],
   "source": [
    "data_full.shape"
   ]
  },
  {
   "cell_type": "code",
   "execution_count": 4,
   "metadata": {},
   "outputs": [
    {
     "data": {
      "text/html": [
       "<div>\n",
       "<style scoped>\n",
       "    .dataframe tbody tr th:only-of-type {\n",
       "        vertical-align: middle;\n",
       "    }\n",
       "\n",
       "    .dataframe tbody tr th {\n",
       "        vertical-align: top;\n",
       "    }\n",
       "\n",
       "    .dataframe thead th {\n",
       "        text-align: right;\n",
       "    }\n",
       "</style>\n",
       "<table border=\"1\" class=\"dataframe\">\n",
       "  <thead>\n",
       "    <tr style=\"text-align: right;\">\n",
       "      <th></th>\n",
       "      <th>surface</th>\n",
       "      <th>field_surface</th>\n",
       "      <th>rooms</th>\n",
       "      <th>bedrooms</th>\n",
       "      <th>balcony</th>\n",
       "      <th>parking</th>\n",
       "    </tr>\n",
       "  </thead>\n",
       "  <tbody>\n",
       "    <tr>\n",
       "      <td>count</td>\n",
       "      <td>1486.000000</td>\n",
       "      <td>8.460000e+02</td>\n",
       "      <td>1483.000000</td>\n",
       "      <td>1499.000000</td>\n",
       "      <td>168.000000</td>\n",
       "      <td>421.000000</td>\n",
       "    </tr>\n",
       "    <tr>\n",
       "      <td>mean</td>\n",
       "      <td>266.601615</td>\n",
       "      <td>3.109026e+04</td>\n",
       "      <td>7.611598</td>\n",
       "      <td>4.670447</td>\n",
       "      <td>1.255952</td>\n",
       "      <td>2.923990</td>\n",
       "    </tr>\n",
       "    <tr>\n",
       "      <td>std</td>\n",
       "      <td>286.371897</td>\n",
       "      <td>1.077305e+05</td>\n",
       "      <td>4.908631</td>\n",
       "      <td>2.639082</td>\n",
       "      <td>1.524243</td>\n",
       "      <td>3.164373</td>\n",
       "    </tr>\n",
       "    <tr>\n",
       "      <td>min</td>\n",
       "      <td>56.000000</td>\n",
       "      <td>2.200000e+01</td>\n",
       "      <td>2.000000</td>\n",
       "      <td>1.000000</td>\n",
       "      <td>1.000000</td>\n",
       "      <td>1.000000</td>\n",
       "    </tr>\n",
       "    <tr>\n",
       "      <td>25%</td>\n",
       "      <td>138.000000</td>\n",
       "      <td>5.157500e+02</td>\n",
       "      <td>5.000000</td>\n",
       "      <td>3.000000</td>\n",
       "      <td>1.000000</td>\n",
       "      <td>1.000000</td>\n",
       "    </tr>\n",
       "    <tr>\n",
       "      <td>50%</td>\n",
       "      <td>195.000000</td>\n",
       "      <td>1.400000e+03</td>\n",
       "      <td>6.000000</td>\n",
       "      <td>4.000000</td>\n",
       "      <td>1.000000</td>\n",
       "      <td>2.000000</td>\n",
       "    </tr>\n",
       "    <tr>\n",
       "      <td>75%</td>\n",
       "      <td>300.000000</td>\n",
       "      <td>7.517500e+03</td>\n",
       "      <td>9.000000</td>\n",
       "      <td>5.000000</td>\n",
       "      <td>1.000000</td>\n",
       "      <td>4.000000</td>\n",
       "    </tr>\n",
       "    <tr>\n",
       "      <td>max</td>\n",
       "      <td>6100.000000</td>\n",
       "      <td>1.200000e+06</td>\n",
       "      <td>99.000000</td>\n",
       "      <td>36.000000</td>\n",
       "      <td>20.000000</td>\n",
       "      <td>36.000000</td>\n",
       "    </tr>\n",
       "  </tbody>\n",
       "</table>\n",
       "</div>"
      ],
      "text/plain": [
       "           surface  field_surface        rooms     bedrooms     balcony  \\\n",
       "count  1486.000000   8.460000e+02  1483.000000  1499.000000  168.000000   \n",
       "mean    266.601615   3.109026e+04     7.611598     4.670447    1.255952   \n",
       "std     286.371897   1.077305e+05     4.908631     2.639082    1.524243   \n",
       "min      56.000000   2.200000e+01     2.000000     1.000000    1.000000   \n",
       "25%     138.000000   5.157500e+02     5.000000     3.000000    1.000000   \n",
       "50%     195.000000   1.400000e+03     6.000000     4.000000    1.000000   \n",
       "75%     300.000000   7.517500e+03     9.000000     5.000000    1.000000   \n",
       "max    6100.000000   1.200000e+06    99.000000    36.000000   20.000000   \n",
       "\n",
       "          parking  \n",
       "count  421.000000  \n",
       "mean     2.923990  \n",
       "std      3.164373  \n",
       "min      1.000000  \n",
       "25%      1.000000  \n",
       "50%      2.000000  \n",
       "75%      4.000000  \n",
       "max     36.000000  "
      ]
     },
     "execution_count": 4,
     "metadata": {},
     "output_type": "execute_result"
    }
   ],
   "source": [
    "data_full.describe()"
   ]
  },
  {
   "cell_type": "markdown",
   "metadata": {},
   "source": [
    "ajout d'une colonne ID dans le dataset"
   ]
  },
  {
   "cell_type": "code",
   "execution_count": 5,
   "metadata": {
    "scrolled": true
   },
   "outputs": [],
   "source": [
    "# list_id = [i+1 for i in range (0,data_full.shape[0])]"
   ]
  },
  {
   "cell_type": "code",
   "execution_count": 6,
   "metadata": {},
   "outputs": [],
   "source": [
    "# data_full.insert (0, \"ID\", list_id)"
   ]
  },
  {
   "cell_type": "code",
   "execution_count": 7,
   "metadata": {},
   "outputs": [
    {
     "data": {
      "text/html": [
       "<div>\n",
       "<style scoped>\n",
       "    .dataframe tbody tr th:only-of-type {\n",
       "        vertical-align: middle;\n",
       "    }\n",
       "\n",
       "    .dataframe tbody tr th {\n",
       "        vertical-align: top;\n",
       "    }\n",
       "\n",
       "    .dataframe thead th {\n",
       "        text-align: right;\n",
       "    }\n",
       "</style>\n",
       "<table border=\"1\" class=\"dataframe\">\n",
       "  <thead>\n",
       "    <tr style=\"text-align: right;\">\n",
       "      <th></th>\n",
       "      <th>typeof</th>\n",
       "      <th>price</th>\n",
       "      <th>surface</th>\n",
       "      <th>field_surface</th>\n",
       "      <th>rooms</th>\n",
       "      <th>bedrooms</th>\n",
       "      <th>terrace</th>\n",
       "      <th>balcony</th>\n",
       "      <th>pool</th>\n",
       "      <th>parking</th>\n",
       "      <th>localisation</th>\n",
       "      <th>agency</th>\n",
       "      <th>link</th>\n",
       "    </tr>\n",
       "  </thead>\n",
       "  <tbody>\n",
       "    <tr>\n",
       "      <td>0</td>\n",
       "      <td>Maison / Villa</td>\n",
       "      <td>1 863 000</td>\n",
       "      <td>475.0</td>\n",
       "      <td>15000.0</td>\n",
       "      <td>11.0</td>\n",
       "      <td>6.0</td>\n",
       "      <td>NON</td>\n",
       "      <td>NaN</td>\n",
       "      <td>OUI</td>\n",
       "      <td>NaN</td>\n",
       "      <td>Bordeaux</td>\n",
       "      <td>BORDEAUX AND BEYOND</td>\n",
       "      <td>https://www.bellesdemeures.com/annonces/vente/...</td>\n",
       "    </tr>\n",
       "    <tr>\n",
       "      <td>1</td>\n",
       "      <td>Hôtel particulier</td>\n",
       "      <td>1 596 500</td>\n",
       "      <td>315.0</td>\n",
       "      <td>220.0</td>\n",
       "      <td>10.0</td>\n",
       "      <td>6.0</td>\n",
       "      <td>NON</td>\n",
       "      <td>1.0</td>\n",
       "      <td>OUI</td>\n",
       "      <td>1.0</td>\n",
       "      <td>Bordeaux</td>\n",
       "      <td>GOOD WEEK</td>\n",
       "      <td>https://www.bellesdemeures.com/annonces/vente/...</td>\n",
       "    </tr>\n",
       "    <tr>\n",
       "      <td>2</td>\n",
       "      <td>Maison / Villa</td>\n",
       "      <td>1 400 000</td>\n",
       "      <td>250.0</td>\n",
       "      <td>270.0</td>\n",
       "      <td>7.0</td>\n",
       "      <td>5.0</td>\n",
       "      <td>NON</td>\n",
       "      <td>NaN</td>\n",
       "      <td>OUI</td>\n",
       "      <td>NaN</td>\n",
       "      <td>Bordeaux</td>\n",
       "      <td>MOVEMENT</td>\n",
       "      <td>https://www.bellesdemeures.com/annonces/vente/...</td>\n",
       "    </tr>\n",
       "    <tr>\n",
       "      <td>3</td>\n",
       "      <td>Maison / Villa</td>\n",
       "      <td>945 000</td>\n",
       "      <td>200.0</td>\n",
       "      <td>224.0</td>\n",
       "      <td>7.0</td>\n",
       "      <td>5.0</td>\n",
       "      <td>NON</td>\n",
       "      <td>NaN</td>\n",
       "      <td>NON</td>\n",
       "      <td>NaN</td>\n",
       "      <td>Bordeaux</td>\n",
       "      <td>GRANGE DELMAS IMMOBILIER</td>\n",
       "      <td>https://www.bellesdemeures.com/annonces/vente/...</td>\n",
       "    </tr>\n",
       "    <tr>\n",
       "      <td>4</td>\n",
       "      <td>Maison / Villa</td>\n",
       "      <td>881 500</td>\n",
       "      <td>190.0</td>\n",
       "      <td>1209.0</td>\n",
       "      <td>9.0</td>\n",
       "      <td>5.0</td>\n",
       "      <td>NON</td>\n",
       "      <td>NaN</td>\n",
       "      <td>NON</td>\n",
       "      <td>NaN</td>\n",
       "      <td>Bouliac</td>\n",
       "      <td>BORDEAUX AND BEYOND</td>\n",
       "      <td>https://www.bellesdemeures.com/annonces/vente/...</td>\n",
       "    </tr>\n",
       "  </tbody>\n",
       "</table>\n",
       "</div>"
      ],
      "text/plain": [
       "              typeof      price  surface  field_surface  rooms  bedrooms  \\\n",
       "0     Maison / Villa  1 863 000    475.0        15000.0   11.0       6.0   \n",
       "1  Hôtel particulier  1 596 500    315.0          220.0   10.0       6.0   \n",
       "2     Maison / Villa  1 400 000    250.0          270.0    7.0       5.0   \n",
       "3     Maison / Villa    945 000    200.0          224.0    7.0       5.0   \n",
       "4     Maison / Villa    881 500    190.0         1209.0    9.0       5.0   \n",
       "\n",
       "  terrace  balcony pool  parking localisation                    agency  \\\n",
       "0     NON      NaN  OUI      NaN     Bordeaux       BORDEAUX AND BEYOND   \n",
       "1     NON      1.0  OUI      1.0     Bordeaux                 GOOD WEEK   \n",
       "2     NON      NaN  OUI      NaN     Bordeaux                  MOVEMENT   \n",
       "3     NON      NaN  NON      NaN     Bordeaux  GRANGE DELMAS IMMOBILIER   \n",
       "4     NON      NaN  NON      NaN      Bouliac       BORDEAUX AND BEYOND   \n",
       "\n",
       "                                                link  \n",
       "0  https://www.bellesdemeures.com/annonces/vente/...  \n",
       "1  https://www.bellesdemeures.com/annonces/vente/...  \n",
       "2  https://www.bellesdemeures.com/annonces/vente/...  \n",
       "3  https://www.bellesdemeures.com/annonces/vente/...  \n",
       "4  https://www.bellesdemeures.com/annonces/vente/...  "
      ]
     },
     "execution_count": 7,
     "metadata": {},
     "output_type": "execute_result"
    }
   ],
   "source": [
    "data_full.head()"
   ]
  },
  {
   "cell_type": "code",
   "execution_count": 8,
   "metadata": {},
   "outputs": [
    {
     "data": {
      "text/plain": [
       "array(['typeof', 'price', 'surface', 'field_surface', 'rooms', 'bedrooms',\n",
       "       'terrace', 'balcony', 'pool', 'parking', 'localisation', 'agency',\n",
       "       'link'], dtype=object)"
      ]
     },
     "execution_count": 8,
     "metadata": {},
     "output_type": "execute_result"
    }
   ],
   "source": [
    "columns = data_full.columns.values\n",
    "columns"
   ]
  },
  {
   "cell_type": "code",
   "execution_count": 9,
   "metadata": {},
   "outputs": [
    {
     "data": {
      "text/plain": [
       "typeof            object\n",
       "price             object\n",
       "surface          float64\n",
       "field_surface    float64\n",
       "rooms            float64\n",
       "bedrooms         float64\n",
       "terrace           object\n",
       "balcony          float64\n",
       "pool              object\n",
       "parking          float64\n",
       "localisation      object\n",
       "agency            object\n",
       "link              object\n",
       "dtype: object"
      ]
     },
     "execution_count": 9,
     "metadata": {},
     "output_type": "execute_result"
    }
   ],
   "source": [
    "data_full.dtypes"
   ]
  },
  {
   "cell_type": "markdown",
   "metadata": {},
   "source": [
    "La colonne price est considérée comme non numérique , il faut changer son format"
   ]
  },
  {
   "cell_type": "markdown",
   "metadata": {},
   "source": [
    "## Analyse price et modification type colonne\n",
    " Modification du format des prix , changement de la colonne price en numerique et distribution"
   ]
  },
  {
   "cell_type": "markdown",
   "metadata": {},
   "source": [
    "Il faut chercher toutes les lignes avec un prix qui contient des lettres pour pouvoir le modifier"
   ]
  },
  {
   "cell_type": "code",
   "execution_count": 10,
   "metadata": {
    "scrolled": true
   },
   "outputs": [
    {
     "data": {
      "text/html": [
       "<div>\n",
       "<style scoped>\n",
       "    .dataframe tbody tr th:only-of-type {\n",
       "        vertical-align: middle;\n",
       "    }\n",
       "\n",
       "    .dataframe tbody tr th {\n",
       "        vertical-align: top;\n",
       "    }\n",
       "\n",
       "    .dataframe thead th {\n",
       "        text-align: right;\n",
       "    }\n",
       "</style>\n",
       "<table border=\"1\" class=\"dataframe\">\n",
       "  <thead>\n",
       "    <tr style=\"text-align: right;\">\n",
       "      <th></th>\n",
       "      <th>typeof</th>\n",
       "      <th>price</th>\n",
       "      <th>surface</th>\n",
       "      <th>field_surface</th>\n",
       "      <th>rooms</th>\n",
       "      <th>bedrooms</th>\n",
       "      <th>terrace</th>\n",
       "      <th>balcony</th>\n",
       "      <th>pool</th>\n",
       "      <th>parking</th>\n",
       "      <th>localisation</th>\n",
       "      <th>agency</th>\n",
       "      <th>link</th>\n",
       "    </tr>\n",
       "  </thead>\n",
       "  <tbody>\n",
       "    <tr>\n",
       "      <td>142</td>\n",
       "      <td>Maison / Villa</td>\n",
       "      <td>De 3M à 10M</td>\n",
       "      <td>750.0</td>\n",
       "      <td>1350.0</td>\n",
       "      <td>12.0</td>\n",
       "      <td>5.0</td>\n",
       "      <td>NON</td>\n",
       "      <td>NaN</td>\n",
       "      <td>NON</td>\n",
       "      <td>NaN</td>\n",
       "      <td>Arcachon</td>\n",
       "      <td>BARNES BASSIN D'ARCACHON</td>\n",
       "      <td>https://www.bellesdemeures.com/annonces/vente/...</td>\n",
       "    </tr>\n",
       "    <tr>\n",
       "      <td>179</td>\n",
       "      <td>Loft/Atelier/Surface</td>\n",
       "      <td>De 1,7M à 3M</td>\n",
       "      <td>255.0</td>\n",
       "      <td>NaN</td>\n",
       "      <td>6.0</td>\n",
       "      <td>4.0</td>\n",
       "      <td>OUI</td>\n",
       "      <td>NaN</td>\n",
       "      <td>NON</td>\n",
       "      <td>2.0</td>\n",
       "      <td>Arcachon</td>\n",
       "      <td>L'AGENCE MANON PARIS</td>\n",
       "      <td>https://www.bellesdemeures.com/annonces/vente/...</td>\n",
       "    </tr>\n",
       "    <tr>\n",
       "      <td>197</td>\n",
       "      <td>Appartement</td>\n",
       "      <td>De 1,7M à 3M</td>\n",
       "      <td>203.0</td>\n",
       "      <td>NaN</td>\n",
       "      <td>4.0</td>\n",
       "      <td>3.0</td>\n",
       "      <td>OUI</td>\n",
       "      <td>NaN</td>\n",
       "      <td>NON</td>\n",
       "      <td>NaN</td>\n",
       "      <td>Bordeaux</td>\n",
       "      <td>BORDEAUX PROPERTIES</td>\n",
       "      <td>https://www.bellesdemeures.com/annonces/vente/...</td>\n",
       "    </tr>\n",
       "    <tr>\n",
       "      <td>944</td>\n",
       "      <td>Maison / Villa</td>\n",
       "      <td>+ de 10M</td>\n",
       "      <td>3200.0</td>\n",
       "      <td>900000.0</td>\n",
       "      <td>25.0</td>\n",
       "      <td>6.0</td>\n",
       "      <td>NON</td>\n",
       "      <td>NaN</td>\n",
       "      <td>NON</td>\n",
       "      <td>NaN</td>\n",
       "      <td>Bordeaux</td>\n",
       "      <td>BARNES PROPRIETES ET CHATEAUX</td>\n",
       "      <td>https://www.bellesdemeures.com/annonces/vente/...</td>\n",
       "    </tr>\n",
       "    <tr>\n",
       "      <td>1037</td>\n",
       "      <td>Maison / Villa</td>\n",
       "      <td>De 3M à 10M</td>\n",
       "      <td>850.0</td>\n",
       "      <td>240000.0</td>\n",
       "      <td>20.0</td>\n",
       "      <td>5.0</td>\n",
       "      <td>OUI</td>\n",
       "      <td>NaN</td>\n",
       "      <td>NON</td>\n",
       "      <td>36.0</td>\n",
       "      <td>Bordeaux</td>\n",
       "      <td>JANE</td>\n",
       "      <td>https://www.bellesdemeures.com/annonces/vente/...</td>\n",
       "    </tr>\n",
       "    <tr>\n",
       "      <td>1076</td>\n",
       "      <td>Château</td>\n",
       "      <td>De 3M à 10M</td>\n",
       "      <td>400.0</td>\n",
       "      <td>500000.0</td>\n",
       "      <td>15.0</td>\n",
       "      <td>8.0</td>\n",
       "      <td>NON</td>\n",
       "      <td>NaN</td>\n",
       "      <td>NON</td>\n",
       "      <td>NaN</td>\n",
       "      <td>Blaye</td>\n",
       "      <td>Groupe Mercure Bordeaux - Aquitaine</td>\n",
       "      <td>https://www.bellesdemeures.com/annonces/vente/...</td>\n",
       "    </tr>\n",
       "    <tr>\n",
       "      <td>1437</td>\n",
       "      <td>Château</td>\n",
       "      <td>De 3M à 10M</td>\n",
       "      <td>3000.0</td>\n",
       "      <td>680000.0</td>\n",
       "      <td>30.0</td>\n",
       "      <td>NaN</td>\n",
       "      <td>NON</td>\n",
       "      <td>NaN</td>\n",
       "      <td>NON</td>\n",
       "      <td>NaN</td>\n",
       "      <td>Bordeaux</td>\n",
       "      <td>DENNIEL IMMOBILIER - ANTIQUAIRES EN IMMEUBLES</td>\n",
       "      <td>https://www.bellesdemeures.com/annonces/vente/...</td>\n",
       "    </tr>\n",
       "    <tr>\n",
       "      <td>1443</td>\n",
       "      <td>Maison / Villa</td>\n",
       "      <td>De 1,1M à 1,7M</td>\n",
       "      <td>180.0</td>\n",
       "      <td>1000.0</td>\n",
       "      <td>7.0</td>\n",
       "      <td>5.0</td>\n",
       "      <td>NON</td>\n",
       "      <td>NaN</td>\n",
       "      <td>OUI</td>\n",
       "      <td>NaN</td>\n",
       "      <td>La Teste-de-Buch</td>\n",
       "      <td>ATELIERS LOFTS &amp; ASSOCIES</td>\n",
       "      <td>https://www.bellesdemeures.com/annonces/vente/...</td>\n",
       "    </tr>\n",
       "  </tbody>\n",
       "</table>\n",
       "</div>"
      ],
      "text/plain": [
       "                    typeof           price  surface  field_surface  rooms  \\\n",
       "142         Maison / Villa     De 3M à 10M    750.0         1350.0   12.0   \n",
       "179   Loft/Atelier/Surface    De 1,7M à 3M    255.0            NaN    6.0   \n",
       "197            Appartement    De 1,7M à 3M    203.0            NaN    4.0   \n",
       "944         Maison / Villa        + de 10M   3200.0       900000.0   25.0   \n",
       "1037        Maison / Villa     De 3M à 10M    850.0       240000.0   20.0   \n",
       "1076               Château     De 3M à 10M    400.0       500000.0   15.0   \n",
       "1437               Château     De 3M à 10M   3000.0       680000.0   30.0   \n",
       "1443        Maison / Villa  De 1,1M à 1,7M    180.0         1000.0    7.0   \n",
       "\n",
       "      bedrooms terrace  balcony pool  parking      localisation  \\\n",
       "142        5.0     NON      NaN  NON      NaN          Arcachon   \n",
       "179        4.0     OUI      NaN  NON      2.0          Arcachon   \n",
       "197        3.0     OUI      NaN  NON      NaN          Bordeaux   \n",
       "944        6.0     NON      NaN  NON      NaN          Bordeaux   \n",
       "1037       5.0     OUI      NaN  NON     36.0          Bordeaux   \n",
       "1076       8.0     NON      NaN  NON      NaN             Blaye   \n",
       "1437       NaN     NON      NaN  NON      NaN          Bordeaux   \n",
       "1443       5.0     NON      NaN  OUI      NaN  La Teste-de-Buch   \n",
       "\n",
       "                                             agency  \\\n",
       "142                        BARNES BASSIN D'ARCACHON   \n",
       "179                            L'AGENCE MANON PARIS   \n",
       "197                             BORDEAUX PROPERTIES   \n",
       "944                   BARNES PROPRIETES ET CHATEAUX   \n",
       "1037                                           JANE   \n",
       "1076            Groupe Mercure Bordeaux - Aquitaine   \n",
       "1437  DENNIEL IMMOBILIER - ANTIQUAIRES EN IMMEUBLES   \n",
       "1443                      ATELIERS LOFTS & ASSOCIES   \n",
       "\n",
       "                                                   link  \n",
       "142   https://www.bellesdemeures.com/annonces/vente/...  \n",
       "179   https://www.bellesdemeures.com/annonces/vente/...  \n",
       "197   https://www.bellesdemeures.com/annonces/vente/...  \n",
       "944   https://www.bellesdemeures.com/annonces/vente/...  \n",
       "1037  https://www.bellesdemeures.com/annonces/vente/...  \n",
       "1076  https://www.bellesdemeures.com/annonces/vente/...  \n",
       "1437  https://www.bellesdemeures.com/annonces/vente/...  \n",
       "1443  https://www.bellesdemeures.com/annonces/vente/...  "
      ]
     },
     "execution_count": 10,
     "metadata": {},
     "output_type": "execute_result"
    }
   ],
   "source": [
    "wrong_prices_df = data_full[data_full['price'].str.contains('[a-z]+', regex=True)]\n",
    "wrong_prices_df"
   ]
  },
  {
   "cell_type": "markdown",
   "metadata": {},
   "source": [
    "On enregistre le numéro des lignes pour verification finale"
   ]
  },
  {
   "cell_type": "code",
   "execution_count": 11,
   "metadata": {},
   "outputs": [],
   "source": [
    "wprices_index = wrong_prices_df.index"
   ]
  },
  {
   "cell_type": "markdown",
   "metadata": {},
   "source": [
    "#### Modification des prix à l'aide des regex\n",
    "    On remplace toutes les virgules par des points\n",
    "    On cherche ensuite tout les valeurs numériques ou décimales\n",
    "    - \\d* 0 or more digits\n",
    "    - \\.? optional dot because in regex . is a special character\n",
    "    - \\d* 0 ore more digits ( decimal part )\n",
    "    \n",
    "    On se retrouve avec des listes avec les valeurs numériques qui nous interesse \n",
    "    On boucle sur chacune de ces listes pour faire une moyenne de ces valeurs numériques Ex : de 3 à 10M = (3+10)/2 * 1M\n",
    "    On passe tout en millions , cette fonction ne fonctionnera pas si les prix dans un mauvais format ne sont pas en millions d'euros\n"
   ]
  },
  {
   "cell_type": "code",
   "execution_count": 12,
   "metadata": {},
   "outputs": [
    {
     "name": "stdout",
     "output_type": "stream",
     "text": [
      "De 3M à 10M\n",
      "['', '', '', '3', '', '', '', '', '10', '', '']\n",
      "De 1,7M à 3M\n",
      "['', '', '', '1.7', '', '', '', '', '3', '', '']\n",
      "De 1,7M à 3M\n",
      "['', '', '', '1.7', '', '', '', '', '3', '', '']\n",
      "+ de 10M\n",
      "['', '', '', '', '', '10', '', '']\n",
      "De 3M à 10M\n",
      "['', '', '', '3', '', '', '', '', '10', '', '']\n",
      "De 3M à 10M\n",
      "['', '', '', '3', '', '', '', '', '10', '', '']\n",
      "De 3M à 10M\n",
      "['', '', '', '3', '', '', '', '', '10', '', '']\n",
      "De 1,1M à 1,7M\n",
      "['', '', '', '1.1', '', '', '', '', '1.7', '', '']\n",
      "[6500000.0, 2350000.0, 2350000.0, 10000000.0, 6500000.0, 6500000.0, 6500000.0, 1400000.0]\n"
     ]
    }
   ],
   "source": [
    "good_prices = []\n",
    "for wrong_price in wrong_prices_df['price']:\n",
    "    print(wrong_price)\n",
    "    wrong_price = wrong_price.replace(',', '.')\n",
    "    numbers_price = re.findall(\"\\d*\\.?\\d*\", wrong_price)\n",
    "    print(numbers_price)\n",
    "    sum = 0\n",
    "    i = 0\n",
    "    for number in numbers_price:\n",
    "        if number != '':\n",
    "            sum += float(number)\n",
    "            i += 1\n",
    "    good_price = (sum/i)*1000000\n",
    "    good_prices.append(good_price)\n",
    "\n",
    "\n",
    "print(good_prices)"
   ]
  },
  {
   "cell_type": "markdown",
   "metadata": {},
   "source": [
    "On change maintenant toutes les lignes ou le prix pose probleme par le bon"
   ]
  },
  {
   "cell_type": "code",
   "execution_count": 13,
   "metadata": {},
   "outputs": [],
   "source": [
    "data_full.loc[data_full['price'].str.contains('[a-z]+', regex=True), 'price'] = good_prices"
   ]
  },
  {
   "cell_type": "markdown",
   "metadata": {},
   "source": [
    "Verification"
   ]
  },
  {
   "cell_type": "code",
   "execution_count": 14,
   "metadata": {},
   "outputs": [
    {
     "name": "stdout",
     "output_type": "stream",
     "text": [
      "6500000.0\n",
      "2350000.0\n",
      "2350000.0\n",
      "10000000.0\n",
      "6500000.0\n",
      "6500000.0\n",
      "6500000.0\n",
      "1400000.0\n"
     ]
    }
   ],
   "source": [
    "for index in wprices_index:\n",
    "    print(data_full.loc[index]['price'])"
   ]
  },
  {
   "cell_type": "code",
   "execution_count": 15,
   "metadata": {},
   "outputs": [
    {
     "data": {
      "text/plain": [
       "0       1863000\n",
       "1       1596500\n",
       "2       1400000\n",
       "3        945000\n",
       "4        881500\n",
       "         ...   \n",
       "1502    1050000\n",
       "1503    2150000\n",
       "1504    2150000\n",
       "1505     795000\n",
       "1506     640000\n",
       "Name: price, Length: 1507, dtype: object"
      ]
     },
     "execution_count": 15,
     "metadata": {},
     "output_type": "execute_result"
    }
   ],
   "source": [
    "# les prix sont sous la forme 1 590 000 , on enleve les espaces\n",
    "data_full['price'] = data_full['price'].replace('\\s+', '', regex=True)\n",
    "data_full['price']"
   ]
  },
  {
   "cell_type": "code",
   "execution_count": 16,
   "metadata": {},
   "outputs": [],
   "source": [
    "data_full['price'] = pd.to_numeric(data_full['price'])"
   ]
  },
  {
   "cell_type": "code",
   "execution_count": 17,
   "metadata": {},
   "outputs": [
    {
     "data": {
      "text/plain": [
       "dtype('float64')"
      ]
     },
     "execution_count": 17,
     "metadata": {},
     "output_type": "execute_result"
    }
   ],
   "source": [
    "data_full['price'].dtypes"
   ]
  },
  {
   "cell_type": "code",
   "execution_count": 18,
   "metadata": {},
   "outputs": [
    {
     "data": {
      "text/plain": [
       "0"
      ]
     },
     "execution_count": 18,
     "metadata": {},
     "output_type": "execute_result"
    }
   ],
   "source": [
    "data_full.price.isna().sum()"
   ]
  },
  {
   "cell_type": "code",
   "execution_count": 19,
   "metadata": {},
   "outputs": [
    {
     "data": {
      "text/plain": [
       "count    1.507000e+03\n",
       "mean     1.227469e+06\n",
       "std      1.015451e+06\n",
       "min      3.590000e+05\n",
       "25%      7.154125e+05\n",
       "50%      9.200000e+05\n",
       "75%      1.378000e+06\n",
       "max      1.600000e+07\n",
       "Name: price, dtype: float64"
      ]
     },
     "execution_count": 19,
     "metadata": {},
     "output_type": "execute_result"
    }
   ],
   "source": [
    "data_full['price'].describe()"
   ]
  },
  {
   "cell_type": "code",
   "execution_count": 20,
   "metadata": {},
   "outputs": [
    {
     "data": {
      "text/plain": [
       "<matplotlib.axes._subplots.AxesSubplot at 0x1302dcc9548>"
      ]
     },
     "execution_count": 20,
     "metadata": {},
     "output_type": "execute_result"
    },
    {
     "data": {
      "image/png": "[encoded data removed]",
      "text/plain": [
       "<Figure size 432x288 with 1 Axes>"
      ]
     },
     "metadata": {
      "needs_background": "light"
     },
     "output_type": "display_data"
    }
   ],
   "source": [
    "sns.distplot(data_full['price'])"
   ]
  },
  {
   "cell_type": "code",
   "execution_count": 21,
   "metadata": {},
   "outputs": [],
   "source": [
    "# data_full['price'] = np.log(data_full['price'])\n",
    "# sns.distplot(data_full['price'])"
   ]
  },
  {
   "cell_type": "markdown",
   "metadata": {},
   "source": [
    "## Division des datas en valeurs numériques ( quantitative ) et catégorielles ( qualititative ) "
   ]
  },
  {
   "cell_type": "code",
   "execution_count": 22,
   "metadata": {},
   "outputs": [
    {
     "data": {
      "text/plain": [
       "typeof            object\n",
       "price            float64\n",
       "surface          float64\n",
       "field_surface    float64\n",
       "rooms            float64\n",
       "bedrooms         float64\n",
       "terrace           object\n",
       "balcony          float64\n",
       "pool              object\n",
       "parking          float64\n",
       "localisation      object\n",
       "agency            object\n",
       "link              object\n",
       "dtype: object"
      ]
     },
     "execution_count": 22,
     "metadata": {},
     "output_type": "execute_result"
    }
   ],
   "source": [
    "data_full.dtypes"
   ]
  },
  {
   "cell_type": "code",
   "execution_count": 23,
   "metadata": {},
   "outputs": [
    {
     "name": "stdout",
     "output_type": "stream",
     "text": [
      "Index(['typeof', 'terrace', 'pool', 'localisation', 'agency', 'link'], dtype='object')\n"
     ]
    }
   ],
   "source": [
    "qual = data_full.select_dtypes(include=['object']).columns\n",
    "print(qual)"
   ]
  },
  {
   "cell_type": "code",
   "execution_count": 24,
   "metadata": {},
   "outputs": [
    {
     "name": "stdout",
     "output_type": "stream",
     "text": [
      "Index(['surface', 'field_surface', 'rooms', 'bedrooms', 'balcony', 'parking'], dtype='object')\n"
     ]
    }
   ],
   "source": [
    "quan = data_full.select_dtypes(include=['int64','float64']).columns\n",
    "quan = quan.drop(pd.Index(['price']))\n",
    "print(quan)"
   ]
  },
  {
   "cell_type": "code",
   "execution_count": 25,
   "metadata": {},
   "outputs": [
    {
     "name": "stdout",
     "output_type": "stream",
     "text": [
      "6 catégorielles et 6 numériques\n"
     ]
    }
   ],
   "source": [
    "print(f\"{len(qual)} catégorielles et {len(quan)} numériques\")"
   ]
  },
  {
   "cell_type": "code",
   "execution_count": 26,
   "metadata": {},
   "outputs": [
    {
     "data": {
      "text/html": [
       "<div>\n",
       "<style scoped>\n",
       "    .dataframe tbody tr th:only-of-type {\n",
       "        vertical-align: middle;\n",
       "    }\n",
       "\n",
       "    .dataframe tbody tr th {\n",
       "        vertical-align: top;\n",
       "    }\n",
       "\n",
       "    .dataframe thead th {\n",
       "        text-align: right;\n",
       "    }\n",
       "</style>\n",
       "<table border=\"1\" class=\"dataframe\">\n",
       "  <thead>\n",
       "    <tr style=\"text-align: right;\">\n",
       "      <th></th>\n",
       "      <th>price</th>\n",
       "      <th>surface</th>\n",
       "      <th>field_surface</th>\n",
       "      <th>rooms</th>\n",
       "      <th>bedrooms</th>\n",
       "      <th>balcony</th>\n",
       "      <th>parking</th>\n",
       "    </tr>\n",
       "  </thead>\n",
       "  <tbody>\n",
       "    <tr>\n",
       "      <td>price</td>\n",
       "      <td>1.000000</td>\n",
       "      <td>0.544140</td>\n",
       "      <td>0.448751</td>\n",
       "      <td>0.414262</td>\n",
       "      <td>0.355433</td>\n",
       "      <td>0.046965</td>\n",
       "      <td>0.254548</td>\n",
       "    </tr>\n",
       "    <tr>\n",
       "      <td>surface</td>\n",
       "      <td>0.544140</td>\n",
       "      <td>1.000000</td>\n",
       "      <td>0.484572</td>\n",
       "      <td>0.819179</td>\n",
       "      <td>0.731695</td>\n",
       "      <td>0.220625</td>\n",
       "      <td>0.359220</td>\n",
       "    </tr>\n",
       "    <tr>\n",
       "      <td>field_surface</td>\n",
       "      <td>0.448751</td>\n",
       "      <td>0.484572</td>\n",
       "      <td>1.000000</td>\n",
       "      <td>0.446060</td>\n",
       "      <td>0.327110</td>\n",
       "      <td>-0.046489</td>\n",
       "      <td>0.227295</td>\n",
       "    </tr>\n",
       "    <tr>\n",
       "      <td>rooms</td>\n",
       "      <td>0.414262</td>\n",
       "      <td>0.819179</td>\n",
       "      <td>0.446060</td>\n",
       "      <td>1.000000</td>\n",
       "      <td>0.830613</td>\n",
       "      <td>0.068276</td>\n",
       "      <td>0.386359</td>\n",
       "    </tr>\n",
       "    <tr>\n",
       "      <td>bedrooms</td>\n",
       "      <td>0.355433</td>\n",
       "      <td>0.731695</td>\n",
       "      <td>0.327110</td>\n",
       "      <td>0.830613</td>\n",
       "      <td>1.000000</td>\n",
       "      <td>-0.001651</td>\n",
       "      <td>0.250952</td>\n",
       "    </tr>\n",
       "    <tr>\n",
       "      <td>balcony</td>\n",
       "      <td>0.046965</td>\n",
       "      <td>0.220625</td>\n",
       "      <td>-0.046489</td>\n",
       "      <td>0.068276</td>\n",
       "      <td>-0.001651</td>\n",
       "      <td>1.000000</td>\n",
       "      <td>-0.178053</td>\n",
       "    </tr>\n",
       "    <tr>\n",
       "      <td>parking</td>\n",
       "      <td>0.254548</td>\n",
       "      <td>0.359220</td>\n",
       "      <td>0.227295</td>\n",
       "      <td>0.386359</td>\n",
       "      <td>0.250952</td>\n",
       "      <td>-0.178053</td>\n",
       "      <td>1.000000</td>\n",
       "    </tr>\n",
       "  </tbody>\n",
       "</table>\n",
       "</div>"
      ],
      "text/plain": [
       "                  price   surface  field_surface     rooms  bedrooms  \\\n",
       "price          1.000000  0.544140       0.448751  0.414262  0.355433   \n",
       "surface        0.544140  1.000000       0.484572  0.819179  0.731695   \n",
       "field_surface  0.448751  0.484572       1.000000  0.446060  0.327110   \n",
       "rooms          0.414262  0.819179       0.446060  1.000000  0.830613   \n",
       "bedrooms       0.355433  0.731695       0.327110  0.830613  1.000000   \n",
       "balcony        0.046965  0.220625      -0.046489  0.068276 -0.001651   \n",
       "parking        0.254548  0.359220       0.227295  0.386359  0.250952   \n",
       "\n",
       "                balcony   parking  \n",
       "price          0.046965  0.254548  \n",
       "surface        0.220625  0.359220  \n",
       "field_surface -0.046489  0.227295  \n",
       "rooms          0.068276  0.386359  \n",
       "bedrooms      -0.001651  0.250952  \n",
       "balcony        1.000000 -0.178053  \n",
       "parking       -0.178053  1.000000  "
      ]
     },
     "execution_count": 26,
     "metadata": {},
     "output_type": "execute_result"
    }
   ],
   "source": [
    "corrmat = data_full.corr()\n",
    "corrmat"
   ]
  },
  {
   "cell_type": "markdown",
   "metadata": {},
   "source": [
    "## Analyse features numériques"
   ]
  },
  {
   "cell_type": "code",
   "execution_count": 27,
   "metadata": {},
   "outputs": [
    {
     "data": {
      "text/plain": [
       "(1507, 13)"
      ]
     },
     "execution_count": 27,
     "metadata": {},
     "output_type": "execute_result"
    }
   ],
   "source": [
    "data_full.shape"
   ]
  },
  {
   "cell_type": "code",
   "execution_count": 28,
   "metadata": {
    "scrolled": true
   },
   "outputs": [
    {
     "data": {
      "image/png": "[encoded data removed]",
      "text/plain": [
       "<Figure size 432x288 with 1 Axes>"
      ]
     },
     "metadata": {
      "needs_background": "light"
     },
     "output_type": "display_data"
    },
    {
     "data": {
      "image/png": "[encoded data removed]",
      "text/plain": [
       "<Figure size 432x288 with 1 Axes>"
      ]
     },
     "metadata": {
      "needs_background": "light"
     },
     "output_type": "display_data"
    },
    {
     "data": {
      "image/png": "[encoded data removed]",
      "text/plain": [
       "<Figure size 432x288 with 1 Axes>"
      ]
     },
     "metadata": {
      "needs_background": "light"
     },
     "output_type": "display_data"
    },
    {
     "data": {
      "image/png": "[encoded data removed]",
      "text/plain": [
       "<Figure size 432x288 with 1 Axes>"
      ]
     },
     "metadata": {
      "needs_background": "light"
     },
     "output_type": "display_data"
    },
    {
     "data": {
      "image/png": "[encoded data removed]",
      "text/plain": [
       "<Figure size 432x288 with 1 Axes>"
      ]
     },
     "metadata": {
      "needs_background": "light"
     },
     "output_type": "display_data"
    },
    {
     "data": {
      "image/png": "[encoded data removed]",
      "text/plain": [
       "<Figure size 432x288 with 1 Axes>"
      ]
     },
     "metadata": {
      "needs_background": "light"
     },
     "output_type": "display_data"
    }
   ],
   "source": [
    "for feature in data_full[quan]:\n",
    "    sns.regplot(x=feature,y='price', data=data_full)\n",
    "    plt.show()"
   ]
  },
  {
   "cell_type": "code",
   "execution_count": 29,
   "metadata": {},
   "outputs": [],
   "source": [
    "shape_before_outliers = data_full.shape[0]"
   ]
  },
  {
   "cell_type": "markdown",
   "metadata": {},
   "source": [
    "### Certaines features semblent avoir des outliers , Analyse une par une\n",
    "\n",
    "* #### Surface\n"
   ]
  },
  {
   "cell_type": "code",
   "execution_count": 30,
   "metadata": {},
   "outputs": [
    {
     "name": "stdout",
     "output_type": "stream",
     "text": [
      "corr : 0.54\n"
     ]
    },
    {
     "data": {
      "image/png": "[encoded data removed]",
      "text/plain": [
       "<Figure size 432x288 with 1 Axes>"
      ]
     },
     "metadata": {
      "needs_background": "light"
     },
     "output_type": "display_data"
    }
   ],
   "source": [
    "sns.regplot(x='surface',y='price', data=data_full)\n",
    "print(f\"corr : {round(data_full['surface'].corr(data_full['price']),2)}\")"
   ]
  },
  {
   "cell_type": "code",
   "execution_count": 31,
   "metadata": {},
   "outputs": [
    {
     "name": "stdout",
     "output_type": "stream",
     "text": [
      "corr : 0.57\n"
     ]
    },
    {
     "data": {
      "image/png": "[encoded data removed]",
      "text/plain": [
       "<Figure size 432x288 with 1 Axes>"
      ]
     },
     "metadata": {
      "needs_background": "light"
     },
     "output_type": "display_data"
    }
   ],
   "source": [
    "data_full = data_full.drop(data_full[(data_full['surface']>3400)].index).reset_index(drop=True)\n",
    "sns.regplot(x='surface',y='price', data=data_full)\n",
    "print(f\"corr : {round(data_full['surface'].corr(data_full['price']),2)}\")"
   ]
  },
  {
   "cell_type": "code",
   "execution_count": 32,
   "metadata": {},
   "outputs": [
    {
     "data": {
      "text/plain": [
       "(1505, 13)"
      ]
     },
     "execution_count": 32,
     "metadata": {},
     "output_type": "execute_result"
    }
   ],
   "source": [
    "data_full.shape"
   ]
  },
  {
   "cell_type": "markdown",
   "metadata": {},
   "source": [
    "* #### Field_surface"
   ]
  },
  {
   "cell_type": "code",
   "execution_count": 33,
   "metadata": {},
   "outputs": [
    {
     "name": "stdout",
     "output_type": "stream",
     "text": [
      "corr : 0.42\n"
     ]
    },
    {
     "data": {
      "image/png": "[encoded data removed]",
      "text/plain": [
       "<Figure size 432x288 with 1 Axes>"
      ]
     },
     "metadata": {
      "needs_background": "light"
     },
     "output_type": "display_data"
    }
   ],
   "source": [
    "sns.regplot(x='field_surface',y='price', data=data_full)\n",
    "print(f\"corr : {round(data_full['field_surface'].corr(data_full['price']),2)}\")"
   ]
  },
  {
   "cell_type": "code",
   "execution_count": 34,
   "metadata": {},
   "outputs": [
    {
     "name": "stdout",
     "output_type": "stream",
     "text": [
      "corr : 0.44\n"
     ]
    },
    {
     "data": {
      "image/png": "[encoded data removed]",
      "text/plain": [
       "<Figure size 432x288 with 1 Axes>"
      ]
     },
     "metadata": {
      "needs_background": "light"
     },
     "output_type": "display_data"
    }
   ],
   "source": [
    "data_full = data_full.drop(data_full[(data_full['field_surface']>800000) & (data_full['price'] < 2000000) ].index).reset_index(drop=True)\n",
    "sns.regplot(x='field_surface',y='price', data=data_full)\n",
    "print(f\"corr : {round(data_full['field_surface'].corr(data_full['price']),2)}\")"
   ]
  },
  {
   "cell_type": "markdown",
   "metadata": {},
   "source": [
    "* #### Bedrooms"
   ]
  },
  {
   "cell_type": "code",
   "execution_count": 35,
   "metadata": {},
   "outputs": [
    {
     "data": {
      "text/plain": [
       "(1504, 13)"
      ]
     },
     "execution_count": 35,
     "metadata": {},
     "output_type": "execute_result"
    }
   ],
   "source": [
    "data_full.shape"
   ]
  },
  {
   "cell_type": "code",
   "execution_count": 36,
   "metadata": {},
   "outputs": [
    {
     "name": "stdout",
     "output_type": "stream",
     "text": [
      "corr : 0.33\n"
     ]
    },
    {
     "data": {
      "image/png": "[encoded data removed]",
      "text/plain": [
       "<Figure size 432x288 with 1 Axes>"
      ]
     },
     "metadata": {
      "needs_background": "light"
     },
     "output_type": "display_data"
    }
   ],
   "source": [
    "sns.regplot(x='bedrooms',y='price', data=data_full)\n",
    "print(f\"corr : {round(data_full['bedrooms'].corr(data_full['price']),2)}\")"
   ]
  },
  {
   "cell_type": "code",
   "execution_count": 37,
   "metadata": {},
   "outputs": [
    {
     "name": "stdout",
     "output_type": "stream",
     "text": [
      "corr : 0.36\n"
     ]
    },
    {
     "data": {
      "image/png": "[encoded data removed]",
      "text/plain": [
       "<Figure size 432x288 with 1 Axes>"
      ]
     },
     "metadata": {
      "needs_background": "light"
     },
     "output_type": "display_data"
    }
   ],
   "source": [
    "data_full = data_full.drop(data_full[(data_full['bedrooms']>35) ].index).reset_index(drop=True)\n",
    "sns.regplot(x='bedrooms',y='price', data=data_full)\n",
    "print(f\"corr : {round(data_full['bedrooms'].corr(data_full['price']),2)}\")"
   ]
  },
  {
   "cell_type": "code",
   "execution_count": 38,
   "metadata": {},
   "outputs": [
    {
     "name": "stdout",
     "output_type": "stream",
     "text": [
      "On a enlevé 4 outliers\n"
     ]
    }
   ],
   "source": [
    "nb_outliers = shape_before_outliers - data_full.shape[0]\n",
    "print(f\"On a enlevé {nb_outliers} outliers\")"
   ]
  },
  {
   "cell_type": "code",
   "execution_count": 39,
   "metadata": {},
   "outputs": [
    {
     "data": {
      "text/plain": [
       "(1503, 13)"
      ]
     },
     "execution_count": 39,
     "metadata": {},
     "output_type": "execute_result"
    }
   ],
   "source": [
    "data_full.shape"
   ]
  },
  {
   "cell_type": "markdown",
   "metadata": {},
   "source": [
    "## Traitement des valeurs manquantes dans le dataset"
   ]
  },
  {
   "cell_type": "code",
   "execution_count": 41,
   "metadata": {},
   "outputs": [],
   "source": [
    "def hasnan(dataset):\n",
    "    hasNAN = round((dataset.isnull().sum() / len(dataset)) * 100,2)  # toutes les features et leurs nombres de zéros ( % )\n",
    "    hasNAN = hasNAN[hasNAN > 0] # On enleve celles qui n'ont pas de valeurs nulles \n",
    "    hasNAN = hasNAN.sort_values(ascending=False)\n",
    "    missing_values = pd.DataFrame({'Missing Ratio': hasNAN})\n",
    "    return missing_values"
   ]
  },
  {
   "cell_type": "code",
   "execution_count": 42,
   "metadata": {},
   "outputs": [
    {
     "data": {
      "text/html": [
       "<div>\n",
       "<style scoped>\n",
       "    .dataframe tbody tr th:only-of-type {\n",
       "        vertical-align: middle;\n",
       "    }\n",
       "\n",
       "    .dataframe tbody tr th {\n",
       "        vertical-align: top;\n",
       "    }\n",
       "\n",
       "    .dataframe thead th {\n",
       "        text-align: right;\n",
       "    }\n",
       "</style>\n",
       "<table border=\"1\" class=\"dataframe\">\n",
       "  <thead>\n",
       "    <tr style=\"text-align: right;\">\n",
       "      <th></th>\n",
       "      <th>Missing Ratio</th>\n",
       "    </tr>\n",
       "  </thead>\n",
       "  <tbody>\n",
       "    <tr>\n",
       "      <td>balcony</td>\n",
       "      <td>88.82</td>\n",
       "    </tr>\n",
       "    <tr>\n",
       "      <td>parking</td>\n",
       "      <td>71.99</td>\n",
       "    </tr>\n",
       "    <tr>\n",
       "      <td>field_surface</td>\n",
       "      <td>43.91</td>\n",
       "    </tr>\n",
       "    <tr>\n",
       "      <td>rooms</td>\n",
       "      <td>1.53</td>\n",
       "    </tr>\n",
       "    <tr>\n",
       "      <td>surface</td>\n",
       "      <td>1.33</td>\n",
       "    </tr>\n",
       "    <tr>\n",
       "      <td>bedrooms</td>\n",
       "      <td>0.47</td>\n",
       "    </tr>\n",
       "  </tbody>\n",
       "</table>\n",
       "</div>"
      ],
      "text/plain": [
       "               Missing Ratio\n",
       "balcony                88.82\n",
       "parking                71.99\n",
       "field_surface          43.91\n",
       "rooms                   1.53\n",
       "surface                 1.33\n",
       "bedrooms                0.47"
      ]
     },
     "execution_count": 42,
     "metadata": {},
     "output_type": "execute_result"
    }
   ],
   "source": [
    "hasnan(data_full)"
   ]
  },
  {
   "cell_type": "code",
   "execution_count": 43,
   "metadata": {},
   "outputs": [
    {
     "data": {
      "text/plain": [
       "(1503, 13)"
      ]
     },
     "execution_count": 43,
     "metadata": {},
     "output_type": "execute_result"
    }
   ],
   "source": [
    "data_full.shape"
   ]
  },
  {
   "cell_type": "markdown",
   "metadata": {},
   "source": [
    "### balcony\n",
    "On considère que NA signifie pas de balcon"
   ]
  },
  {
   "cell_type": "markdown",
   "metadata": {},
   "source": [
    "### parking\n",
    "On considère que NA signie pas de parking"
   ]
  },
  {
   "cell_type": "markdown",
   "metadata": {},
   "source": [
    "### field_surface"
   ]
  },
  {
   "cell_type": "code",
   "execution_count": 44,
   "metadata": {},
   "outputs": [
    {
     "data": {
      "text/plain": [
       "Maison / Villa          1058\n",
       "Appartement              355\n",
       "Château                   63\n",
       "Hôtel particulier         15\n",
       "Loft/Atelier/Surface      12\n",
       "Name: typeof, dtype: int64"
      ]
     },
     "execution_count": 44,
     "metadata": {},
     "output_type": "execute_result"
    }
   ],
   "source": [
    "data_full.typeof.value_counts()"
   ]
  },
  {
   "cell_type": "code",
   "execution_count": 45,
   "metadata": {},
   "outputs": [
    {
     "data": {
      "text/plain": [
       "660"
      ]
     },
     "execution_count": 45,
     "metadata": {},
     "output_type": "execute_result"
    }
   ],
   "source": [
    "data_full['field_surface'].isnull().sum()"
   ]
  },
  {
   "cell_type": "markdown",
   "metadata": {},
   "source": [
    "44% des biens n'ont pas de surface du terrain renseigné , certains sont des appartements ou des lofts ce qui parait normal ( pas de terrain )"
   ]
  },
  {
   "cell_type": "code",
   "execution_count": 46,
   "metadata": {},
   "outputs": [
    {
     "data": {
      "text/plain": [
       "355"
      ]
     },
     "execution_count": 46,
     "metadata": {},
     "output_type": "execute_result"
    }
   ],
   "source": [
    "app_surface_null = data_full.loc[(data_full['typeof'] == 'Appartement') & (data_full['field_surface'].isnull())]\n",
    "len(app_surface_null)"
   ]
  },
  {
   "cell_type": "code",
   "execution_count": 47,
   "metadata": {},
   "outputs": [
    {
     "data": {
      "text/plain": [
       "12"
      ]
     },
     "execution_count": 47,
     "metadata": {},
     "output_type": "execute_result"
    }
   ],
   "source": [
    "loft_surface_null = data_full.loc[(data_full['typeof'] == 'Loft/Atelier/Surface') & (data_full['field_surface'].isnull())]\n",
    "len(loft_surface_null)"
   ]
  },
  {
   "cell_type": "code",
   "execution_count": 48,
   "metadata": {},
   "outputs": [
    {
     "data": {
      "text/plain": [
       "272"
      ]
     },
     "execution_count": 48,
     "metadata": {},
     "output_type": "execute_result"
    }
   ],
   "source": [
    "house_surface_null = data_full.loc[(data_full['typeof'] == 'Maison / Villa') & (data_full['field_surface'].isnull())]\n",
    "len(house_surface_null)"
   ]
  },
  {
   "cell_type": "code",
   "execution_count": 49,
   "metadata": {},
   "outputs": [
    {
     "data": {
      "text/plain": [
       "293"
      ]
     },
     "execution_count": 49,
     "metadata": {},
     "output_type": "execute_result"
    }
   ],
   "source": [
    "other_surface_null = data_full.loc[(data_full['typeof'] != 'Appartement') & (data_full['typeof'] != 'Loft/Atelier/Surface') & (data_full['field_surface'].isnull())]\n",
    "len(other_surface_null)"
   ]
  },
  {
   "cell_type": "markdown",
   "metadata": {},
   "source": [
    "293 batiments qui ne sont pas des appartements ou des lofts n'ont pas de surface indiqués , peut etre qu'ils ont un terrain mais dont la taille n'est pas mise en avant dans l'annonce"
   ]
  },
  {
   "cell_type": "code",
   "execution_count": 50,
   "metadata": {},
   "outputs": [
    {
     "data": {
      "text/plain": [
       "29219.88"
      ]
     },
     "execution_count": 50,
     "metadata": {},
     "output_type": "execute_result"
    }
   ],
   "source": [
    "round(data_full.loc[data_full['field_surface'].notnull()]['field_surface'].mean(),2)"
   ]
  },
  {
   "cell_type": "code",
   "execution_count": 51,
   "metadata": {},
   "outputs": [
    {
     "name": "stdout",
     "output_type": "stream",
     "text": [
      "0    1200.0\n",
      "dtype: float64\n"
     ]
    },
    {
     "data": {
      "text/plain": [
       "14"
      ]
     },
     "execution_count": 51,
     "metadata": {},
     "output_type": "execute_result"
    }
   ],
   "source": [
    "mode_field_surface = data_full.loc[data_full['field_surface'].notnull()]['field_surface'].mode()\n",
    "print(mode_field_surface)\n",
    "len(data_full.loc[data_full['field_surface'] == float(mode_field_surface)])\n"
   ]
  },
  {
   "cell_type": "code",
   "execution_count": 52,
   "metadata": {},
   "outputs": [
    {
     "data": {
      "text/plain": [
       "1386.0"
      ]
     },
     "execution_count": 52,
     "metadata": {},
     "output_type": "execute_result"
    }
   ],
   "source": [
    "median_field_surface = data_full.loc[data_full['field_surface'].notnull()]['field_surface'].median()\n",
    "median_field_surface"
   ]
  },
  {
   "cell_type": "code",
   "execution_count": 53,
   "metadata": {},
   "outputs": [],
   "source": [
    "# for index in other_surface_null.index:\n",
    "#     print(data_full.loc[index]['link'])"
   ]
  },
  {
   "cell_type": "markdown",
   "metadata": {},
   "source": [
    "#### Traitement des NA\n",
    "On constate que la moyenne des terrains dont la taille est indiqué est de 29220 m² ce qui est énorme , remplacer les valeurs manquantes par cette valeur ne semble pas judicieux , concernant le mode il est de 1200m² mais n'apparait que 14 fois dans l'ensemble du dataset. On va donc remplacer toutes les valeurs manquantes par 0 pour les appartements et les lofts et par la médiane (1386 m² )  pour les autres en estimant que les maisons , hotels particuliers et chateau doivent avoir un terrain"
   ]
  },
  {
   "cell_type": "markdown",
   "metadata": {},
   "source": [
    "### rooms\n",
    "Analyse des biens dont le nombre de pièces n'est pas précisé"
   ]
  },
  {
   "cell_type": "code",
   "execution_count": 54,
   "metadata": {},
   "outputs": [
    {
     "data": {
      "text/plain": [
       "23"
      ]
     },
     "execution_count": 54,
     "metadata": {},
     "output_type": "execute_result"
    }
   ],
   "source": [
    "rooms_na = data_full.loc[data_full['rooms'].isnull()]\n",
    "len(rooms_na)"
   ]
  },
  {
   "cell_type": "code",
   "execution_count": 55,
   "metadata": {
    "scrolled": true
   },
   "outputs": [
    {
     "data": {
      "text/html": [
       "<div>\n",
       "<style scoped>\n",
       "    .dataframe tbody tr th:only-of-type {\n",
       "        vertical-align: middle;\n",
       "    }\n",
       "\n",
       "    .dataframe tbody tr th {\n",
       "        vertical-align: top;\n",
       "    }\n",
       "\n",
       "    .dataframe thead th {\n",
       "        text-align: right;\n",
       "    }\n",
       "</style>\n",
       "<table border=\"1\" class=\"dataframe\">\n",
       "  <thead>\n",
       "    <tr style=\"text-align: right;\">\n",
       "      <th></th>\n",
       "      <th>typeof</th>\n",
       "      <th>price</th>\n",
       "      <th>surface</th>\n",
       "      <th>field_surface</th>\n",
       "      <th>rooms</th>\n",
       "      <th>bedrooms</th>\n",
       "      <th>terrace</th>\n",
       "      <th>balcony</th>\n",
       "      <th>pool</th>\n",
       "      <th>parking</th>\n",
       "      <th>localisation</th>\n",
       "      <th>agency</th>\n",
       "      <th>link</th>\n",
       "    </tr>\n",
       "  </thead>\n",
       "  <tbody>\n",
       "    <tr>\n",
       "      <td>192</td>\n",
       "      <td>Maison / Villa</td>\n",
       "      <td>1863000.0</td>\n",
       "      <td>470.0</td>\n",
       "      <td>10500.0</td>\n",
       "      <td>NaN</td>\n",
       "      <td>1.0</td>\n",
       "      <td>NON</td>\n",
       "      <td>NaN</td>\n",
       "      <td>OUI</td>\n",
       "      <td>NaN</td>\n",
       "      <td>Cénac</td>\n",
       "      <td>Barnes Bordeaux</td>\n",
       "      <td>https://www.bellesdemeures.com/annonces/vente/...</td>\n",
       "    </tr>\n",
       "    <tr>\n",
       "      <td>648</td>\n",
       "      <td>Appartement</td>\n",
       "      <td>495000.0</td>\n",
       "      <td>73.0</td>\n",
       "      <td>NaN</td>\n",
       "      <td>NaN</td>\n",
       "      <td>NaN</td>\n",
       "      <td>OUI</td>\n",
       "      <td>NaN</td>\n",
       "      <td>NON</td>\n",
       "      <td>NaN</td>\n",
       "      <td>Bordeaux</td>\n",
       "      <td>Barnes Bordeaux</td>\n",
       "      <td>https://www.bellesdemeures.com/annonces/vente/...</td>\n",
       "    </tr>\n",
       "    <tr>\n",
       "      <td>658</td>\n",
       "      <td>Hôtel particulier</td>\n",
       "      <td>3440000.0</td>\n",
       "      <td>650.0</td>\n",
       "      <td>NaN</td>\n",
       "      <td>NaN</td>\n",
       "      <td>1.0</td>\n",
       "      <td>OUI</td>\n",
       "      <td>NaN</td>\n",
       "      <td>OUI</td>\n",
       "      <td>NaN</td>\n",
       "      <td>Bordeaux</td>\n",
       "      <td>Barnes Bordeaux</td>\n",
       "      <td>https://www.bellesdemeures.com/annonces/vente/...</td>\n",
       "    </tr>\n",
       "    <tr>\n",
       "      <td>763</td>\n",
       "      <td>Maison / Villa</td>\n",
       "      <td>895000.0</td>\n",
       "      <td>209.0</td>\n",
       "      <td>NaN</td>\n",
       "      <td>NaN</td>\n",
       "      <td>4.0</td>\n",
       "      <td>NON</td>\n",
       "      <td>NaN</td>\n",
       "      <td>OUI</td>\n",
       "      <td>NaN</td>\n",
       "      <td>Saint-Médard-en-Jalles</td>\n",
       "      <td>Barnes Bordeaux</td>\n",
       "      <td>https://www.bellesdemeures.com/annonces/vente/...</td>\n",
       "    </tr>\n",
       "    <tr>\n",
       "      <td>777</td>\n",
       "      <td>Maison / Villa</td>\n",
       "      <td>795000.0</td>\n",
       "      <td>177.0</td>\n",
       "      <td>NaN</td>\n",
       "      <td>NaN</td>\n",
       "      <td>3.0</td>\n",
       "      <td>OUI</td>\n",
       "      <td>NaN</td>\n",
       "      <td>NON</td>\n",
       "      <td>NaN</td>\n",
       "      <td>Bordeaux</td>\n",
       "      <td>Barnes Bordeaux</td>\n",
       "      <td>https://www.bellesdemeures.com/annonces/vente/...</td>\n",
       "    </tr>\n",
       "    <tr>\n",
       "      <td>840</td>\n",
       "      <td>Maison / Villa</td>\n",
       "      <td>3074000.0</td>\n",
       "      <td>650.0</td>\n",
       "      <td>580000.0</td>\n",
       "      <td>NaN</td>\n",
       "      <td>6.0</td>\n",
       "      <td>NON</td>\n",
       "      <td>NaN</td>\n",
       "      <td>NON</td>\n",
       "      <td>NaN</td>\n",
       "      <td>Bordeaux</td>\n",
       "      <td>MAXWELL-BAYNES</td>\n",
       "      <td>https://www.bellesdemeures.com/annonces/vente/...</td>\n",
       "    </tr>\n",
       "    <tr>\n",
       "      <td>842</td>\n",
       "      <td>Maison / Villa</td>\n",
       "      <td>1915000.0</td>\n",
       "      <td>1200.0</td>\n",
       "      <td>17500.0</td>\n",
       "      <td>NaN</td>\n",
       "      <td>12.0</td>\n",
       "      <td>OUI</td>\n",
       "      <td>NaN</td>\n",
       "      <td>OUI</td>\n",
       "      <td>NaN</td>\n",
       "      <td>La Brède</td>\n",
       "      <td>MAXWELL-BAYNES</td>\n",
       "      <td>https://www.bellesdemeures.com/annonces/vente/...</td>\n",
       "    </tr>\n",
       "    <tr>\n",
       "      <td>852</td>\n",
       "      <td>Maison / Villa</td>\n",
       "      <td>6390000.0</td>\n",
       "      <td>NaN</td>\n",
       "      <td>700000.0</td>\n",
       "      <td>NaN</td>\n",
       "      <td>1.0</td>\n",
       "      <td>NON</td>\n",
       "      <td>NaN</td>\n",
       "      <td>NON</td>\n",
       "      <td>NaN</td>\n",
       "      <td>Bordeaux</td>\n",
       "      <td>BARNES PROPRIETES ET CHATEAUX</td>\n",
       "      <td>https://www.bellesdemeures.com/annonces/vente/...</td>\n",
       "    </tr>\n",
       "    <tr>\n",
       "      <td>919</td>\n",
       "      <td>Maison / Villa</td>\n",
       "      <td>2450000.0</td>\n",
       "      <td>330.0</td>\n",
       "      <td>NaN</td>\n",
       "      <td>NaN</td>\n",
       "      <td>1.0</td>\n",
       "      <td>NON</td>\n",
       "      <td>NaN</td>\n",
       "      <td>OUI</td>\n",
       "      <td>NaN</td>\n",
       "      <td>Bordeaux</td>\n",
       "      <td>Barnes Bordeaux</td>\n",
       "      <td>https://www.bellesdemeures.com/annonces/vente/...</td>\n",
       "    </tr>\n",
       "    <tr>\n",
       "      <td>921</td>\n",
       "      <td>Hôtel particulier</td>\n",
       "      <td>1735000.0</td>\n",
       "      <td>316.0</td>\n",
       "      <td>NaN</td>\n",
       "      <td>NaN</td>\n",
       "      <td>5.0</td>\n",
       "      <td>NON</td>\n",
       "      <td>NaN</td>\n",
       "      <td>OUI</td>\n",
       "      <td>NaN</td>\n",
       "      <td>Eysines</td>\n",
       "      <td>Barnes Bordeaux</td>\n",
       "      <td>https://www.bellesdemeures.com/annonces/vente/...</td>\n",
       "    </tr>\n",
       "    <tr>\n",
       "      <td>922</td>\n",
       "      <td>Maison / Villa</td>\n",
       "      <td>960000.0</td>\n",
       "      <td>450.0</td>\n",
       "      <td>NaN</td>\n",
       "      <td>NaN</td>\n",
       "      <td>8.0</td>\n",
       "      <td>NON</td>\n",
       "      <td>1.0</td>\n",
       "      <td>OUI</td>\n",
       "      <td>NaN</td>\n",
       "      <td>Bouliac</td>\n",
       "      <td>MAXWELL-BAYNES</td>\n",
       "      <td>https://www.bellesdemeures.com/annonces/vente/...</td>\n",
       "    </tr>\n",
       "    <tr>\n",
       "      <td>924</td>\n",
       "      <td>Maison / Villa</td>\n",
       "      <td>499200.0</td>\n",
       "      <td>85.0</td>\n",
       "      <td>NaN</td>\n",
       "      <td>NaN</td>\n",
       "      <td>2.0</td>\n",
       "      <td>NON</td>\n",
       "      <td>NaN</td>\n",
       "      <td>NON</td>\n",
       "      <td>NaN</td>\n",
       "      <td>Lège-Cap-Ferret</td>\n",
       "      <td>BARNES BASSIN D'ARCACHON</td>\n",
       "      <td>https://www.bellesdemeures.com/annonces/vente/...</td>\n",
       "    </tr>\n",
       "    <tr>\n",
       "      <td>931</td>\n",
       "      <td>Château</td>\n",
       "      <td>1490000.0</td>\n",
       "      <td>NaN</td>\n",
       "      <td>27000.0</td>\n",
       "      <td>NaN</td>\n",
       "      <td>5.0</td>\n",
       "      <td>NON</td>\n",
       "      <td>NaN</td>\n",
       "      <td>NON</td>\n",
       "      <td>NaN</td>\n",
       "      <td>Blaye</td>\n",
       "      <td>MAXWELL-BAYNES</td>\n",
       "      <td>https://www.bellesdemeures.com/annonces/vente/...</td>\n",
       "    </tr>\n",
       "    <tr>\n",
       "      <td>973</td>\n",
       "      <td>Maison / Villa</td>\n",
       "      <td>2288000.0</td>\n",
       "      <td>NaN</td>\n",
       "      <td>1200.0</td>\n",
       "      <td>NaN</td>\n",
       "      <td>1.0</td>\n",
       "      <td>NON</td>\n",
       "      <td>NaN</td>\n",
       "      <td>NON</td>\n",
       "      <td>NaN</td>\n",
       "      <td>Pyla sur Mer</td>\n",
       "      <td>BARNES BASSIN D'ARCACHON</td>\n",
       "      <td>https://www.bellesdemeures.com/annonces/vente/...</td>\n",
       "    </tr>\n",
       "    <tr>\n",
       "      <td>974</td>\n",
       "      <td>Maison / Villa</td>\n",
       "      <td>1995000.0</td>\n",
       "      <td>NaN</td>\n",
       "      <td>2200.0</td>\n",
       "      <td>NaN</td>\n",
       "      <td>1.0</td>\n",
       "      <td>NON</td>\n",
       "      <td>NaN</td>\n",
       "      <td>NON</td>\n",
       "      <td>NaN</td>\n",
       "      <td>Arcachon</td>\n",
       "      <td>BARNES BASSIN D'ARCACHON</td>\n",
       "      <td>https://www.bellesdemeures.com/annonces/vente/...</td>\n",
       "    </tr>\n",
       "    <tr>\n",
       "      <td>988</td>\n",
       "      <td>Appartement</td>\n",
       "      <td>995000.0</td>\n",
       "      <td>120.0</td>\n",
       "      <td>NaN</td>\n",
       "      <td>NaN</td>\n",
       "      <td>1.0</td>\n",
       "      <td>OUI</td>\n",
       "      <td>NaN</td>\n",
       "      <td>NON</td>\n",
       "      <td>NaN</td>\n",
       "      <td>Arcachon</td>\n",
       "      <td>BARNES BASSIN D'ARCACHON</td>\n",
       "      <td>https://www.bellesdemeures.com/annonces/vente/...</td>\n",
       "    </tr>\n",
       "    <tr>\n",
       "      <td>989</td>\n",
       "      <td>Maison / Villa</td>\n",
       "      <td>750000.0</td>\n",
       "      <td>NaN</td>\n",
       "      <td>264100.0</td>\n",
       "      <td>NaN</td>\n",
       "      <td>1.0</td>\n",
       "      <td>NON</td>\n",
       "      <td>NaN</td>\n",
       "      <td>NON</td>\n",
       "      <td>NaN</td>\n",
       "      <td>Bordeaux</td>\n",
       "      <td>AGENCE HAMILTON</td>\n",
       "      <td>https://www.bellesdemeures.com/annonces/vente/...</td>\n",
       "    </tr>\n",
       "    <tr>\n",
       "      <td>1011</td>\n",
       "      <td>Maison / Villa</td>\n",
       "      <td>6300000.0</td>\n",
       "      <td>93.0</td>\n",
       "      <td>NaN</td>\n",
       "      <td>NaN</td>\n",
       "      <td>1.0</td>\n",
       "      <td>NON</td>\n",
       "      <td>NaN</td>\n",
       "      <td>NON</td>\n",
       "      <td>NaN</td>\n",
       "      <td>Bordeaux</td>\n",
       "      <td>MAXWELL-BAYNES</td>\n",
       "      <td>https://www.bellesdemeures.com/annonces/vente/...</td>\n",
       "    </tr>\n",
       "    <tr>\n",
       "      <td>1028</td>\n",
       "      <td>Maison / Villa</td>\n",
       "      <td>1995000.0</td>\n",
       "      <td>270.0</td>\n",
       "      <td>NaN</td>\n",
       "      <td>NaN</td>\n",
       "      <td>1.0</td>\n",
       "      <td>NON</td>\n",
       "      <td>NaN</td>\n",
       "      <td>NON</td>\n",
       "      <td>NaN</td>\n",
       "      <td>Arcachon</td>\n",
       "      <td>BARNES BASSIN D'ARCACHON</td>\n",
       "      <td>https://www.bellesdemeures.com/annonces/vente/...</td>\n",
       "    </tr>\n",
       "    <tr>\n",
       "      <td>1034</td>\n",
       "      <td>Maison / Villa</td>\n",
       "      <td>6890000.0</td>\n",
       "      <td>NaN</td>\n",
       "      <td>NaN</td>\n",
       "      <td>NaN</td>\n",
       "      <td>1.0</td>\n",
       "      <td>NON</td>\n",
       "      <td>NaN</td>\n",
       "      <td>NON</td>\n",
       "      <td>NaN</td>\n",
       "      <td>Cap Ferret</td>\n",
       "      <td>BARNES BASSIN D'ARCACHON</td>\n",
       "      <td>https://www.bellesdemeures.com/annonces/vente/...</td>\n",
       "    </tr>\n",
       "    <tr>\n",
       "      <td>1433</td>\n",
       "      <td>Maison / Villa</td>\n",
       "      <td>999000.0</td>\n",
       "      <td>200.0</td>\n",
       "      <td>NaN</td>\n",
       "      <td>NaN</td>\n",
       "      <td>5.0</td>\n",
       "      <td>OUI</td>\n",
       "      <td>NaN</td>\n",
       "      <td>NON</td>\n",
       "      <td>NaN</td>\n",
       "      <td>Bordeaux</td>\n",
       "      <td>ID PATRIMOINE</td>\n",
       "      <td>https://www.bellesdemeures.com/annonces/vente/...</td>\n",
       "    </tr>\n",
       "    <tr>\n",
       "      <td>1442</td>\n",
       "      <td>Château</td>\n",
       "      <td>2800000.0</td>\n",
       "      <td>1000.0</td>\n",
       "      <td>370000.0</td>\n",
       "      <td>NaN</td>\n",
       "      <td>7.0</td>\n",
       "      <td>NON</td>\n",
       "      <td>NaN</td>\n",
       "      <td>NON</td>\n",
       "      <td>NaN</td>\n",
       "      <td>Bordeaux</td>\n",
       "      <td>INVEST-BORDEAUX</td>\n",
       "      <td>https://www.bellesdemeures.com/annonces/vente/...</td>\n",
       "    </tr>\n",
       "    <tr>\n",
       "      <td>1471</td>\n",
       "      <td>Château</td>\n",
       "      <td>2680000.0</td>\n",
       "      <td>650.0</td>\n",
       "      <td>80000.0</td>\n",
       "      <td>NaN</td>\n",
       "      <td>NaN</td>\n",
       "      <td>NON</td>\n",
       "      <td>NaN</td>\n",
       "      <td>NON</td>\n",
       "      <td>NaN</td>\n",
       "      <td>Bordeaux</td>\n",
       "      <td>INVEST-BORDEAUX</td>\n",
       "      <td>https://www.bellesdemeures.com/annonces/vente/...</td>\n",
       "    </tr>\n",
       "  </tbody>\n",
       "</table>\n",
       "</div>"
      ],
      "text/plain": [
       "                 typeof      price  surface  field_surface  rooms  bedrooms  \\\n",
       "192      Maison / Villa  1863000.0    470.0        10500.0    NaN       1.0   \n",
       "648         Appartement   495000.0     73.0            NaN    NaN       NaN   \n",
       "658   Hôtel particulier  3440000.0    650.0            NaN    NaN       1.0   \n",
       "763      Maison / Villa   895000.0    209.0            NaN    NaN       4.0   \n",
       "777      Maison / Villa   795000.0    177.0            NaN    NaN       3.0   \n",
       "840      Maison / Villa  3074000.0    650.0       580000.0    NaN       6.0   \n",
       "842      Maison / Villa  1915000.0   1200.0        17500.0    NaN      12.0   \n",
       "852      Maison / Villa  6390000.0      NaN       700000.0    NaN       1.0   \n",
       "919      Maison / Villa  2450000.0    330.0            NaN    NaN       1.0   \n",
       "921   Hôtel particulier  1735000.0    316.0            NaN    NaN       5.0   \n",
       "922      Maison / Villa   960000.0    450.0            NaN    NaN       8.0   \n",
       "924      Maison / Villa   499200.0     85.0            NaN    NaN       2.0   \n",
       "931             Château  1490000.0      NaN        27000.0    NaN       5.0   \n",
       "973      Maison / Villa  2288000.0      NaN         1200.0    NaN       1.0   \n",
       "974      Maison / Villa  1995000.0      NaN         2200.0    NaN       1.0   \n",
       "988         Appartement   995000.0    120.0            NaN    NaN       1.0   \n",
       "989      Maison / Villa   750000.0      NaN       264100.0    NaN       1.0   \n",
       "1011     Maison / Villa  6300000.0     93.0            NaN    NaN       1.0   \n",
       "1028     Maison / Villa  1995000.0    270.0            NaN    NaN       1.0   \n",
       "1034     Maison / Villa  6890000.0      NaN            NaN    NaN       1.0   \n",
       "1433     Maison / Villa   999000.0    200.0            NaN    NaN       5.0   \n",
       "1442            Château  2800000.0   1000.0       370000.0    NaN       7.0   \n",
       "1471            Château  2680000.0    650.0        80000.0    NaN       NaN   \n",
       "\n",
       "     terrace  balcony pool  parking            localisation  \\\n",
       "192      NON      NaN  OUI      NaN                   Cénac   \n",
       "648      OUI      NaN  NON      NaN                Bordeaux   \n",
       "658      OUI      NaN  OUI      NaN                Bordeaux   \n",
       "763      NON      NaN  OUI      NaN  Saint-Médard-en-Jalles   \n",
       "777      OUI      NaN  NON      NaN                Bordeaux   \n",
       "840      NON      NaN  NON      NaN                Bordeaux   \n",
       "842      OUI      NaN  OUI      NaN                La Brède   \n",
       "852      NON      NaN  NON      NaN                Bordeaux   \n",
       "919      NON      NaN  OUI      NaN                Bordeaux   \n",
       "921      NON      NaN  OUI      NaN                 Eysines   \n",
       "922      NON      1.0  OUI      NaN                 Bouliac   \n",
       "924      NON      NaN  NON      NaN         Lège-Cap-Ferret   \n",
       "931      NON      NaN  NON      NaN                   Blaye   \n",
       "973      NON      NaN  NON      NaN            Pyla sur Mer   \n",
       "974      NON      NaN  NON      NaN                Arcachon   \n",
       "988      OUI      NaN  NON      NaN                Arcachon   \n",
       "989      NON      NaN  NON      NaN                Bordeaux   \n",
       "1011     NON      NaN  NON      NaN                Bordeaux   \n",
       "1028     NON      NaN  NON      NaN                Arcachon   \n",
       "1034     NON      NaN  NON      NaN              Cap Ferret   \n",
       "1433     OUI      NaN  NON      NaN                Bordeaux   \n",
       "1442     NON      NaN  NON      NaN                Bordeaux   \n",
       "1471     NON      NaN  NON      NaN                Bordeaux   \n",
       "\n",
       "                             agency  \\\n",
       "192                 Barnes Bordeaux   \n",
       "648                 Barnes Bordeaux   \n",
       "658                 Barnes Bordeaux   \n",
       "763                 Barnes Bordeaux   \n",
       "777                 Barnes Bordeaux   \n",
       "840                  MAXWELL-BAYNES   \n",
       "842                  MAXWELL-BAYNES   \n",
       "852   BARNES PROPRIETES ET CHATEAUX   \n",
       "919                 Barnes Bordeaux   \n",
       "921                 Barnes Bordeaux   \n",
       "922                  MAXWELL-BAYNES   \n",
       "924        BARNES BASSIN D'ARCACHON   \n",
       "931                  MAXWELL-BAYNES   \n",
       "973        BARNES BASSIN D'ARCACHON   \n",
       "974        BARNES BASSIN D'ARCACHON   \n",
       "988        BARNES BASSIN D'ARCACHON   \n",
       "989                 AGENCE HAMILTON   \n",
       "1011                 MAXWELL-BAYNES   \n",
       "1028       BARNES BASSIN D'ARCACHON   \n",
       "1034       BARNES BASSIN D'ARCACHON   \n",
       "1433                  ID PATRIMOINE   \n",
       "1442                INVEST-BORDEAUX   \n",
       "1471                INVEST-BORDEAUX   \n",
       "\n",
       "                                                   link  \n",
       "192   https://www.bellesdemeures.com/annonces/vente/...  \n",
       "648   https://www.bellesdemeures.com/annonces/vente/...  \n",
       "658   https://www.bellesdemeures.com/annonces/vente/...  \n",
       "763   https://www.bellesdemeures.com/annonces/vente/...  \n",
       "777   https://www.bellesdemeures.com/annonces/vente/...  \n",
       "840   https://www.bellesdemeures.com/annonces/vente/...  \n",
       "842   https://www.bellesdemeures.com/annonces/vente/...  \n",
       "852   https://www.bellesdemeures.com/annonces/vente/...  \n",
       "919   https://www.bellesdemeures.com/annonces/vente/...  \n",
       "921   https://www.bellesdemeures.com/annonces/vente/...  \n",
       "922   https://www.bellesdemeures.com/annonces/vente/...  \n",
       "924   https://www.bellesdemeures.com/annonces/vente/...  \n",
       "931   https://www.bellesdemeures.com/annonces/vente/...  \n",
       "973   https://www.bellesdemeures.com/annonces/vente/...  \n",
       "974   https://www.bellesdemeures.com/annonces/vente/...  \n",
       "988   https://www.bellesdemeures.com/annonces/vente/...  \n",
       "989   https://www.bellesdemeures.com/annonces/vente/...  \n",
       "1011  https://www.bellesdemeures.com/annonces/vente/...  \n",
       "1028  https://www.bellesdemeures.com/annonces/vente/...  \n",
       "1034  https://www.bellesdemeures.com/annonces/vente/...  \n",
       "1433  https://www.bellesdemeures.com/annonces/vente/...  \n",
       "1442  https://www.bellesdemeures.com/annonces/vente/...  \n",
       "1471  https://www.bellesdemeures.com/annonces/vente/...  "
      ]
     },
     "execution_count": 55,
     "metadata": {},
     "output_type": "execute_result"
    }
   ],
   "source": [
    "rooms_na"
   ]
  },
  {
   "cell_type": "markdown",
   "metadata": {},
   "source": [
    "#### Traitement des NA\n",
    "\n",
    "Par soucis d'automatisation et rapidité , on va supprimer tout les biens dont le nombre de pièces n'est pas précisé ( le nombre n'est pas important sur l'ensemble du dataset moins de 2 % )  , On pourrait regarder annonce par annonce , ou se dire qu'un bien a forcement une pièce . De plus dans le dataset il semble que le nombre de chambres est compris dans le nombres de pieces ( rooms > bedrooms quand il y'a les deux infos ) on pourrait remplir tout les rooms avec bedrooms + 1 mais ca ne refléterais pas forcement la réalité du bien"
   ]
  },
  {
   "cell_type": "markdown",
   "metadata": {},
   "source": [
    "### bedrooms\n",
    "Analyse des biens dont le nombre de chambres n'est pas précisés"
   ]
  },
  {
   "cell_type": "code",
   "execution_count": 56,
   "metadata": {},
   "outputs": [
    {
     "data": {
      "text/plain": [
       "7"
      ]
     },
     "execution_count": 56,
     "metadata": {},
     "output_type": "execute_result"
    }
   ],
   "source": [
    "bedrooms_na = data_full.loc[data_full['bedrooms'].isnull()]\n",
    "len(bedrooms_na)"
   ]
  },
  {
   "cell_type": "code",
   "execution_count": 57,
   "metadata": {},
   "outputs": [
    {
     "data": {
      "text/html": [
       "<div>\n",
       "<style scoped>\n",
       "    .dataframe tbody tr th:only-of-type {\n",
       "        vertical-align: middle;\n",
       "    }\n",
       "\n",
       "    .dataframe tbody tr th {\n",
       "        vertical-align: top;\n",
       "    }\n",
       "\n",
       "    .dataframe thead th {\n",
       "        text-align: right;\n",
       "    }\n",
       "</style>\n",
       "<table border=\"1\" class=\"dataframe\">\n",
       "  <thead>\n",
       "    <tr style=\"text-align: right;\">\n",
       "      <th></th>\n",
       "      <th>typeof</th>\n",
       "      <th>price</th>\n",
       "      <th>surface</th>\n",
       "      <th>field_surface</th>\n",
       "      <th>rooms</th>\n",
       "      <th>bedrooms</th>\n",
       "      <th>terrace</th>\n",
       "      <th>balcony</th>\n",
       "      <th>pool</th>\n",
       "      <th>parking</th>\n",
       "      <th>localisation</th>\n",
       "      <th>agency</th>\n",
       "      <th>link</th>\n",
       "    </tr>\n",
       "  </thead>\n",
       "  <tbody>\n",
       "    <tr>\n",
       "      <td>648</td>\n",
       "      <td>Appartement</td>\n",
       "      <td>495000.0</td>\n",
       "      <td>73.0</td>\n",
       "      <td>NaN</td>\n",
       "      <td>NaN</td>\n",
       "      <td>NaN</td>\n",
       "      <td>OUI</td>\n",
       "      <td>NaN</td>\n",
       "      <td>NON</td>\n",
       "      <td>NaN</td>\n",
       "      <td>Bordeaux</td>\n",
       "      <td>Barnes Bordeaux</td>\n",
       "      <td>https://www.bellesdemeures.com/annonces/vente/...</td>\n",
       "    </tr>\n",
       "    <tr>\n",
       "      <td>828</td>\n",
       "      <td>Appartement</td>\n",
       "      <td>590000.0</td>\n",
       "      <td>110.0</td>\n",
       "      <td>NaN</td>\n",
       "      <td>4.0</td>\n",
       "      <td>NaN</td>\n",
       "      <td>NON</td>\n",
       "      <td>NaN</td>\n",
       "      <td>NON</td>\n",
       "      <td>NaN</td>\n",
       "      <td>Bordeaux</td>\n",
       "      <td>SCOUT HOME</td>\n",
       "      <td>https://www.bellesdemeures.com/annonces/vente/...</td>\n",
       "    </tr>\n",
       "    <tr>\n",
       "      <td>1396</td>\n",
       "      <td>Appartement</td>\n",
       "      <td>538000.0</td>\n",
       "      <td>120.0</td>\n",
       "      <td>NaN</td>\n",
       "      <td>6.0</td>\n",
       "      <td>NaN</td>\n",
       "      <td>NON</td>\n",
       "      <td>NaN</td>\n",
       "      <td>NON</td>\n",
       "      <td>NaN</td>\n",
       "      <td>Bordeaux</td>\n",
       "      <td>MENA IMMOBILIER</td>\n",
       "      <td>https://www.bellesdemeures.com/annonces/vente/...</td>\n",
       "    </tr>\n",
       "    <tr>\n",
       "      <td>1404</td>\n",
       "      <td>Hôtel particulier</td>\n",
       "      <td>1070000.0</td>\n",
       "      <td>240.0</td>\n",
       "      <td>NaN</td>\n",
       "      <td>8.0</td>\n",
       "      <td>NaN</td>\n",
       "      <td>NON</td>\n",
       "      <td>NaN</td>\n",
       "      <td>NON</td>\n",
       "      <td>NaN</td>\n",
       "      <td>Bordeaux</td>\n",
       "      <td>MENA IMMOBILIER</td>\n",
       "      <td>https://www.bellesdemeures.com/annonces/vente/...</td>\n",
       "    </tr>\n",
       "    <tr>\n",
       "      <td>1434</td>\n",
       "      <td>Château</td>\n",
       "      <td>6500000.0</td>\n",
       "      <td>3000.0</td>\n",
       "      <td>680000.0</td>\n",
       "      <td>30.0</td>\n",
       "      <td>NaN</td>\n",
       "      <td>NON</td>\n",
       "      <td>NaN</td>\n",
       "      <td>NON</td>\n",
       "      <td>NaN</td>\n",
       "      <td>Bordeaux</td>\n",
       "      <td>DENNIEL IMMOBILIER - ANTIQUAIRES EN IMMEUBLES</td>\n",
       "      <td>https://www.bellesdemeures.com/annonces/vente/...</td>\n",
       "    </tr>\n",
       "    <tr>\n",
       "      <td>1462</td>\n",
       "      <td>Hôtel particulier</td>\n",
       "      <td>3328000.0</td>\n",
       "      <td>1000.0</td>\n",
       "      <td>NaN</td>\n",
       "      <td>12.0</td>\n",
       "      <td>NaN</td>\n",
       "      <td>NON</td>\n",
       "      <td>NaN</td>\n",
       "      <td>NON</td>\n",
       "      <td>NaN</td>\n",
       "      <td>Bordeaux</td>\n",
       "      <td>Agence immobilière du Grand-Théâtre</td>\n",
       "      <td>https://www.bellesdemeures.com/annonces/vente/...</td>\n",
       "    </tr>\n",
       "    <tr>\n",
       "      <td>1471</td>\n",
       "      <td>Château</td>\n",
       "      <td>2680000.0</td>\n",
       "      <td>650.0</td>\n",
       "      <td>80000.0</td>\n",
       "      <td>NaN</td>\n",
       "      <td>NaN</td>\n",
       "      <td>NON</td>\n",
       "      <td>NaN</td>\n",
       "      <td>NON</td>\n",
       "      <td>NaN</td>\n",
       "      <td>Bordeaux</td>\n",
       "      <td>INVEST-BORDEAUX</td>\n",
       "      <td>https://www.bellesdemeures.com/annonces/vente/...</td>\n",
       "    </tr>\n",
       "  </tbody>\n",
       "</table>\n",
       "</div>"
      ],
      "text/plain": [
       "                 typeof      price  surface  field_surface  rooms  bedrooms  \\\n",
       "648         Appartement   495000.0     73.0            NaN    NaN       NaN   \n",
       "828         Appartement   590000.0    110.0            NaN    4.0       NaN   \n",
       "1396        Appartement   538000.0    120.0            NaN    6.0       NaN   \n",
       "1404  Hôtel particulier  1070000.0    240.0            NaN    8.0       NaN   \n",
       "1434            Château  6500000.0   3000.0       680000.0   30.0       NaN   \n",
       "1462  Hôtel particulier  3328000.0   1000.0            NaN   12.0       NaN   \n",
       "1471            Château  2680000.0    650.0        80000.0    NaN       NaN   \n",
       "\n",
       "     terrace  balcony pool  parking localisation  \\\n",
       "648      OUI      NaN  NON      NaN     Bordeaux   \n",
       "828      NON      NaN  NON      NaN     Bordeaux   \n",
       "1396     NON      NaN  NON      NaN     Bordeaux   \n",
       "1404     NON      NaN  NON      NaN     Bordeaux   \n",
       "1434     NON      NaN  NON      NaN     Bordeaux   \n",
       "1462     NON      NaN  NON      NaN     Bordeaux   \n",
       "1471     NON      NaN  NON      NaN     Bordeaux   \n",
       "\n",
       "                                             agency  \\\n",
       "648                                 Barnes Bordeaux   \n",
       "828                                      SCOUT HOME   \n",
       "1396                                MENA IMMOBILIER   \n",
       "1404                                MENA IMMOBILIER   \n",
       "1434  DENNIEL IMMOBILIER - ANTIQUAIRES EN IMMEUBLES   \n",
       "1462            Agence immobilière du Grand-Théâtre   \n",
       "1471                                INVEST-BORDEAUX   \n",
       "\n",
       "                                                   link  \n",
       "648   https://www.bellesdemeures.com/annonces/vente/...  \n",
       "828   https://www.bellesdemeures.com/annonces/vente/...  \n",
       "1396  https://www.bellesdemeures.com/annonces/vente/...  \n",
       "1404  https://www.bellesdemeures.com/annonces/vente/...  \n",
       "1434  https://www.bellesdemeures.com/annonces/vente/...  \n",
       "1462  https://www.bellesdemeures.com/annonces/vente/...  \n",
       "1471  https://www.bellesdemeures.com/annonces/vente/...  "
      ]
     },
     "execution_count": 57,
     "metadata": {},
     "output_type": "execute_result"
    }
   ],
   "source": [
    "bedrooms_na"
   ]
  },
  {
   "cell_type": "markdown",
   "metadata": {},
   "source": [
    "#### Traitement des NA"
   ]
  },
  {
   "cell_type": "markdown",
   "metadata": {},
   "source": [
    "Meme traitement que pour les pièces , on supprime le nombre de biens qui n'ont pas de chambres renseignés , le nombre total n'est pas trés important , on pourrait mettre au moins 1 chambre à chaque bien , ou verifier annonce par annonce"
   ]
  },
  {
   "cell_type": "markdown",
   "metadata": {},
   "source": [
    "### Surface"
   ]
  },
  {
   "cell_type": "code",
   "execution_count": 61,
   "metadata": {},
   "outputs": [
    {
     "data": {
      "text/plain": [
       "20"
      ]
     },
     "execution_count": 61,
     "metadata": {},
     "output_type": "execute_result"
    }
   ],
   "source": [
    "surface_na = data_full.loc[data_full['surface'].isnull()]\n",
    "len(surface_na)"
   ]
  },
  {
   "cell_type": "code",
   "execution_count": 62,
   "metadata": {
    "scrolled": true
   },
   "outputs": [
    {
     "data": {
      "text/html": [
       "<div>\n",
       "<style scoped>\n",
       "    .dataframe tbody tr th:only-of-type {\n",
       "        vertical-align: middle;\n",
       "    }\n",
       "\n",
       "    .dataframe tbody tr th {\n",
       "        vertical-align: top;\n",
       "    }\n",
       "\n",
       "    .dataframe thead th {\n",
       "        text-align: right;\n",
       "    }\n",
       "</style>\n",
       "<table border=\"1\" class=\"dataframe\">\n",
       "  <thead>\n",
       "    <tr style=\"text-align: right;\">\n",
       "      <th></th>\n",
       "      <th>typeof</th>\n",
       "      <th>price</th>\n",
       "      <th>surface</th>\n",
       "      <th>field_surface</th>\n",
       "      <th>rooms</th>\n",
       "      <th>bedrooms</th>\n",
       "      <th>terrace</th>\n",
       "      <th>balcony</th>\n",
       "      <th>pool</th>\n",
       "      <th>parking</th>\n",
       "      <th>localisation</th>\n",
       "      <th>agency</th>\n",
       "      <th>link</th>\n",
       "    </tr>\n",
       "  </thead>\n",
       "  <tbody>\n",
       "    <tr>\n",
       "      <td>68</td>\n",
       "      <td>Château</td>\n",
       "      <td>895000.0</td>\n",
       "      <td>NaN</td>\n",
       "      <td>12000.0</td>\n",
       "      <td>9.0</td>\n",
       "      <td>5.0</td>\n",
       "      <td>NON</td>\n",
       "      <td>NaN</td>\n",
       "      <td>NON</td>\n",
       "      <td>NaN</td>\n",
       "      <td>Branne</td>\n",
       "      <td>BARNES PROPRIETES ET CHATEAUX</td>\n",
       "      <td>https://www.bellesdemeures.com/annonces/vente/...</td>\n",
       "    </tr>\n",
       "    <tr>\n",
       "      <td>653</td>\n",
       "      <td>Maison / Villa</td>\n",
       "      <td>2332000.0</td>\n",
       "      <td>NaN</td>\n",
       "      <td>305053.0</td>\n",
       "      <td>20.0</td>\n",
       "      <td>5.0</td>\n",
       "      <td>NON</td>\n",
       "      <td>NaN</td>\n",
       "      <td>OUI</td>\n",
       "      <td>NaN</td>\n",
       "      <td>Libourne</td>\n",
       "      <td>MAXWELL-BAYNES</td>\n",
       "      <td>https://www.bellesdemeures.com/annonces/vente/...</td>\n",
       "    </tr>\n",
       "    <tr>\n",
       "      <td>654</td>\n",
       "      <td>Maison / Villa</td>\n",
       "      <td>990000.0</td>\n",
       "      <td>NaN</td>\n",
       "      <td>13300.0</td>\n",
       "      <td>12.0</td>\n",
       "      <td>6.0</td>\n",
       "      <td>NON</td>\n",
       "      <td>NaN</td>\n",
       "      <td>NON</td>\n",
       "      <td>NaN</td>\n",
       "      <td>Saint-Émilion</td>\n",
       "      <td>Barnes Bordeaux</td>\n",
       "      <td>https://www.bellesdemeures.com/annonces/vente/...</td>\n",
       "    </tr>\n",
       "    <tr>\n",
       "      <td>835</td>\n",
       "      <td>Maison / Villa</td>\n",
       "      <td>1433250.0</td>\n",
       "      <td>NaN</td>\n",
       "      <td>NaN</td>\n",
       "      <td>15.0</td>\n",
       "      <td>7.0</td>\n",
       "      <td>NON</td>\n",
       "      <td>NaN</td>\n",
       "      <td>OUI</td>\n",
       "      <td>NaN</td>\n",
       "      <td>Saint-Émilion</td>\n",
       "      <td>MAXWELL-BAYNES</td>\n",
       "      <td>https://www.bellesdemeures.com/annonces/vente/...</td>\n",
       "    </tr>\n",
       "    <tr>\n",
       "      <td>837</td>\n",
       "      <td>Maison / Villa</td>\n",
       "      <td>960000.0</td>\n",
       "      <td>NaN</td>\n",
       "      <td>NaN</td>\n",
       "      <td>9.0</td>\n",
       "      <td>6.0</td>\n",
       "      <td>OUI</td>\n",
       "      <td>NaN</td>\n",
       "      <td>OUI</td>\n",
       "      <td>NaN</td>\n",
       "      <td>Quinsac</td>\n",
       "      <td>Barnes Bordeaux</td>\n",
       "      <td>https://www.bellesdemeures.com/annonces/vente/...</td>\n",
       "    </tr>\n",
       "    <tr>\n",
       "      <td>838</td>\n",
       "      <td>Appartement</td>\n",
       "      <td>699000.0</td>\n",
       "      <td>NaN</td>\n",
       "      <td>NaN</td>\n",
       "      <td>5.0</td>\n",
       "      <td>2.0</td>\n",
       "      <td>OUI</td>\n",
       "      <td>NaN</td>\n",
       "      <td>NON</td>\n",
       "      <td>NaN</td>\n",
       "      <td>Bordeaux</td>\n",
       "      <td>MAXWELL-BAYNES</td>\n",
       "      <td>https://www.bellesdemeures.com/annonces/vente/...</td>\n",
       "    </tr>\n",
       "    <tr>\n",
       "      <td>852</td>\n",
       "      <td>Maison / Villa</td>\n",
       "      <td>6390000.0</td>\n",
       "      <td>NaN</td>\n",
       "      <td>700000.0</td>\n",
       "      <td>NaN</td>\n",
       "      <td>1.0</td>\n",
       "      <td>NON</td>\n",
       "      <td>NaN</td>\n",
       "      <td>NON</td>\n",
       "      <td>NaN</td>\n",
       "      <td>Bordeaux</td>\n",
       "      <td>BARNES PROPRIETES ET CHATEAUX</td>\n",
       "      <td>https://www.bellesdemeures.com/annonces/vente/...</td>\n",
       "    </tr>\n",
       "    <tr>\n",
       "      <td>855</td>\n",
       "      <td>Château</td>\n",
       "      <td>2332000.0</td>\n",
       "      <td>NaN</td>\n",
       "      <td>NaN</td>\n",
       "      <td>16.0</td>\n",
       "      <td>8.0</td>\n",
       "      <td>NON</td>\n",
       "      <td>NaN</td>\n",
       "      <td>NON</td>\n",
       "      <td>NaN</td>\n",
       "      <td>Le Taillan-Médoc</td>\n",
       "      <td>MAXWELL-BAYNES</td>\n",
       "      <td>https://www.bellesdemeures.com/annonces/vente/...</td>\n",
       "    </tr>\n",
       "    <tr>\n",
       "      <td>878</td>\n",
       "      <td>Château</td>\n",
       "      <td>979000.0</td>\n",
       "      <td>NaN</td>\n",
       "      <td>NaN</td>\n",
       "      <td>19.0</td>\n",
       "      <td>5.0</td>\n",
       "      <td>NON</td>\n",
       "      <td>NaN</td>\n",
       "      <td>NON</td>\n",
       "      <td>NaN</td>\n",
       "      <td>Langon</td>\n",
       "      <td>MAXWELL-BAYNES</td>\n",
       "      <td>https://www.bellesdemeures.com/annonces/vente/...</td>\n",
       "    </tr>\n",
       "    <tr>\n",
       "      <td>931</td>\n",
       "      <td>Château</td>\n",
       "      <td>1490000.0</td>\n",
       "      <td>NaN</td>\n",
       "      <td>27000.0</td>\n",
       "      <td>NaN</td>\n",
       "      <td>5.0</td>\n",
       "      <td>NON</td>\n",
       "      <td>NaN</td>\n",
       "      <td>NON</td>\n",
       "      <td>NaN</td>\n",
       "      <td>Blaye</td>\n",
       "      <td>MAXWELL-BAYNES</td>\n",
       "      <td>https://www.bellesdemeures.com/annonces/vente/...</td>\n",
       "    </tr>\n",
       "    <tr>\n",
       "      <td>944</td>\n",
       "      <td>Maison / Villa</td>\n",
       "      <td>3675000.0</td>\n",
       "      <td>NaN</td>\n",
       "      <td>NaN</td>\n",
       "      <td>8.0</td>\n",
       "      <td>7.0</td>\n",
       "      <td>NON</td>\n",
       "      <td>NaN</td>\n",
       "      <td>NON</td>\n",
       "      <td>NaN</td>\n",
       "      <td>Saint-Émilion</td>\n",
       "      <td>COLDWELL BANKER  BORDEAUX PREMIUM</td>\n",
       "      <td>https://www.bellesdemeures.com/annonces/vente/...</td>\n",
       "    </tr>\n",
       "    <tr>\n",
       "      <td>973</td>\n",
       "      <td>Maison / Villa</td>\n",
       "      <td>2288000.0</td>\n",
       "      <td>NaN</td>\n",
       "      <td>1200.0</td>\n",
       "      <td>NaN</td>\n",
       "      <td>1.0</td>\n",
       "      <td>NON</td>\n",
       "      <td>NaN</td>\n",
       "      <td>NON</td>\n",
       "      <td>NaN</td>\n",
       "      <td>Pyla sur Mer</td>\n",
       "      <td>BARNES BASSIN D'ARCACHON</td>\n",
       "      <td>https://www.bellesdemeures.com/annonces/vente/...</td>\n",
       "    </tr>\n",
       "    <tr>\n",
       "      <td>974</td>\n",
       "      <td>Maison / Villa</td>\n",
       "      <td>1995000.0</td>\n",
       "      <td>NaN</td>\n",
       "      <td>2200.0</td>\n",
       "      <td>NaN</td>\n",
       "      <td>1.0</td>\n",
       "      <td>NON</td>\n",
       "      <td>NaN</td>\n",
       "      <td>NON</td>\n",
       "      <td>NaN</td>\n",
       "      <td>Arcachon</td>\n",
       "      <td>BARNES BASSIN D'ARCACHON</td>\n",
       "      <td>https://www.bellesdemeures.com/annonces/vente/...</td>\n",
       "    </tr>\n",
       "    <tr>\n",
       "      <td>989</td>\n",
       "      <td>Maison / Villa</td>\n",
       "      <td>750000.0</td>\n",
       "      <td>NaN</td>\n",
       "      <td>264100.0</td>\n",
       "      <td>NaN</td>\n",
       "      <td>1.0</td>\n",
       "      <td>NON</td>\n",
       "      <td>NaN</td>\n",
       "      <td>NON</td>\n",
       "      <td>NaN</td>\n",
       "      <td>Bordeaux</td>\n",
       "      <td>AGENCE HAMILTON</td>\n",
       "      <td>https://www.bellesdemeures.com/annonces/vente/...</td>\n",
       "    </tr>\n",
       "    <tr>\n",
       "      <td>996</td>\n",
       "      <td>Maison / Villa</td>\n",
       "      <td>9010000.0</td>\n",
       "      <td>NaN</td>\n",
       "      <td>NaN</td>\n",
       "      <td>2.0</td>\n",
       "      <td>1.0</td>\n",
       "      <td>NON</td>\n",
       "      <td>NaN</td>\n",
       "      <td>NON</td>\n",
       "      <td>NaN</td>\n",
       "      <td>Sainte-Florence</td>\n",
       "      <td>MAXWELL-BAYNES</td>\n",
       "      <td>https://www.bellesdemeures.com/annonces/vente/...</td>\n",
       "    </tr>\n",
       "    <tr>\n",
       "      <td>997</td>\n",
       "      <td>Maison / Villa</td>\n",
       "      <td>2438000.0</td>\n",
       "      <td>NaN</td>\n",
       "      <td>NaN</td>\n",
       "      <td>5.0</td>\n",
       "      <td>4.0</td>\n",
       "      <td>NON</td>\n",
       "      <td>NaN</td>\n",
       "      <td>OUI</td>\n",
       "      <td>NaN</td>\n",
       "      <td>Montagne</td>\n",
       "      <td>MAXWELL-BAYNES</td>\n",
       "      <td>https://www.bellesdemeures.com/annonces/vente/...</td>\n",
       "    </tr>\n",
       "    <tr>\n",
       "      <td>1034</td>\n",
       "      <td>Maison / Villa</td>\n",
       "      <td>6890000.0</td>\n",
       "      <td>NaN</td>\n",
       "      <td>NaN</td>\n",
       "      <td>NaN</td>\n",
       "      <td>1.0</td>\n",
       "      <td>NON</td>\n",
       "      <td>NaN</td>\n",
       "      <td>NON</td>\n",
       "      <td>NaN</td>\n",
       "      <td>Cap Ferret</td>\n",
       "      <td>BARNES BASSIN D'ARCACHON</td>\n",
       "      <td>https://www.bellesdemeures.com/annonces/vente/...</td>\n",
       "    </tr>\n",
       "    <tr>\n",
       "      <td>1344</td>\n",
       "      <td>Appartement</td>\n",
       "      <td>1260000.0</td>\n",
       "      <td>NaN</td>\n",
       "      <td>NaN</td>\n",
       "      <td>5.0</td>\n",
       "      <td>3.0</td>\n",
       "      <td>NON</td>\n",
       "      <td>NaN</td>\n",
       "      <td>NON</td>\n",
       "      <td>NaN</td>\n",
       "      <td>Bordeaux</td>\n",
       "      <td>GRISEL IMMOBILIER</td>\n",
       "      <td>https://www.bellesdemeures.com/annonces/vente/...</td>\n",
       "    </tr>\n",
       "    <tr>\n",
       "      <td>1399</td>\n",
       "      <td>Maison / Villa</td>\n",
       "      <td>574000.0</td>\n",
       "      <td>NaN</td>\n",
       "      <td>NaN</td>\n",
       "      <td>5.0</td>\n",
       "      <td>3.0</td>\n",
       "      <td>OUI</td>\n",
       "      <td>NaN</td>\n",
       "      <td>NON</td>\n",
       "      <td>NaN</td>\n",
       "      <td>Le Bouscat</td>\n",
       "      <td>ID PATRIMOINE</td>\n",
       "      <td>https://www.bellesdemeures.com/annonces/vente/...</td>\n",
       "    </tr>\n",
       "    <tr>\n",
       "      <td>1443</td>\n",
       "      <td>Maison / Villa</td>\n",
       "      <td>712500.0</td>\n",
       "      <td>NaN</td>\n",
       "      <td>350.0</td>\n",
       "      <td>6.0</td>\n",
       "      <td>4.0</td>\n",
       "      <td>OUI</td>\n",
       "      <td>NaN</td>\n",
       "      <td>NON</td>\n",
       "      <td>NaN</td>\n",
       "      <td>Le Bouscat</td>\n",
       "      <td>BORDEAUX IMMOBILIER CONSEILS</td>\n",
       "      <td>https://www.bellesdemeures.com/annonces/vente/...</td>\n",
       "    </tr>\n",
       "  </tbody>\n",
       "</table>\n",
       "</div>"
      ],
      "text/plain": [
       "              typeof      price  surface  field_surface  rooms  bedrooms  \\\n",
       "68           Château   895000.0      NaN        12000.0    9.0       5.0   \n",
       "653   Maison / Villa  2332000.0      NaN       305053.0   20.0       5.0   \n",
       "654   Maison / Villa   990000.0      NaN        13300.0   12.0       6.0   \n",
       "835   Maison / Villa  1433250.0      NaN            NaN   15.0       7.0   \n",
       "837   Maison / Villa   960000.0      NaN            NaN    9.0       6.0   \n",
       "838      Appartement   699000.0      NaN            NaN    5.0       2.0   \n",
       "852   Maison / Villa  6390000.0      NaN       700000.0    NaN       1.0   \n",
       "855          Château  2332000.0      NaN            NaN   16.0       8.0   \n",
       "878          Château   979000.0      NaN            NaN   19.0       5.0   \n",
       "931          Château  1490000.0      NaN        27000.0    NaN       5.0   \n",
       "944   Maison / Villa  3675000.0      NaN            NaN    8.0       7.0   \n",
       "973   Maison / Villa  2288000.0      NaN         1200.0    NaN       1.0   \n",
       "974   Maison / Villa  1995000.0      NaN         2200.0    NaN       1.0   \n",
       "989   Maison / Villa   750000.0      NaN       264100.0    NaN       1.0   \n",
       "996   Maison / Villa  9010000.0      NaN            NaN    2.0       1.0   \n",
       "997   Maison / Villa  2438000.0      NaN            NaN    5.0       4.0   \n",
       "1034  Maison / Villa  6890000.0      NaN            NaN    NaN       1.0   \n",
       "1344     Appartement  1260000.0      NaN            NaN    5.0       3.0   \n",
       "1399  Maison / Villa   574000.0      NaN            NaN    5.0       3.0   \n",
       "1443  Maison / Villa   712500.0      NaN          350.0    6.0       4.0   \n",
       "\n",
       "     terrace  balcony pool  parking      localisation  \\\n",
       "68       NON      NaN  NON      NaN            Branne   \n",
       "653      NON      NaN  OUI      NaN          Libourne   \n",
       "654      NON      NaN  NON      NaN     Saint-Émilion   \n",
       "835      NON      NaN  OUI      NaN     Saint-Émilion   \n",
       "837      OUI      NaN  OUI      NaN           Quinsac   \n",
       "838      OUI      NaN  NON      NaN          Bordeaux   \n",
       "852      NON      NaN  NON      NaN          Bordeaux   \n",
       "855      NON      NaN  NON      NaN  Le Taillan-Médoc   \n",
       "878      NON      NaN  NON      NaN            Langon   \n",
       "931      NON      NaN  NON      NaN             Blaye   \n",
       "944      NON      NaN  NON      NaN     Saint-Émilion   \n",
       "973      NON      NaN  NON      NaN      Pyla sur Mer   \n",
       "974      NON      NaN  NON      NaN          Arcachon   \n",
       "989      NON      NaN  NON      NaN          Bordeaux   \n",
       "996      NON      NaN  NON      NaN   Sainte-Florence   \n",
       "997      NON      NaN  OUI      NaN          Montagne   \n",
       "1034     NON      NaN  NON      NaN        Cap Ferret   \n",
       "1344     NON      NaN  NON      NaN          Bordeaux   \n",
       "1399     OUI      NaN  NON      NaN        Le Bouscat   \n",
       "1443     OUI      NaN  NON      NaN        Le Bouscat   \n",
       "\n",
       "                                 agency  \\\n",
       "68        BARNES PROPRIETES ET CHATEAUX   \n",
       "653                      MAXWELL-BAYNES   \n",
       "654                     Barnes Bordeaux   \n",
       "835                      MAXWELL-BAYNES   \n",
       "837                     Barnes Bordeaux   \n",
       "838                      MAXWELL-BAYNES   \n",
       "852       BARNES PROPRIETES ET CHATEAUX   \n",
       "855                      MAXWELL-BAYNES   \n",
       "878                      MAXWELL-BAYNES   \n",
       "931                      MAXWELL-BAYNES   \n",
       "944   COLDWELL BANKER  BORDEAUX PREMIUM   \n",
       "973            BARNES BASSIN D'ARCACHON   \n",
       "974            BARNES BASSIN D'ARCACHON   \n",
       "989                     AGENCE HAMILTON   \n",
       "996                      MAXWELL-BAYNES   \n",
       "997                      MAXWELL-BAYNES   \n",
       "1034           BARNES BASSIN D'ARCACHON   \n",
       "1344                  GRISEL IMMOBILIER   \n",
       "1399                      ID PATRIMOINE   \n",
       "1443       BORDEAUX IMMOBILIER CONSEILS   \n",
       "\n",
       "                                                   link  \n",
       "68    https://www.bellesdemeures.com/annonces/vente/...  \n",
       "653   https://www.bellesdemeures.com/annonces/vente/...  \n",
       "654   https://www.bellesdemeures.com/annonces/vente/...  \n",
       "835   https://www.bellesdemeures.com/annonces/vente/...  \n",
       "837   https://www.bellesdemeures.com/annonces/vente/...  \n",
       "838   https://www.bellesdemeures.com/annonces/vente/...  \n",
       "852   https://www.bellesdemeures.com/annonces/vente/...  \n",
       "855   https://www.bellesdemeures.com/annonces/vente/...  \n",
       "878   https://www.bellesdemeures.com/annonces/vente/...  \n",
       "931   https://www.bellesdemeures.com/annonces/vente/...  \n",
       "944   https://www.bellesdemeures.com/annonces/vente/...  \n",
       "973   https://www.bellesdemeures.com/annonces/vente/...  \n",
       "974   https://www.bellesdemeures.com/annonces/vente/...  \n",
       "989   https://www.bellesdemeures.com/annonces/vente/...  \n",
       "996   https://www.bellesdemeures.com/annonces/vente/...  \n",
       "997   https://www.bellesdemeures.com/annonces/vente/...  \n",
       "1034  https://www.bellesdemeures.com/annonces/vente/...  \n",
       "1344  https://www.bellesdemeures.com/annonces/vente/...  \n",
       "1399  https://www.bellesdemeures.com/annonces/vente/...  \n",
       "1443  https://www.bellesdemeures.com/annonces/vente/...  "
      ]
     },
     "execution_count": 62,
     "metadata": {},
     "output_type": "execute_result"
    }
   ],
   "source": [
    "surface_na"
   ]
  },
  {
   "cell_type": "code",
   "execution_count": 65,
   "metadata": {},
   "outputs": [],
   "source": [
    "# Lien des biens qui n'ont pas de surface indiqué\n",
    "# for index in surface_na.index:\n",
    "#     print(data_full.loc[index]['link'])"
   ]
  },
  {
   "cell_type": "markdown",
   "metadata": {},
   "source": [
    "Il semble que les biens dont les surfaces ne sont pas indiqués ont des surfaces modestes dont la taille n'est pas mise en avant par l'agence , mais il y'a aussi des biens trés onéreux dont la surface n'est pas indiqué et utiliser une médiane ou une moyenne ne semble pas trés judicieux ( on va se retrouver avec des biens trés cher et des surfaces modestes ce qui va nuire à la qualité du modèle ) , on va supprimer ces biens la par soucis de facilité"
   ]
  },
  {
   "cell_type": "code",
   "execution_count": 66,
   "metadata": {},
   "outputs": [],
   "source": [
    "def remplace_na(dataset):\n",
    "    dataset[\"balcony\"] = dataset[\"balcony\"].fillna(\"None\")\n",
    "    dataset[\"parking\"] = dataset[\"parking\"].fillna(\"None\")\n",
    "    \n",
    "    # remplacer field_surface pour appartement & loft = 0 , pour les autres par la médiane\n",
    "    dataset.loc[((dataset['typeof'] == 'Appartement') | (dataset['typeof'] == 'Loft/Atelier/Surface')) & (dataset['field_surface'].isnull()) ,'field_surface'] = 0\n",
    "    dataset.loc[(dataset['typeof'] != 'Appartement') & (dataset['typeof'] != 'Loft/Atelier/Surface') & (dataset['field_surface'].isnull()) ,'field_surface'] = dataset.loc[dataset['field_surface'].notnull()]['field_surface'].median()\n",
    "\n",
    "    # On supprime tout les biens dont le nombre de pièces n'est pas renseigné\n",
    "    rooms_na = dataset.loc[dataset['rooms'].isnull()]\n",
    "    dataset = dataset.drop(rooms_na.index, axis=0)\n",
    "    \n",
    "    # On supprime tout les biens dont le nombre de chambre n'est pas renseigné\n",
    "    bedrooms_na = dataset.loc[dataset['bedrooms'].isnull()]\n",
    "    dataset = dataset.drop(bedrooms_na.index, axis=0)\n",
    "    \n",
    "    # On supprime tout les biens dont la surface n'est pas renseigné\n",
    "    surface_na = dataset.loc[dataset['surface'].isnull()]\n",
    "    dataset = dataset.drop(surface_na.index, axis=0)\n",
    "    \n",
    "    \n",
    "    return dataset"
   ]
  },
  {
   "cell_type": "code",
   "execution_count": 68,
   "metadata": {},
   "outputs": [
    {
     "data": {
      "text/plain": [
       "(1461, 13)"
      ]
     },
     "execution_count": 68,
     "metadata": {},
     "output_type": "execute_result"
    }
   ],
   "source": [
    "data_full = remplace_na(data_full)\n",
    "data_full.shape"
   ]
  },
  {
   "cell_type": "code",
   "execution_count": 69,
   "metadata": {},
   "outputs": [
    {
     "data": {
      "text/html": [
       "<div>\n",
       "<style scoped>\n",
       "    .dataframe tbody tr th:only-of-type {\n",
       "        vertical-align: middle;\n",
       "    }\n",
       "\n",
       "    .dataframe tbody tr th {\n",
       "        vertical-align: top;\n",
       "    }\n",
       "\n",
       "    .dataframe thead th {\n",
       "        text-align: right;\n",
       "    }\n",
       "</style>\n",
       "<table border=\"1\" class=\"dataframe\">\n",
       "  <thead>\n",
       "    <tr style=\"text-align: right;\">\n",
       "      <th></th>\n",
       "      <th>Missing Ratio</th>\n",
       "    </tr>\n",
       "  </thead>\n",
       "  <tbody>\n",
       "  </tbody>\n",
       "</table>\n",
       "</div>"
      ],
      "text/plain": [
       "Empty DataFrame\n",
       "Columns: [Missing Ratio]\n",
       "Index: []"
      ]
     },
     "execution_count": 69,
     "metadata": {},
     "output_type": "execute_result"
    }
   ],
   "source": [
    "hasnan(data_full)"
   ]
  },
  {
   "cell_type": "markdown",
   "metadata": {},
   "source": [
    "Tout les NA ont bien été traités."
   ]
  },
  {
   "cell_type": "markdown",
   "metadata": {},
   "source": [
    "## Analyse features catégorielles\n",
    "    a faire \n",
    "    modifier typeof avec map \n",
    "    dummies terrasse , pool , localisation \n",
    "    on vire agency et link"
   ]
  },
  {
   "cell_type": "markdown",
   "metadata": {},
   "source": [
    "## Type de bien"
   ]
  },
  {
   "cell_type": "code",
   "execution_count": 70,
   "metadata": {},
   "outputs": [
    {
     "data": {
      "text/plain": [
       "Maison / Villa          1033\n",
       "Appartement              349\n",
       "Château                   56\n",
       "Loft/Atelier/Surface      12\n",
       "Hôtel particulier         11\n",
       "Name: typeof, dtype: int64"
      ]
     },
     "execution_count": 70,
     "metadata": {},
     "output_type": "execute_result"
    }
   ],
   "source": [
    "data_full.typeof.value_counts()"
   ]
  },
  {
   "cell_type": "code",
   "execution_count": 71,
   "metadata": {},
   "outputs": [],
   "source": [
    "#Moyenne de la surface des biens de type \"Maison/Villa\"\n",
    "meansur_house =  data_full.loc[data_full['typeof'] == 'Maison / Villa']['surface'].mean()\n",
    "meansur_apartment =  data_full.loc[data_full['typeof'] == 'Appartement']['surface'].mean()\n",
    "meansur_castle =  data_full.loc[data_full['typeof'] == 'Château']['surface'].mean()\n",
    "meansur_hostel =  data_full.loc[data_full['typeof'] == 'Hôtel particulier']['surface'].mean()\n",
    "meansur_loft =  data_full.loc[data_full['typeof'] == 'Loft/Atelier/Surface']['surface'].mean()"
   ]
  },
  {
   "cell_type": "code",
   "execution_count": 72,
   "metadata": {},
   "outputs": [
    {
     "name": "stdout",
     "output_type": "stream",
     "text": [
      "Surface moyenne des maisons : 270.45\n",
      "Surface moyenne des appartements : 132.71\n",
      "Surface moyenne des chateaux : 733.2\n",
      "Surface moyenne des hotels particuliers : 501.82\n",
      "Surface moyenne des lofts : 211.67\n"
     ]
    }
   ],
   "source": [
    "print(f\"Surface moyenne des maisons : {round(meansur_house,2)}\")\n",
    "print(f\"Surface moyenne des appartements : {round(meansur_apartment,2)}\")\n",
    "print(f\"Surface moyenne des chateaux : {round(meansur_castle,2)}\")\n",
    "print(f\"Surface moyenne des hotels particuliers : {round(meansur_hostel,2)}\")\n",
    "print(f\"Surface moyenne des lofts : {round(meansur_loft,2)}\")"
   ]
  },
  {
   "cell_type": "code",
   "execution_count": null,
   "metadata": {},
   "outputs": [],
   "source": []
  }
 ],
 "metadata": {
  "kernelspec": {
   "display_name": "Python 3",
   "language": "python",
   "name": "python3"
  },
  "language_info": {
   "codemirror_mode": {
    "name": "ipython",
    "version": 3
   },
   "file_extension": ".py",
   "mimetype": "text/x-python",
   "name": "python",
   "nbconvert_exporter": "python",
   "pygments_lexer": "ipython3",
   "version": "3.7.4"
  }
 },
 "nbformat": 4,
 "nbformat_minor": 2
}
