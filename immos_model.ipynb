{
 "cells": [
  {
   "cell_type": "markdown",
   "metadata": {},
   "source": [
    "## Création d'un modele avec les données propres"
   ]
  },
  {
   "cell_type": "code",
   "execution_count": 1,
   "metadata": {},
   "outputs": [],
   "source": [
    "import pandas as pd\n",
    "import numpy as np\n",
    "from sklearn.model_selection import KFold, cross_val_score, train_test_split\n",
    "import matplotlib.pyplot as plt\n",
    "import seaborn as sns\n",
    "from sklearn.metrics import mean_squared_error , mean_absolute_error\n",
    "from sklearn.linear_model import Ridge, LinearRegression, Lasso, ElasticNet\n",
    "from math import sqrt\n",
    "from sklearn.model_selection import GridSearchCV\n",
    "from sklearn.pipeline import Pipeline\n",
    "import pickle\n",
    "import re\n",
    "import xgboost as xgb"
   ]
  },
  {
   "cell_type": "code",
   "execution_count": 2,
   "metadata": {},
   "outputs": [],
   "source": [
    "data_full = pd.read_csv(\"immos_paris_dataset_clean.csv\",index_col=0)"
   ]
  },
  {
   "cell_type": "code",
   "execution_count": 3,
   "metadata": {},
   "outputs": [
    {
     "data": {
      "text/plain": [
       "(2675, 29)"
      ]
     },
     "execution_count": 3,
     "metadata": {},
     "output_type": "execute_result"
    }
   ],
   "source": [
    "data_full.shape"
   ]
  },
  {
   "cell_type": "code",
   "execution_count": 4,
   "metadata": {},
   "outputs": [
    {
     "data": {
      "text/plain": [
       "array(['typeof', 'surface', 'field_surface', 'rooms', 'bedrooms',\n",
       "       'balcony', 'parking', 'price', 'terrace_OUI', 'pool_OUI',\n",
       "       'district_10', 'district_11', 'district_12', 'district_13',\n",
       "       'district_14', 'district_15', 'district_16', 'district_17',\n",
       "       'district_18', 'district_19', 'district_2', 'district_20',\n",
       "       'district_3', 'district_4', 'district_5', 'district_6',\n",
       "       'district_7', 'district_8', 'district_9'], dtype=object)"
      ]
     },
     "execution_count": 4,
     "metadata": {},
     "output_type": "execute_result"
    }
   ],
   "source": [
    "columns = data_full.columns.values\n",
    "columns"
   ]
  },
  {
   "cell_type": "code",
   "execution_count": 5,
   "metadata": {},
   "outputs": [
    {
     "data": {
      "text/plain": [
       "count    2.675000e+03\n",
       "mean     2.734850e+06\n",
       "std      2.490664e+06\n",
       "min      3.950000e+05\n",
       "25%      1.395000e+06\n",
       "50%      1.995000e+06\n",
       "75%      3.200000e+06\n",
       "max      4.200000e+07\n",
       "Name: price, dtype: float64"
      ]
     },
     "execution_count": 5,
     "metadata": {},
     "output_type": "execute_result"
    }
   ],
   "source": [
    "data_full['price'].describe()"
   ]
  },
  {
   "cell_type": "markdown",
   "metadata": {},
   "source": [
    "#### Test de suppression des prix trop important pour voir la modification sur la qualité du modele\n",
    "Ca fonctionne mais pas sur que ca soit une bonne idée , la MAE passe de 635k à 397K , quand on supprime ces biens"
   ]
  },
  {
   "cell_type": "code",
   "execution_count": 6,
   "metadata": {},
   "outputs": [
    {
     "data": {
      "text/plain": [
       "(2675, 29)"
      ]
     },
     "execution_count": 6,
     "metadata": {},
     "output_type": "execute_result"
    }
   ],
   "source": [
    "data_full.shape"
   ]
  },
  {
   "cell_type": "code",
   "execution_count": 7,
   "metadata": {},
   "outputs": [
    {
     "name": "stdout",
     "output_type": "stream",
     "text": [
      "175\n"
     ]
    }
   ],
   "source": [
    "important_prices = data_full.loc[data_full['price'] > 6000000]\n",
    "print(len(important_prices))"
   ]
  },
  {
   "cell_type": "code",
   "execution_count": 8,
   "metadata": {},
   "outputs": [
    {
     "name": "stdout",
     "output_type": "stream",
     "text": [
      "6.5420560747663545\n"
     ]
    }
   ],
   "source": [
    "print(len(important_prices)/data_full.shape[0]*100)"
   ]
  },
  {
   "cell_type": "code",
   "execution_count": 9,
   "metadata": {},
   "outputs": [],
   "source": [
    "data_full = data_full.drop(important_prices.index, axis=0)"
   ]
  },
  {
   "cell_type": "code",
   "execution_count": 10,
   "metadata": {},
   "outputs": [
    {
     "data": {
      "text/plain": [
       "(2500, 29)"
      ]
     },
     "execution_count": 10,
     "metadata": {},
     "output_type": "execute_result"
    }
   ],
   "source": [
    "data_full.shape"
   ]
  },
  {
   "cell_type": "code",
   "execution_count": 11,
   "metadata": {},
   "outputs": [
    {
     "data": {
      "text/plain": [
       "count    2.500000e+03\n",
       "mean     2.267882e+06\n",
       "std      1.188993e+06\n",
       "min      3.950000e+05\n",
       "25%      1.369750e+06\n",
       "50%      1.950000e+06\n",
       "75%      2.850000e+06\n",
       "max      6.000000e+06\n",
       "Name: price, dtype: float64"
      ]
     },
     "execution_count": 11,
     "metadata": {},
     "output_type": "execute_result"
    }
   ],
   "source": [
    "data_full['price'].describe()"
   ]
  },
  {
   "cell_type": "markdown",
   "metadata": {},
   "source": [
    "Log Price\n",
    "- penser a exp les predictions pour avoir le vrai chiffre"
   ]
  },
  {
   "cell_type": "code",
   "execution_count": 12,
   "metadata": {},
   "outputs": [
    {
     "data": {
      "text/plain": [
       "<matplotlib.axes._subplots.AxesSubplot at 0x22e67067888>"
      ]
     },
     "execution_count": 12,
     "metadata": {},
     "output_type": "execute_result"
    },
    {
     "data": {
      "image/png": "[encoded data removed]",
      "text/plain": [
       "<Figure size 432x288 with 1 Axes>"
      ]
     },
     "metadata": {
      "needs_background": "light"
     },
     "output_type": "display_data"
    }
   ],
   "source": [
    "data_full['price'] = np.log(data_full['price'])\n",
    "sns.distplot(data_full['price'])"
   ]
  },
  {
   "cell_type": "markdown",
   "metadata": {},
   "source": [
    "#### Split Train / Val"
   ]
  },
  {
   "cell_type": "code",
   "execution_count": 13,
   "metadata": {},
   "outputs": [],
   "source": [
    "target_column = 'price'\n",
    "y_train_full_log = data_full[target_column].values\n",
    "X_train_full = data_full.drop(target_column, axis=1).values"
   ]
  },
  {
   "cell_type": "code",
   "execution_count": 14,
   "metadata": {},
   "outputs": [],
   "source": [
    "SEED = 42\n",
    "np.random.seed(SEED)"
   ]
  },
  {
   "cell_type": "code",
   "execution_count": 15,
   "metadata": {},
   "outputs": [],
   "source": [
    "X_train, X_val, y_train_log, y_val_log = train_test_split(X_train_full, y_train_full_log, test_size=0.2)"
   ]
  },
  {
   "cell_type": "code",
   "execution_count": 16,
   "metadata": {},
   "outputs": [
    {
     "name": "stdout",
     "output_type": "stream",
     "text": [
      "Train full shape : (2500, 29)\n",
      "X_train shape : (2000, 28)\n",
      "X_val shape : (500, 28)\n",
      "y_train_log shape : (2000,)\n",
      "y_val_log shape : (500,)\n"
     ]
    }
   ],
   "source": [
    "print(f\"Train full shape : {data_full.shape}\")\n",
    "print(f\"X_train shape : {X_train.shape}\")\n",
    "print(f\"X_val shape : {X_val.shape}\")\n",
    "print(f\"y_train_log shape : {y_train_log.shape}\")\n",
    "print(f\"y_val_log shape : {y_val_log.shape}\")"
   ]
  },
  {
   "cell_type": "markdown",
   "metadata": {},
   "source": [
    "#### Scaler\n",
    "Essai pour trouver le meilleur scaler pour nos datas"
   ]
  },
  {
   "cell_type": "code",
   "execution_count": 17,
   "metadata": {},
   "outputs": [],
   "source": [
    "from sklearn.preprocessing import MinMaxScaler\n",
    "from sklearn.preprocessing import MaxAbsScaler\n",
    "from sklearn.preprocessing import StandardScaler\n",
    "from sklearn.preprocessing import RobustScaler\n",
    "from sklearn.preprocessing import Normalizer\n",
    "from sklearn.preprocessing import QuantileTransformer\n",
    "from sklearn.preprocessing import PowerTransformer"
   ]
  },
  {
   "cell_type": "code",
   "execution_count": 18,
   "metadata": {},
   "outputs": [],
   "source": [
    "scalers = [\n",
    "    MinMaxScaler(),\n",
    "    MaxAbsScaler(),\n",
    "    StandardScaler(),\n",
    "    RobustScaler(),\n",
    "    Normalizer(),\n",
    "    QuantileTransformer(),\n",
    "    PowerTransformer()\n",
    "]"
   ]
  },
  {
   "cell_type": "code",
   "execution_count": 19,
   "metadata": {},
   "outputs": [
    {
     "name": "stdout",
     "output_type": "stream",
     "text": [
      "Recherche du meilleur scaler pour nos données\n",
      "_____________________________________________\n",
      "MinMaxScaler(copy=True, feature_range=(0, 1))\n",
      "0.7295500960438284\n",
      "_____________________________________________\n",
      "MaxAbsScaler(copy=True)\n",
      "0.7297151347294739\n",
      "_____________________________________________\n",
      "StandardScaler(copy=True, with_mean=True, with_std=True)\n",
      "0.730307645254337\n",
      "_____________________________________________\n",
      "RobustScaler(copy=True, quantile_range=(25.0, 75.0), with_centering=True,\n",
      "             with_scaling=True)\n",
      "0.7280193253697345\n",
      "_____________________________________________\n",
      "Normalizer(copy=True, norm='l2')\n",
      "0.1716102106546692\n",
      "_____________________________________________\n",
      "QuantileTransformer(copy=True, ignore_implicit_zeros=False, n_quantiles=1000,\n",
      "                    output_distribution='uniform', random_state=None,\n",
      "                    subsample=100000)\n",
      "0.8051263486140072\n",
      "_____________________________________________\n",
      "PowerTransformer(copy=True, method='yeo-johnson', standardize=True)\n",
      "0.8332673193288453\n",
      "_____________________________________________\n",
      "Meilleur scaler PowerTransformer(copy=True, method='yeo-johnson', standardize=True) , score : 0.8332673193288453\n"
     ]
    }
   ],
   "source": [
    "print(\"Recherche du meilleur scaler pour nos données\")\n",
    "print(\"_____________________________________________\")\n",
    "best_score = 0\n",
    "best_scaler = \"Null\" \n",
    "for scaler in scalers:\n",
    "    pipe = Pipeline(steps=[('scaler', scaler),('Ridge', Ridge())])\n",
    "    pipe.fit(X_train,y_train_log)\n",
    "    print(scaler)\n",
    "    score = pipe.score(X_val,y_val_log)\n",
    "    print(score)\n",
    "    if score > best_score:\n",
    "        best_score = score\n",
    "        best_scaler = scaler    \n",
    "    print(\"_____________________________________________\")\n",
    "print(f\"Meilleur scaler {best_scaler} , score : {best_score}\")"
   ]
  },
  {
   "cell_type": "markdown",
   "metadata": {},
   "source": [
    "#### Pipeline"
   ]
  },
  {
   "cell_type": "code",
   "execution_count": 20,
   "metadata": {},
   "outputs": [],
   "source": [
    "steps = [('scaler', best_scaler) , ('Ridge', Ridge())]\n",
    "pipeline = Pipeline(steps)"
   ]
  },
  {
   "cell_type": "code",
   "execution_count": 21,
   "metadata": {},
   "outputs": [],
   "source": [
    "parameters = {'Ridge__solver' : ['auto', 'svd', 'cholesky', 'lsqr', 'sparse_cg', 'sag', 'saga'],'Ridge__alpha': [1e-5,1e-4,1e-3,1,2]}"
   ]
  },
  {
   "cell_type": "code",
   "execution_count": 22,
   "metadata": {},
   "outputs": [],
   "source": [
    "grid = GridSearchCV(pipeline, param_grid=parameters, cv=5)"
   ]
  },
  {
   "cell_type": "code",
   "execution_count": 23,
   "metadata": {},
   "outputs": [
    {
     "data": {
      "text/plain": [
       "GridSearchCV(cv=5, error_score=nan,\n",
       "             estimator=Pipeline(memory=None,\n",
       "                                steps=[('scaler',\n",
       "                                        PowerTransformer(copy=True,\n",
       "                                                         method='yeo-johnson',\n",
       "                                                         standardize=True)),\n",
       "                                       ('Ridge',\n",
       "                                        Ridge(alpha=1.0, copy_X=True,\n",
       "                                              fit_intercept=True, max_iter=None,\n",
       "                                              normalize=False,\n",
       "                                              random_state=None, solver='auto',\n",
       "                                              tol=0.001))],\n",
       "                                verbose=False),\n",
       "             iid='deprecated', n_jobs=None,\n",
       "             param_grid={'Ridge__alpha': [1e-05, 0.0001, 0.001, 1, 2],\n",
       "                         'Ridge__solver': ['auto', 'svd', 'cholesky', 'lsqr',\n",
       "                                           'sparse_cg', 'sag', 'saga']},\n",
       "             pre_dispatch='2*n_jobs', refit=True, return_train_score=False,\n",
       "             scoring=None, verbose=0)"
      ]
     },
     "execution_count": 23,
     "metadata": {},
     "output_type": "execute_result"
    }
   ],
   "source": [
    "grid.fit(X_train,y_train_log)"
   ]
  },
  {
   "cell_type": "code",
   "execution_count": 24,
   "metadata": {},
   "outputs": [
    {
     "data": {
      "text/plain": [
       "0.8332775325701175"
      ]
     },
     "execution_count": 24,
     "metadata": {},
     "output_type": "execute_result"
    }
   ],
   "source": [
    "# Verifie la perfomance sur le val set ? \n",
    "# Utilise le scorer du modele si pas précisé dans scoring ? Ridge = R2\n",
    "grid.score(X_val,y_val_log)"
   ]
  },
  {
   "cell_type": "code",
   "execution_count": 25,
   "metadata": {},
   "outputs": [
    {
     "data": {
      "text/plain": [
       "{'Ridge__alpha': 2, 'Ridge__solver': 'sparse_cg'}"
      ]
     },
     "execution_count": 25,
     "metadata": {},
     "output_type": "execute_result"
    }
   ],
   "source": [
    "grid.best_params_"
   ]
  },
  {
   "cell_type": "code",
   "execution_count": 26,
   "metadata": {},
   "outputs": [],
   "source": [
    "y_val_log_predict = grid.best_estimator_.predict(X_val)"
   ]
  },
  {
   "cell_type": "code",
   "execution_count": 27,
   "metadata": {},
   "outputs": [
    {
     "name": "stdout",
     "output_type": "stream",
     "text": [
      " MAE sur val : 397497.9 Euros \n"
     ]
    }
   ],
   "source": [
    "print(f\" MAE sur val : { round(mean_absolute_error(np.exp(y_val_log),np.exp(y_val_log_predict)),2) } Euros \")"
   ]
  },
  {
   "cell_type": "code",
   "execution_count": 28,
   "metadata": {},
   "outputs": [
    {
     "data": {
      "text/plain": [
       "0.8332775325701175"
      ]
     },
     "execution_count": 28,
     "metadata": {},
     "output_type": "execute_result"
    }
   ],
   "source": [
    "# Verification que grid.score = R2\n",
    "from sklearn.metrics import r2_score\n",
    "r2_score(y_val_log, y_val_log_predict)"
   ]
  },
  {
   "cell_type": "markdown",
   "metadata": {},
   "source": [
    "MAPE , 16%"
   ]
  },
  {
   "cell_type": "code",
   "execution_count": 29,
   "metadata": {},
   "outputs": [
    {
     "data": {
      "text/plain": [
       "16.53445971390381"
      ]
     },
     "execution_count": 29,
     "metadata": {},
     "output_type": "execute_result"
    }
   ],
   "source": [
    "np.mean(np.abs((np.exp(y_val_log) - np.exp(y_val_log_predict)) / np.exp(y_val_log))) * 100"
   ]
  },
  {
   "cell_type": "code",
   "execution_count": 30,
   "metadata": {},
   "outputs": [],
   "source": [
    "# Enregistre le modele\n",
    "pickle.dump(grid, open('realestate_model.pickle', 'wb'))"
   ]
  },
  {
   "cell_type": "markdown",
   "metadata": {},
   "source": [
    "#### Test prédiction sur nouvel input"
   ]
  },
  {
   "cell_type": "markdown",
   "metadata": {},
   "source": [
    "[Lien vers l'annonce pour le test](https://www.lux-residence.com/fr/vente/appartement/ILE+DE+FRANCE/75/PARIS+17E/A3A40C51-4A47-B630-ADF8-759C5F39D149/?mea=0CONTACT)"
   ]
  },
  {
   "cell_type": "code",
   "execution_count": 31,
   "metadata": {},
   "outputs": [
    {
     "data": {
      "text/html": [
       "<div>\n",
       "<style scoped>\n",
       "    .dataframe tbody tr th:only-of-type {\n",
       "        vertical-align: middle;\n",
       "    }\n",
       "\n",
       "    .dataframe tbody tr th {\n",
       "        vertical-align: top;\n",
       "    }\n",
       "\n",
       "    .dataframe thead th {\n",
       "        text-align: right;\n",
       "    }\n",
       "</style>\n",
       "<table border=\"1\" class=\"dataframe\">\n",
       "  <thead>\n",
       "    <tr style=\"text-align: right;\">\n",
       "      <th></th>\n",
       "      <th>typeof</th>\n",
       "      <th>surface</th>\n",
       "      <th>field_surface</th>\n",
       "      <th>rooms</th>\n",
       "      <th>bedrooms</th>\n",
       "      <th>balcony</th>\n",
       "      <th>parking</th>\n",
       "      <th>price</th>\n",
       "      <th>terrace_OUI</th>\n",
       "      <th>pool_OUI</th>\n",
       "      <th>...</th>\n",
       "      <th>district_19</th>\n",
       "      <th>district_2</th>\n",
       "      <th>district_20</th>\n",
       "      <th>district_3</th>\n",
       "      <th>district_4</th>\n",
       "      <th>district_5</th>\n",
       "      <th>district_6</th>\n",
       "      <th>district_7</th>\n",
       "      <th>district_8</th>\n",
       "      <th>district_9</th>\n",
       "    </tr>\n",
       "  </thead>\n",
       "  <tbody>\n",
       "    <tr>\n",
       "      <th>2</th>\n",
       "      <td>1</td>\n",
       "      <td>377.0</td>\n",
       "      <td>0.0</td>\n",
       "      <td>9.0</td>\n",
       "      <td>4.0</td>\n",
       "      <td>1.0</td>\n",
       "      <td>2.0</td>\n",
       "      <td>15.547166</td>\n",
       "      <td>0</td>\n",
       "      <td>0</td>\n",
       "      <td>...</td>\n",
       "      <td>0</td>\n",
       "      <td>0</td>\n",
       "      <td>0</td>\n",
       "      <td>0</td>\n",
       "      <td>0</td>\n",
       "      <td>0</td>\n",
       "      <td>0</td>\n",
       "      <td>0</td>\n",
       "      <td>0</td>\n",
       "      <td>0</td>\n",
       "    </tr>\n",
       "  </tbody>\n",
       "</table>\n",
       "<p>1 rows × 29 columns</p>\n",
       "</div>"
      ],
      "text/plain": [
       "   typeof  surface  field_surface  rooms  bedrooms  balcony  parking  \\\n",
       "2       1    377.0            0.0    9.0       4.0      1.0      2.0   \n",
       "\n",
       "       price  terrace_OUI  pool_OUI  ...  district_19  district_2  \\\n",
       "2  15.547166            0         0  ...            0           0   \n",
       "\n",
       "   district_20  district_3  district_4  district_5  district_6  district_7  \\\n",
       "2            0           0           0           0           0           0   \n",
       "\n",
       "   district_8  district_9  \n",
       "2           0           0  \n",
       "\n",
       "[1 rows x 29 columns]"
      ]
     },
     "execution_count": 31,
     "metadata": {},
     "output_type": "execute_result"
    }
   ],
   "source": [
    "data_full.head(1)"
   ]
  },
  {
   "cell_type": "markdown",
   "metadata": {},
   "source": [
    "Pour choisir la ville sans avoir a tout tapper , ou copier/coller ( sera utile dans le code de l'API ) \n",
    "- on cherche toutes les colonnes qui commence par \" localisation_ \" \n",
    "- On fait un dictionnaire avec ces colonnes avec toutes les valeurs à zéro\n",
    "- On passe une des clés a 1 ( la ville ou on veut faire la prédiction )\n",
    "- Et on ajoute enfin ce dictionnaire au premier dictionnaire comprenant le début du nouvel input dont on veut prédire le prix"
   ]
  },
  {
   "cell_type": "code",
   "execution_count": 32,
   "metadata": {},
   "outputs": [],
   "source": [
    "list_districts = []\n",
    "for column in columns:\n",
    "    district = re.search(\"^district_\",column)\n",
    "    if(district):\n",
    "        list_districts.append(column)"
   ]
  },
  {
   "cell_type": "code",
   "execution_count": 33,
   "metadata": {},
   "outputs": [
    {
     "data": {
      "text/plain": [
       "['district_10',\n",
       " 'district_11',\n",
       " 'district_12',\n",
       " 'district_13',\n",
       " 'district_14',\n",
       " 'district_15',\n",
       " 'district_16',\n",
       " 'district_17',\n",
       " 'district_18',\n",
       " 'district_19',\n",
       " 'district_2',\n",
       " 'district_20',\n",
       " 'district_3',\n",
       " 'district_4',\n",
       " 'district_5',\n",
       " 'district_6',\n",
       " 'district_7',\n",
       " 'district_8',\n",
       " 'district_9']"
      ]
     },
     "execution_count": 33,
     "metadata": {},
     "output_type": "execute_result"
    }
   ],
   "source": [
    "list_districts"
   ]
  },
  {
   "cell_type": "code",
   "execution_count": 34,
   "metadata": {},
   "outputs": [
    {
     "name": "stdout",
     "output_type": "stream",
     "text": [
      "['10', '11', '12', '13', '14', '15', '16', '17', '18', '19', '2', '20', '3', '4', '5', '6', '7', '8', '9']\n"
     ]
    }
   ],
   "source": [
    "# Création d'une liste des districts pour affichage dans l'interface avec Flask\n",
    "list_districts_num = []\n",
    "for district in list_districts:\n",
    "    district_num = district.replace(\"district_\",\"\")\n",
    "    list_districts_num.append(district_num)\n",
    "print(list_districts_num)"
   ]
  },
  {
   "cell_type": "code",
   "execution_count": 35,
   "metadata": {},
   "outputs": [],
   "source": [
    "pickle.dump(list_districts_num, open('districts_num.pickle', 'wb'))"
   ]
  },
  {
   "cell_type": "code",
   "execution_count": 36,
   "metadata": {},
   "outputs": [],
   "source": [
    "dict_district = { i : [0] for i in list_districts }"
   ]
  },
  {
   "cell_type": "code",
   "execution_count": 37,
   "metadata": {},
   "outputs": [
    {
     "data": {
      "text/plain": [
       "{'district_10': [0],\n",
       " 'district_11': [0],\n",
       " 'district_12': [0],\n",
       " 'district_13': [0],\n",
       " 'district_14': [0],\n",
       " 'district_15': [0],\n",
       " 'district_16': [0],\n",
       " 'district_17': [0],\n",
       " 'district_18': [0],\n",
       " 'district_19': [0],\n",
       " 'district_2': [0],\n",
       " 'district_20': [0],\n",
       " 'district_3': [0],\n",
       " 'district_4': [0],\n",
       " 'district_5': [0],\n",
       " 'district_6': [0],\n",
       " 'district_7': [0],\n",
       " 'district_8': [0],\n",
       " 'district_9': [0]}"
      ]
     },
     "execution_count": 37,
     "metadata": {},
     "output_type": "execute_result"
    }
   ],
   "source": [
    "dict_district"
   ]
  },
  {
   "cell_type": "code",
   "execution_count": 38,
   "metadata": {},
   "outputs": [],
   "source": [
    "dict_district['district_17'] = [1]"
   ]
  },
  {
   "cell_type": "code",
   "execution_count": 39,
   "metadata": {},
   "outputs": [],
   "source": [
    "dict = {\n",
    "    'typeof': [1],\n",
    "    'surface': [70],\n",
    "    'field_surface': [0],\n",
    "    'rooms': [5],\n",
    "    'bedrooms': [1],\n",
    "    'balcony': [0],\n",
    "    'parking': [0],\n",
    "    'terrace_OUI': [0],\n",
    "    'pool_OUI': [0]\n",
    "}"
   ]
  },
  {
   "cell_type": "code",
   "execution_count": 40,
   "metadata": {},
   "outputs": [],
   "source": [
    "dict.update(dict_district)"
   ]
  },
  {
   "cell_type": "code",
   "execution_count": 41,
   "metadata": {},
   "outputs": [
    {
     "data": {
      "text/plain": [
       "{'typeof': [1],\n",
       " 'surface': [70],\n",
       " 'field_surface': [0],\n",
       " 'rooms': [5],\n",
       " 'bedrooms': [1],\n",
       " 'balcony': [0],\n",
       " 'parking': [0],\n",
       " 'terrace_OUI': [0],\n",
       " 'pool_OUI': [0],\n",
       " 'district_10': [0],\n",
       " 'district_11': [0],\n",
       " 'district_12': [0],\n",
       " 'district_13': [0],\n",
       " 'district_14': [0],\n",
       " 'district_15': [0],\n",
       " 'district_16': [0],\n",
       " 'district_17': [1],\n",
       " 'district_18': [0],\n",
       " 'district_19': [0],\n",
       " 'district_2': [0],\n",
       " 'district_20': [0],\n",
       " 'district_3': [0],\n",
       " 'district_4': [0],\n",
       " 'district_5': [0],\n",
       " 'district_6': [0],\n",
       " 'district_7': [0],\n",
       " 'district_8': [0],\n",
       " 'district_9': [0]}"
      ]
     },
     "execution_count": 41,
     "metadata": {},
     "output_type": "execute_result"
    }
   ],
   "source": [
    "dict"
   ]
  },
  {
   "cell_type": "code",
   "execution_count": 42,
   "metadata": {},
   "outputs": [
    {
     "data": {
      "text/html": [
       "<div>\n",
       "<style scoped>\n",
       "    .dataframe tbody tr th:only-of-type {\n",
       "        vertical-align: middle;\n",
       "    }\n",
       "\n",
       "    .dataframe tbody tr th {\n",
       "        vertical-align: top;\n",
       "    }\n",
       "\n",
       "    .dataframe thead th {\n",
       "        text-align: right;\n",
       "    }\n",
       "</style>\n",
       "<table border=\"1\" class=\"dataframe\">\n",
       "  <thead>\n",
       "    <tr style=\"text-align: right;\">\n",
       "      <th></th>\n",
       "      <th>typeof</th>\n",
       "      <th>surface</th>\n",
       "      <th>field_surface</th>\n",
       "      <th>rooms</th>\n",
       "      <th>bedrooms</th>\n",
       "      <th>balcony</th>\n",
       "      <th>parking</th>\n",
       "      <th>terrace_OUI</th>\n",
       "      <th>pool_OUI</th>\n",
       "      <th>district_10</th>\n",
       "      <th>...</th>\n",
       "      <th>district_19</th>\n",
       "      <th>district_2</th>\n",
       "      <th>district_20</th>\n",
       "      <th>district_3</th>\n",
       "      <th>district_4</th>\n",
       "      <th>district_5</th>\n",
       "      <th>district_6</th>\n",
       "      <th>district_7</th>\n",
       "      <th>district_8</th>\n",
       "      <th>district_9</th>\n",
       "    </tr>\n",
       "  </thead>\n",
       "  <tbody>\n",
       "    <tr>\n",
       "      <th>0</th>\n",
       "      <td>1</td>\n",
       "      <td>70</td>\n",
       "      <td>0</td>\n",
       "      <td>5</td>\n",
       "      <td>1</td>\n",
       "      <td>0</td>\n",
       "      <td>0</td>\n",
       "      <td>0</td>\n",
       "      <td>0</td>\n",
       "      <td>0</td>\n",
       "      <td>...</td>\n",
       "      <td>0</td>\n",
       "      <td>0</td>\n",
       "      <td>0</td>\n",
       "      <td>0</td>\n",
       "      <td>0</td>\n",
       "      <td>0</td>\n",
       "      <td>0</td>\n",
       "      <td>0</td>\n",
       "      <td>0</td>\n",
       "      <td>0</td>\n",
       "    </tr>\n",
       "  </tbody>\n",
       "</table>\n",
       "<p>1 rows × 28 columns</p>\n",
       "</div>"
      ],
      "text/plain": [
       "   typeof  surface  field_surface  rooms  bedrooms  balcony  parking  \\\n",
       "0       1       70              0      5         1        0        0   \n",
       "\n",
       "   terrace_OUI  pool_OUI  district_10  ...  district_19  district_2  \\\n",
       "0            0         0            0  ...            0           0   \n",
       "\n",
       "   district_20  district_3  district_4  district_5  district_6  district_7  \\\n",
       "0            0           0           0           0           0           0   \n",
       "\n",
       "   district_8  district_9  \n",
       "0           0           0  \n",
       "\n",
       "[1 rows x 28 columns]"
      ]
     },
     "execution_count": 42,
     "metadata": {},
     "output_type": "execute_result"
    }
   ],
   "source": [
    "df_pred = pd.DataFrame(dict)\n",
    "df_pred"
   ]
  },
  {
   "cell_type": "code",
   "execution_count": 43,
   "metadata": {},
   "outputs": [],
   "source": [
    "X_new = df_pred.values"
   ]
  },
  {
   "cell_type": "code",
   "execution_count": 44,
   "metadata": {},
   "outputs": [
    {
     "data": {
      "text/plain": [
       "array([[ 1, 70,  0,  5,  1,  0,  0,  0,  0,  0,  0,  0,  0,  0,  0,  0,\n",
       "         1,  0,  0,  0,  0,  0,  0,  0,  0,  0,  0,  0]], dtype=int64)"
      ]
     },
     "execution_count": 44,
     "metadata": {},
     "output_type": "execute_result"
    }
   ],
   "source": [
    "X_new"
   ]
  },
  {
   "cell_type": "markdown",
   "metadata": {},
   "source": [
    "### Prediction\n",
    "Test avec l'input"
   ]
  },
  {
   "cell_type": "code",
   "execution_count": 45,
   "metadata": {},
   "outputs": [],
   "source": [
    "new_pred2 = grid.best_estimator_.predict(X_new)"
   ]
  },
  {
   "cell_type": "code",
   "execution_count": 46,
   "metadata": {},
   "outputs": [
    {
     "data": {
      "text/plain": [
       "936004"
      ]
     },
     "execution_count": 46,
     "metadata": {},
     "output_type": "execute_result"
    }
   ],
   "source": [
    "int(np.exp(new_pred2[0]))"
   ]
  },
  {
   "cell_type": "markdown",
   "metadata": {},
   "source": [
    "Le bien est annoncé à la vente à 1 085 000Euros"
   ]
  },
  {
   "cell_type": "code",
   "execution_count": null,
   "metadata": {},
   "outputs": [],
   "source": [
    "# model = pickle.load(open('realestate_model', 'rb'))"
   ]
  }
 ],
 "metadata": {
  "kernelspec": {
   "display_name": "Python 3",
   "language": "python",
   "name": "python3"
  },
  "language_info": {
   "codemirror_mode": {
    "name": "ipython",
    "version": 3
   },
   "file_extension": ".py",
   "mimetype": "text/x-python",
   "name": "python",
   "nbconvert_exporter": "python",
   "pygments_lexer": "ipython3",
   "version": "3.7.6"
  }
 },
 "nbformat": 4,
 "nbformat_minor": 2
}
