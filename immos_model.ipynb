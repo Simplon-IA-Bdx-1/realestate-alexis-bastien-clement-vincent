{
 "cells": [
  {
   "cell_type": "markdown",
   "metadata": {},
   "source": [
    "## Création d'un modele avec les données propres"
   ]
  },
  {
   "cell_type": "code",
   "execution_count": 1,
   "metadata": {},
   "outputs": [],
   "source": [
    "import pandas as pd\n",
    "import numpy as np\n",
    "from sklearn.model_selection import KFold, cross_val_score, train_test_split\n",
    "import matplotlib.pyplot as plt\n",
    "import seaborn as sns\n",
    "from sklearn.metrics import mean_squared_error , mean_absolute_error\n",
    "from sklearn.linear_model import Ridge, LinearRegression, Lasso, ElasticNet\n",
    "from math import sqrt\n",
    "from sklearn.model_selection import GridSearchCV\n",
    "from sklearn.pipeline import Pipeline\n",
    "import pickle\n",
    "import re"
   ]
  },
  {
   "cell_type": "code",
   "execution_count": 2,
   "metadata": {},
   "outputs": [],
   "source": [
    "data_full = pd.read_csv(\"immos_dataset_clean.csv\",index_col=0)"
   ]
  },
  {
   "cell_type": "code",
   "execution_count": 3,
   "metadata": {},
   "outputs": [
    {
     "data": {
      "text/plain": [
       "(1461, 146)"
      ]
     },
     "execution_count": 3,
     "metadata": {},
     "output_type": "execute_result"
    }
   ],
   "source": [
    "data_full.shape"
   ]
  },
  {
   "cell_type": "code",
   "execution_count": 4,
   "metadata": {},
   "outputs": [
    {
     "data": {
      "text/plain": [
       "array(['typeof', 'price', 'surface', 'field_surface', 'rooms', 'bedrooms',\n",
       "       'balcony', 'parking', 'terrace_OUI', 'pool_OUI',\n",
       "       'localisation_Andernos-les-Bains', 'localisation_Arcachon',\n",
       "       'localisation_Artigues-près-Bordeaux', 'localisation_Arès',\n",
       "       'localisation_Audenge', 'localisation_Auriolles',\n",
       "       'localisation_Avensan', 'localisation_Bazas',\n",
       "       'localisation_Beautiran', 'localisation_Belin-Béliet',\n",
       "       'localisation_Belvès-de-Castillon',\n",
       "       'localisation_Beychac-et-Caillau', 'localisation_Birac-sur-Trec',\n",
       "       'localisation_Blaignan', 'localisation_Blanquefort',\n",
       "       'localisation_Blaye', 'localisation_Bordeaux',\n",
       "       'localisation_Bouliac', 'localisation_Bourg',\n",
       "       'localisation_Branne', 'localisation_Bruges',\n",
       "       'localisation_Bègles', 'localisation_Bégadan',\n",
       "       'localisation_Cadillac', 'localisation_Camarsac',\n",
       "       'localisation_Camblanes-et-Meynac', 'localisation_Canéjan',\n",
       "       'localisation_Cap Ferret', 'localisation_Carcans',\n",
       "       'localisation_Cardan', 'localisation_Carignan-de-Bordeaux',\n",
       "       'localisation_Casteljaloux', 'localisation_Cestas',\n",
       "       'localisation_Cocumont', 'localisation_Coutras',\n",
       "       'localisation_Créon', 'localisation_Cénac', 'localisation_Duras',\n",
       "       'localisation_Eynesse', 'localisation_Eysines',\n",
       "       'localisation_Fargues-Saint-Hilaire', 'localisation_Floirac',\n",
       "       'localisation_Fours', 'localisation_Fronsac',\n",
       "       'localisation_Galgon', 'localisation_Gradignan',\n",
       "       'localisation_Grignols', 'localisation_Grézillac',\n",
       "       'localisation_Gujan-Mestras', 'localisation_Illats',\n",
       "       'localisation_Izon', 'localisation_La Brède',\n",
       "       'localisation_La Réole', 'localisation_La Teste-de-Buch',\n",
       "       'localisation_Lacanau', 'localisation_Lalande-de-Pomerol',\n",
       "       'localisation_Langoiran', 'localisation_Langon',\n",
       "       'localisation_Latresne', 'localisation_Le Barp',\n",
       "       'localisation_Le Bouscat', 'localisation_Le Canon',\n",
       "       'localisation_Le Haillan', 'localisation_Le Pian-Médoc',\n",
       "       'localisation_Le Taillan-Médoc', 'localisation_Le Verdon-sur-Mer',\n",
       "       'localisation_Lesparre-Médoc', 'localisation_Lestiac-sur-Garonne',\n",
       "       'localisation_Libourne', 'localisation_Lormont',\n",
       "       'localisation_Lège-Cap-Ferret', 'localisation_Léognan',\n",
       "       'localisation_Marcheprime', 'localisation_Margaux',\n",
       "       'localisation_Marmande', 'localisation_Martignas-sur-Jalle',\n",
       "       'localisation_Martillac', 'localisation_Mios',\n",
       "       'localisation_Monestier', 'localisation_Monségur',\n",
       "       'localisation_Montussan', 'localisation_Mérignac',\n",
       "       'localisation_Ordonnac', 'localisation_Paillet',\n",
       "       'localisation_Pellegrue', 'localisation_Pessac',\n",
       "       'localisation_Pineuilh', 'localisation_Pompignac',\n",
       "       'localisation_Pondaurat', 'localisation_Portets',\n",
       "       'localisation_Pujols', 'localisation_Pyla sur Mer',\n",
       "       'localisation_Quinsac', 'localisation_Rauzan',\n",
       "       'localisation_Sadirac', 'localisation_Saint-André-de-Cubzac',\n",
       "       'localisation_Saint-André-et-Appelles',\n",
       "       'localisation_Saint-Astier', 'localisation_Saint-Aubin-de-Branne',\n",
       "       'localisation_Saint-Aubin-de-Médoc',\n",
       "       \"localisation_Saint-Germain-d'Esteuil\",\n",
       "       'localisation_Saint-Germain-de-la-Rivière',\n",
       "       'localisation_Saint-Gervais', \"localisation_Saint-Jean-d'Illac\",\n",
       "       'localisation_Saint-Jean-de-Blaignac', 'localisation_Saint-Loubès',\n",
       "       'localisation_Saint-Louis-de-Montferrand',\n",
       "       \"localisation_Saint-Médard-d'Eyrans\",\n",
       "       'localisation_Saint-Médard-de-Guizières',\n",
       "       'localisation_Saint-Médard-en-Jalles',\n",
       "       'localisation_Saint-Pey-de-Castets',\n",
       "       'localisation_Saint-Quentin-de-Baron', 'localisation_Saint-Selve',\n",
       "       'localisation_Saint-Seurin-de-Cadourne',\n",
       "       'localisation_Saint-Sulpice-et-Cameyrac',\n",
       "       'localisation_Saint-Vivien-de-Médoc', 'localisation_Saint-Émilion',\n",
       "       'localisation_Sainte-Colombe', 'localisation_Sainte-Eulalie',\n",
       "       'localisation_Sainte-Foy-la-Grande', 'localisation_Sallebœuf',\n",
       "       'localisation_Saucats', 'localisation_Sauternes',\n",
       "       'localisation_Sauveterre-de-Guyenne',\n",
       "       'localisation_Savignac-de-Duras', 'localisation_Soulac-sur-Mer',\n",
       "       'localisation_Soussac', 'localisation_Tabanac',\n",
       "       'localisation_Talence', 'localisation_Targon',\n",
       "       'localisation_Taussat', 'localisation_Teuillac',\n",
       "       'localisation_Thénac', 'localisation_Vendays-Montalivet',\n",
       "       \"localisation_Villenave-d'Ornon\", 'localisation_Yvrac'],\n",
       "      dtype=object)"
      ]
     },
     "execution_count": 4,
     "metadata": {},
     "output_type": "execute_result"
    }
   ],
   "source": [
    "columns = data_full.columns.values\n",
    "columns"
   ]
  },
  {
   "cell_type": "code",
   "execution_count": 5,
   "metadata": {},
   "outputs": [
    {
     "data": {
      "text/plain": [
       "count    1.461000e+03\n",
       "mean     1.193989e+06\n",
       "std      9.448692e+05\n",
       "min      3.590000e+05\n",
       "25%      7.106000e+05\n",
       "50%      9.000000e+05\n",
       "75%      1.345500e+06\n",
       "max      1.600000e+07\n",
       "Name: price, dtype: float64"
      ]
     },
     "execution_count": 5,
     "metadata": {},
     "output_type": "execute_result"
    }
   ],
   "source": [
    "data_full['price'].describe()"
   ]
  },
  {
   "cell_type": "markdown",
   "metadata": {},
   "source": [
    "#### Test de suppression des prix trop important pour voir la modification sur la qualité du modele\n",
    "Ca fonctionne mais pas sur que ca soit une bonne idée , la MAE passe de 330 à 243k , quand on supprime ces biens"
   ]
  },
  {
   "cell_type": "code",
   "execution_count": 6,
   "metadata": {},
   "outputs": [
    {
     "data": {
      "text/plain": [
       "(1461, 146)"
      ]
     },
     "execution_count": 6,
     "metadata": {},
     "output_type": "execute_result"
    }
   ],
   "source": [
    "data_full.shape"
   ]
  },
  {
   "cell_type": "code",
   "execution_count": 7,
   "metadata": {},
   "outputs": [
    {
     "name": "stdout",
     "output_type": "stream",
     "text": [
      "48\n"
     ]
    }
   ],
   "source": [
    "important_prices = data_full.loc[data_full['price'] > 3000000]\n",
    "print(len(important_prices))"
   ]
  },
  {
   "cell_type": "code",
   "execution_count": 8,
   "metadata": {},
   "outputs": [
    {
     "name": "stdout",
     "output_type": "stream",
     "text": [
      "3.285420944558522\n"
     ]
    }
   ],
   "source": [
    "print(len(important_prices)/data_full.shape[0]*100)"
   ]
  },
  {
   "cell_type": "code",
   "execution_count": 9,
   "metadata": {},
   "outputs": [],
   "source": [
    "data_full = data_full.drop(important_prices.index, axis=0)"
   ]
  },
  {
   "cell_type": "code",
   "execution_count": 10,
   "metadata": {},
   "outputs": [
    {
     "data": {
      "text/plain": [
       "(1413, 146)"
      ]
     },
     "execution_count": 10,
     "metadata": {},
     "output_type": "execute_result"
    }
   ],
   "source": [
    "data_full.shape"
   ]
  },
  {
   "cell_type": "code",
   "execution_count": 11,
   "metadata": {},
   "outputs": [
    {
     "data": {
      "text/plain": [
       "count    1.413000e+03\n",
       "mean     1.074968e+06\n",
       "std      5.250043e+05\n",
       "min      3.590000e+05\n",
       "25%      7.000000e+05\n",
       "50%      8.925000e+05\n",
       "75%      1.290000e+06\n",
       "max      3.000000e+06\n",
       "Name: price, dtype: float64"
      ]
     },
     "execution_count": 11,
     "metadata": {},
     "output_type": "execute_result"
    }
   ],
   "source": [
    "data_full['price'].describe()"
   ]
  },
  {
   "cell_type": "markdown",
   "metadata": {},
   "source": [
    "Log Price\n",
    "- penser a exp les predictions pour avoir le vrai chiffre"
   ]
  },
  {
   "cell_type": "code",
   "execution_count": 12,
   "metadata": {},
   "outputs": [
    {
     "data": {
      "text/plain": [
       "<matplotlib.axes._subplots.AxesSubplot at 0x2091660e948>"
      ]
     },
     "execution_count": 12,
     "metadata": {},
     "output_type": "execute_result"
    },
    {
     "data": {
      "image/png": "[encoded data removed]",
      "text/plain": [
       "<Figure size 432x288 with 1 Axes>"
      ]
     },
     "metadata": {
      "needs_background": "light"
     },
     "output_type": "display_data"
    }
   ],
   "source": [
    "data_full['price'] = np.log(data_full['price'])\n",
    "sns.distplot(data_full['price'])"
   ]
  },
  {
   "cell_type": "markdown",
   "metadata": {},
   "source": [
    "#### Split Train / Val"
   ]
  },
  {
   "cell_type": "code",
   "execution_count": 13,
   "metadata": {},
   "outputs": [],
   "source": [
    "target_column = 'price'\n",
    "y_train_full_log = data_full[target_column].values\n",
    "X_train_full = data_full.drop(target_column, axis=1).values"
   ]
  },
  {
   "cell_type": "code",
   "execution_count": 14,
   "metadata": {},
   "outputs": [],
   "source": [
    "SEED = 42\n",
    "np.random.seed(SEED)"
   ]
  },
  {
   "cell_type": "code",
   "execution_count": 15,
   "metadata": {},
   "outputs": [],
   "source": [
    "X_train, X_val, y_train_log, y_val_log = train_test_split(X_train_full, y_train_full_log, test_size=0.1)"
   ]
  },
  {
   "cell_type": "code",
   "execution_count": 16,
   "metadata": {},
   "outputs": [
    {
     "name": "stdout",
     "output_type": "stream",
     "text": [
      "Train full shape : (1413, 146)\n",
      "X_train shape : (1271, 145)\n",
      "X_val shape : (142, 145)\n",
      "y_train_log shape : (1271,)\n",
      "y_val_log shape : (142,)\n"
     ]
    }
   ],
   "source": [
    "print(f\"Train full shape : {data_full.shape}\")\n",
    "print(f\"X_train shape : {X_train.shape}\")\n",
    "print(f\"X_val shape : {X_val.shape}\")\n",
    "print(f\"y_train_log shape : {y_train_log.shape}\")\n",
    "print(f\"y_val_log shape : {y_val_log.shape}\")"
   ]
  },
  {
   "cell_type": "markdown",
   "metadata": {},
   "source": [
    "#### Scaler\n",
    "Essai pour trouver le meilleur scaler pour nos datas"
   ]
  },
  {
   "cell_type": "code",
   "execution_count": 17,
   "metadata": {},
   "outputs": [],
   "source": [
    "from sklearn.preprocessing import MinMaxScaler\n",
    "from sklearn.preprocessing import MaxAbsScaler\n",
    "from sklearn.preprocessing import StandardScaler\n",
    "from sklearn.preprocessing import RobustScaler\n",
    "from sklearn.preprocessing import Normalizer\n",
    "from sklearn.preprocessing import QuantileTransformer\n",
    "from sklearn.preprocessing import PowerTransformer"
   ]
  },
  {
   "cell_type": "code",
   "execution_count": 18,
   "metadata": {},
   "outputs": [],
   "source": [
    "scalers = [\n",
    "    MinMaxScaler(),\n",
    "    MaxAbsScaler(),\n",
    "    StandardScaler(),\n",
    "    RobustScaler(),\n",
    "    Normalizer(),\n",
    "    QuantileTransformer(),\n",
    "    PowerTransformer()\n",
    "]"
   ]
  },
  {
   "cell_type": "code",
   "execution_count": 19,
   "metadata": {},
   "outputs": [
    {
     "name": "stdout",
     "output_type": "stream",
     "text": [
      "Recherche du meilleur scaler pour nos données\n",
      "_____________________________________________\n",
      "MinMaxScaler(copy=True, feature_range=(0, 1))\n",
      "0.43993975199322344\n",
      "_____________________________________________\n",
      "MaxAbsScaler(copy=True)\n",
      "0.43979902993292924\n",
      "_____________________________________________\n",
      "StandardScaler(copy=True, with_mean=True, with_std=True)\n",
      "0.4292544863873051\n",
      "_____________________________________________\n",
      "RobustScaler(copy=True, quantile_range=(25.0, 75.0), with_centering=True,\n",
      "             with_scaling=True)\n",
      "0.438309998182711\n",
      "_____________________________________________\n",
      "Normalizer(copy=True, norm='l2')\n",
      "0.07416165401496866\n",
      "_____________________________________________\n",
      "QuantileTransformer(copy=True, ignore_implicit_zeros=False, n_quantiles=1000,\n",
      "                    output_distribution='uniform', random_state=None,\n",
      "                    subsample=100000)\n",
      "0.5583842964044046\n",
      "_____________________________________________\n"
     ]
    },
    {
     "name": "stderr",
     "output_type": "stream",
     "text": [
      "C:\\Users\\Utilisateur\\Anaconda3\\lib\\site-packages\\sklearn\\preprocessing\\data.py:2863: RuntimeWarning: divide by zero encountered in log\n",
      "  loglike = -n_samples / 2 * np.log(x_trans.var())\n"
     ]
    },
    {
     "name": "stdout",
     "output_type": "stream",
     "text": [
      "PowerTransformer(copy=True, method='yeo-johnson', standardize=True)\n",
      "0.5292861278105099\n",
      "_____________________________________________\n",
      "Meilleur scaler QuantileTransformer(copy=True, ignore_implicit_zeros=False, n_quantiles=1000,\n",
      "                    output_distribution='uniform', random_state=None,\n",
      "                    subsample=100000) , score : 0.5583842964044046\n"
     ]
    }
   ],
   "source": [
    "print(\"Recherche du meilleur scaler pour nos données\")\n",
    "print(\"_____________________________________________\")\n",
    "best_score = 0\n",
    "best_scaler = \"Null\" \n",
    "for scaler in scalers:\n",
    "    pipe = Pipeline(steps=[('scaler', scaler),('Ridge', Ridge())])\n",
    "    pipe.fit(X_train,y_train_log)\n",
    "    print(scaler)\n",
    "    score = pipe.score(X_val,y_val_log)\n",
    "    print(score)\n",
    "    if score > best_score:\n",
    "        best_score = score\n",
    "        best_scaler = scaler    \n",
    "    print(\"_____________________________________________\")\n",
    "print(f\"Meilleur scaler {best_scaler} , score : {best_score}\")"
   ]
  },
  {
   "cell_type": "markdown",
   "metadata": {},
   "source": [
    "#### Pipeline"
   ]
  },
  {
   "cell_type": "code",
   "execution_count": 20,
   "metadata": {},
   "outputs": [],
   "source": [
    "steps = [('scaler', best_scaler) , ('Ridge', Ridge())]\n",
    "pipeline = Pipeline(steps)"
   ]
  },
  {
   "cell_type": "code",
   "execution_count": 21,
   "metadata": {},
   "outputs": [],
   "source": [
    "parameters = {'Ridge__solver' : ['auto', 'svd', 'cholesky', 'lsqr', 'sparse_cg', 'sag', 'saga'],'Ridge__alpha': [1e-10,1e-5,1,10,100]}"
   ]
  },
  {
   "cell_type": "code",
   "execution_count": 22,
   "metadata": {},
   "outputs": [],
   "source": [
    "grid = GridSearchCV(pipeline, param_grid=parameters, cv=5)"
   ]
  },
  {
   "cell_type": "code",
   "execution_count": 23,
   "metadata": {},
   "outputs": [
    {
     "data": {
      "text/plain": [
       "GridSearchCV(cv=5, error_score='raise-deprecating',\n",
       "             estimator=Pipeline(memory=None,\n",
       "                                steps=[('scaler',\n",
       "                                        QuantileTransformer(copy=True,\n",
       "                                                            ignore_implicit_zeros=False,\n",
       "                                                            n_quantiles=1000,\n",
       "                                                            output_distribution='uniform',\n",
       "                                                            random_state=None,\n",
       "                                                            subsample=100000)),\n",
       "                                       ('Ridge',\n",
       "                                        Ridge(alpha=1.0, copy_X=True,\n",
       "                                              fit_intercept=True, max_iter=None,\n",
       "                                              normalize=False,\n",
       "                                              random_state=None, solver='auto',\n",
       "                                              tol=0.001))],\n",
       "                                verbose=False),\n",
       "             iid='warn', n_jobs=None,\n",
       "             param_grid={'Ridge__alpha': [1e-10, 1e-05, 1, 10, 100],\n",
       "                         'Ridge__solver': ['auto', 'svd', 'cholesky', 'lsqr',\n",
       "                                           'sparse_cg', 'sag', 'saga']},\n",
       "             pre_dispatch='2*n_jobs', refit=True, return_train_score=False,\n",
       "             scoring=None, verbose=0)"
      ]
     },
     "execution_count": 23,
     "metadata": {},
     "output_type": "execute_result"
    }
   ],
   "source": [
    "grid.fit(X_train,y_train_log)"
   ]
  },
  {
   "cell_type": "code",
   "execution_count": 24,
   "metadata": {},
   "outputs": [
    {
     "data": {
      "text/plain": [
       "0.5586522023327198"
      ]
     },
     "execution_count": 24,
     "metadata": {},
     "output_type": "execute_result"
    }
   ],
   "source": [
    "# Verifie la perfomance sur le val set ? \n",
    "# Utilise le scorer du modele si pas précisé dans scoring ? Ridge = R2\n",
    "grid.score(X_val,y_val_log)"
   ]
  },
  {
   "cell_type": "code",
   "execution_count": 25,
   "metadata": {},
   "outputs": [
    {
     "data": {
      "text/plain": [
       "{'Ridge__alpha': 1, 'Ridge__solver': 'lsqr'}"
      ]
     },
     "execution_count": 25,
     "metadata": {},
     "output_type": "execute_result"
    }
   ],
   "source": [
    "grid.best_params_"
   ]
  },
  {
   "cell_type": "code",
   "execution_count": 26,
   "metadata": {},
   "outputs": [],
   "source": [
    "y_val_log_predict = grid.best_estimator_.predict(X_val)"
   ]
  },
  {
   "cell_type": "code",
   "execution_count": 27,
   "metadata": {},
   "outputs": [
    {
     "name": "stdout",
     "output_type": "stream",
     "text": [
      " MAE sur val : 243362.63 Euros \n"
     ]
    }
   ],
   "source": [
    "print(f\" MAE sur val : { round(mean_absolute_error(np.exp(y_val_log),np.exp(y_val_log_predict)),2) } Euros \")"
   ]
  },
  {
   "cell_type": "code",
   "execution_count": 28,
   "metadata": {},
   "outputs": [],
   "source": [
    "# Enregistre le modele\n",
    "pickle.dump(grid, open('realestate_model.pickle', 'wb'))"
   ]
  },
  {
   "cell_type": "markdown",
   "metadata": {},
   "source": [
    "#### Test prédiction sur nouvel input"
   ]
  },
  {
   "cell_type": "markdown",
   "metadata": {},
   "source": [
    "[Lien vers l'annonce pour le test](https://www.lux-residence.com/fr/vente/appartement/AQUITAINE/33/BORDEAUX/AD27BC69-A9CA-2C57-BD9D-98BCC1529092/)"
   ]
  },
  {
   "cell_type": "code",
   "execution_count": 29,
   "metadata": {},
   "outputs": [
    {
     "data": {
      "text/html": [
       "<div>\n",
       "<style scoped>\n",
       "    .dataframe tbody tr th:only-of-type {\n",
       "        vertical-align: middle;\n",
       "    }\n",
       "\n",
       "    .dataframe tbody tr th {\n",
       "        vertical-align: top;\n",
       "    }\n",
       "\n",
       "    .dataframe thead th {\n",
       "        text-align: right;\n",
       "    }\n",
       "</style>\n",
       "<table border=\"1\" class=\"dataframe\">\n",
       "  <thead>\n",
       "    <tr style=\"text-align: right;\">\n",
       "      <th></th>\n",
       "      <th>typeof</th>\n",
       "      <th>price</th>\n",
       "      <th>surface</th>\n",
       "      <th>field_surface</th>\n",
       "      <th>rooms</th>\n",
       "      <th>bedrooms</th>\n",
       "      <th>balcony</th>\n",
       "      <th>parking</th>\n",
       "      <th>terrace_OUI</th>\n",
       "      <th>pool_OUI</th>\n",
       "      <th>...</th>\n",
       "      <th>localisation_Soussac</th>\n",
       "      <th>localisation_Tabanac</th>\n",
       "      <th>localisation_Talence</th>\n",
       "      <th>localisation_Targon</th>\n",
       "      <th>localisation_Taussat</th>\n",
       "      <th>localisation_Teuillac</th>\n",
       "      <th>localisation_Thénac</th>\n",
       "      <th>localisation_Vendays-Montalivet</th>\n",
       "      <th>localisation_Villenave-d'Ornon</th>\n",
       "      <th>localisation_Yvrac</th>\n",
       "    </tr>\n",
       "  </thead>\n",
       "  <tbody>\n",
       "    <tr>\n",
       "      <td>0</td>\n",
       "      <td>3</td>\n",
       "      <td>14.437699</td>\n",
       "      <td>475.0</td>\n",
       "      <td>15000.0</td>\n",
       "      <td>11.0</td>\n",
       "      <td>6.0</td>\n",
       "      <td>0.0</td>\n",
       "      <td>0.0</td>\n",
       "      <td>0</td>\n",
       "      <td>1</td>\n",
       "      <td>...</td>\n",
       "      <td>0</td>\n",
       "      <td>0</td>\n",
       "      <td>0</td>\n",
       "      <td>0</td>\n",
       "      <td>0</td>\n",
       "      <td>0</td>\n",
       "      <td>0</td>\n",
       "      <td>0</td>\n",
       "      <td>0</td>\n",
       "      <td>0</td>\n",
       "    </tr>\n",
       "  </tbody>\n",
       "</table>\n",
       "<p>1 rows × 146 columns</p>\n",
       "</div>"
      ],
      "text/plain": [
       "   typeof      price  surface  field_surface  rooms  bedrooms  balcony  \\\n",
       "0       3  14.437699    475.0        15000.0   11.0       6.0      0.0   \n",
       "\n",
       "   parking  terrace_OUI  pool_OUI  ...  localisation_Soussac  \\\n",
       "0      0.0            0         1  ...                     0   \n",
       "\n",
       "   localisation_Tabanac  localisation_Talence  localisation_Targon  \\\n",
       "0                     0                     0                    0   \n",
       "\n",
       "   localisation_Taussat  localisation_Teuillac  localisation_Thénac  \\\n",
       "0                     0                      0                    0   \n",
       "\n",
       "   localisation_Vendays-Montalivet  localisation_Villenave-d'Ornon  \\\n",
       "0                                0                               0   \n",
       "\n",
       "   localisation_Yvrac  \n",
       "0                   0  \n",
       "\n",
       "[1 rows x 146 columns]"
      ]
     },
     "execution_count": 29,
     "metadata": {},
     "output_type": "execute_result"
    }
   ],
   "source": [
    "data_full.head(1)"
   ]
  },
  {
   "cell_type": "markdown",
   "metadata": {},
   "source": [
    "Pour choisir la ville sans avoir a tout tapper , ou copier/coller ( sera utile dans le code de l'API ) \n",
    "- on cherche toutes les colonnes qui commence par \" localisation_ \" \n",
    "- On fait un dictionnaire avec ces colonnes avec toutes les valeurs à zéro\n",
    "- On passe une des clés a 1 ( la ville ou on veut faire la prédiction )\n",
    "- Et on ajoute enfin ce dictionnaire au premier dictionnaire comprenant le début du nouvel input dont on veut prédire le prix"
   ]
  },
  {
   "cell_type": "code",
   "execution_count": 30,
   "metadata": {},
   "outputs": [],
   "source": [
    "list_localisation = []\n",
    "for column in columns:\n",
    "    localisation = re.search(\"^localisation_\",column)\n",
    "    if(localisation):\n",
    "        list_localisation.append(column)"
   ]
  },
  {
   "cell_type": "code",
   "execution_count": 31,
   "metadata": {},
   "outputs": [
    {
     "name": "stdout",
     "output_type": "stream",
     "text": [
      "['Andernos-les-Bains', 'Arcachon', 'Artigues-près-Bordeaux', 'Arès', 'Audenge', 'Auriolles', 'Avensan', 'Bazas', 'Beautiran', 'Belin-Béliet', 'Belvès-de-Castillon', 'Beychac-et-Caillau', 'Birac-sur-Trec', 'Blaignan', 'Blanquefort', 'Blaye', 'Bordeaux', 'Bouliac', 'Bourg', 'Branne', 'Bruges', 'Bègles', 'Bégadan', 'Cadillac', 'Camarsac', 'Camblanes-et-Meynac', 'Canéjan', 'Cap Ferret', 'Carcans', 'Cardan', 'Carignan-de-Bordeaux', 'Casteljaloux', 'Cestas', 'Cocumont', 'Coutras', 'Créon', 'Cénac', 'Duras', 'Eynesse', 'Eysines', 'Fargues-Saint-Hilaire', 'Floirac', 'Fours', 'Fronsac', 'Galgon', 'Gradignan', 'Grignols', 'Grézillac', 'Gujan-Mestras', 'Illats', 'Izon', 'La Brède', 'La Réole', 'La Teste-de-Buch', 'Lacanau', 'Lalande-de-Pomerol', 'Langoiran', 'Langon', 'Latresne', 'Le Barp', 'Le Bouscat', 'Le Canon', 'Le Haillan', 'Le Pian-Médoc', 'Le Taillan-Médoc', 'Le Verdon-sur-Mer', 'Lesparre-Médoc', 'Lestiac-sur-Garonne', 'Libourne', 'Lormont', 'Lège-Cap-Ferret', 'Léognan', 'Marcheprime', 'Margaux', 'Marmande', 'Martignas-sur-Jalle', 'Martillac', 'Mios', 'Monestier', 'Monségur', 'Montussan', 'Mérignac', 'Ordonnac', 'Paillet', 'Pellegrue', 'Pessac', 'Pineuilh', 'Pompignac', 'Pondaurat', 'Portets', 'Pujols', 'Pyla sur Mer', 'Quinsac', 'Rauzan', 'Sadirac', 'Saint-André-de-Cubzac', 'Saint-André-et-Appelles', 'Saint-Astier', 'Saint-Aubin-de-Branne', 'Saint-Aubin-de-Médoc', \"Saint-Germain-d'Esteuil\", 'Saint-Germain-de-la-Rivière', 'Saint-Gervais', \"Saint-Jean-d'Illac\", 'Saint-Jean-de-Blaignac', 'Saint-Loubès', 'Saint-Louis-de-Montferrand', \"Saint-Médard-d'Eyrans\", 'Saint-Médard-de-Guizières', 'Saint-Médard-en-Jalles', 'Saint-Pey-de-Castets', 'Saint-Quentin-de-Baron', 'Saint-Selve', 'Saint-Seurin-de-Cadourne', 'Saint-Sulpice-et-Cameyrac', 'Saint-Vivien-de-Médoc', 'Saint-Émilion', 'Sainte-Colombe', 'Sainte-Eulalie', 'Sainte-Foy-la-Grande', 'Sallebœuf', 'Saucats', 'Sauternes', 'Sauveterre-de-Guyenne', 'Savignac-de-Duras', 'Soulac-sur-Mer', 'Soussac', 'Tabanac', 'Talence', 'Targon', 'Taussat', 'Teuillac', 'Thénac', 'Vendays-Montalivet', \"Villenave-d'Ornon\", 'Yvrac']\n"
     ]
    }
   ],
   "source": [
    "list_villes = []\n",
    "for localisation in list_localisation:\n",
    "    ville = localisation.replace(\"localisation_\",\"\")\n",
    "    list_villes.append(ville)\n",
    "list_villes\n",
    "\n",
    "print(list_villes)\n",
    "\n",
    "pickle.dump(list_villes, open('list_villes.pickle', 'wb'))"
   ]
  },
  {
   "cell_type": "code",
   "execution_count": 32,
   "metadata": {},
   "outputs": [],
   "source": [
    "dict_localisation = { i : [0] for i in list_localisation }"
   ]
  },
  {
   "cell_type": "code",
   "execution_count": 33,
   "metadata": {},
   "outputs": [],
   "source": [
    "dict_localisation['localisation_Bordeaux'] = [1]"
   ]
  },
  {
   "cell_type": "code",
   "execution_count": 34,
   "metadata": {},
   "outputs": [],
   "source": [
    "# dict = {\n",
    "#     'typeof': [3],\n",
    "#     'surface': [305],\n",
    "#     'field_surface': [0],\n",
    "#     'rooms': [9],\n",
    "#     'bedrooms': [4],\n",
    "#     'balcony': [1],\n",
    "#     'parking': [2],\n",
    "#     'terrace_OUI': [1],\n",
    "#     'pool_OUI': [0]\n",
    "# }\n",
    "dict = {\n",
    "    'typeof': [1],\n",
    "    'surface': [220],\n",
    "    'field_surface': [0],\n",
    "    'rooms': [9],\n",
    "    'bedrooms': [4],\n",
    "    'balcony': [0],\n",
    "    'parking': [0],\n",
    "    'terrace_OUI': [0],\n",
    "    'pool_OUI': [0]\n",
    "}"
   ]
  },
  {
   "cell_type": "code",
   "execution_count": 35,
   "metadata": {},
   "outputs": [],
   "source": [
    "dict.update(dict_localisation)"
   ]
  },
  {
   "cell_type": "code",
   "execution_count": 36,
   "metadata": {},
   "outputs": [
    {
     "data": {
      "text/plain": [
       "{'typeof': [1],\n",
       " 'surface': [220],\n",
       " 'field_surface': [0],\n",
       " 'rooms': [9],\n",
       " 'bedrooms': [4],\n",
       " 'balcony': [0],\n",
       " 'parking': [0],\n",
       " 'terrace_OUI': [0],\n",
       " 'pool_OUI': [0],\n",
       " 'localisation_Andernos-les-Bains': [0],\n",
       " 'localisation_Arcachon': [0],\n",
       " 'localisation_Artigues-près-Bordeaux': [0],\n",
       " 'localisation_Arès': [0],\n",
       " 'localisation_Audenge': [0],\n",
       " 'localisation_Auriolles': [0],\n",
       " 'localisation_Avensan': [0],\n",
       " 'localisation_Bazas': [0],\n",
       " 'localisation_Beautiran': [0],\n",
       " 'localisation_Belin-Béliet': [0],\n",
       " 'localisation_Belvès-de-Castillon': [0],\n",
       " 'localisation_Beychac-et-Caillau': [0],\n",
       " 'localisation_Birac-sur-Trec': [0],\n",
       " 'localisation_Blaignan': [0],\n",
       " 'localisation_Blanquefort': [0],\n",
       " 'localisation_Blaye': [0],\n",
       " 'localisation_Bordeaux': [1],\n",
       " 'localisation_Bouliac': [0],\n",
       " 'localisation_Bourg': [0],\n",
       " 'localisation_Branne': [0],\n",
       " 'localisation_Bruges': [0],\n",
       " 'localisation_Bègles': [0],\n",
       " 'localisation_Bégadan': [0],\n",
       " 'localisation_Cadillac': [0],\n",
       " 'localisation_Camarsac': [0],\n",
       " 'localisation_Camblanes-et-Meynac': [0],\n",
       " 'localisation_Canéjan': [0],\n",
       " 'localisation_Cap Ferret': [0],\n",
       " 'localisation_Carcans': [0],\n",
       " 'localisation_Cardan': [0],\n",
       " 'localisation_Carignan-de-Bordeaux': [0],\n",
       " 'localisation_Casteljaloux': [0],\n",
       " 'localisation_Cestas': [0],\n",
       " 'localisation_Cocumont': [0],\n",
       " 'localisation_Coutras': [0],\n",
       " 'localisation_Créon': [0],\n",
       " 'localisation_Cénac': [0],\n",
       " 'localisation_Duras': [0],\n",
       " 'localisation_Eynesse': [0],\n",
       " 'localisation_Eysines': [0],\n",
       " 'localisation_Fargues-Saint-Hilaire': [0],\n",
       " 'localisation_Floirac': [0],\n",
       " 'localisation_Fours': [0],\n",
       " 'localisation_Fronsac': [0],\n",
       " 'localisation_Galgon': [0],\n",
       " 'localisation_Gradignan': [0],\n",
       " 'localisation_Grignols': [0],\n",
       " 'localisation_Grézillac': [0],\n",
       " 'localisation_Gujan-Mestras': [0],\n",
       " 'localisation_Illats': [0],\n",
       " 'localisation_Izon': [0],\n",
       " 'localisation_La Brède': [0],\n",
       " 'localisation_La Réole': [0],\n",
       " 'localisation_La Teste-de-Buch': [0],\n",
       " 'localisation_Lacanau': [0],\n",
       " 'localisation_Lalande-de-Pomerol': [0],\n",
       " 'localisation_Langoiran': [0],\n",
       " 'localisation_Langon': [0],\n",
       " 'localisation_Latresne': [0],\n",
       " 'localisation_Le Barp': [0],\n",
       " 'localisation_Le Bouscat': [0],\n",
       " 'localisation_Le Canon': [0],\n",
       " 'localisation_Le Haillan': [0],\n",
       " 'localisation_Le Pian-Médoc': [0],\n",
       " 'localisation_Le Taillan-Médoc': [0],\n",
       " 'localisation_Le Verdon-sur-Mer': [0],\n",
       " 'localisation_Lesparre-Médoc': [0],\n",
       " 'localisation_Lestiac-sur-Garonne': [0],\n",
       " 'localisation_Libourne': [0],\n",
       " 'localisation_Lormont': [0],\n",
       " 'localisation_Lège-Cap-Ferret': [0],\n",
       " 'localisation_Léognan': [0],\n",
       " 'localisation_Marcheprime': [0],\n",
       " 'localisation_Margaux': [0],\n",
       " 'localisation_Marmande': [0],\n",
       " 'localisation_Martignas-sur-Jalle': [0],\n",
       " 'localisation_Martillac': [0],\n",
       " 'localisation_Mios': [0],\n",
       " 'localisation_Monestier': [0],\n",
       " 'localisation_Monségur': [0],\n",
       " 'localisation_Montussan': [0],\n",
       " 'localisation_Mérignac': [0],\n",
       " 'localisation_Ordonnac': [0],\n",
       " 'localisation_Paillet': [0],\n",
       " 'localisation_Pellegrue': [0],\n",
       " 'localisation_Pessac': [0],\n",
       " 'localisation_Pineuilh': [0],\n",
       " 'localisation_Pompignac': [0],\n",
       " 'localisation_Pondaurat': [0],\n",
       " 'localisation_Portets': [0],\n",
       " 'localisation_Pujols': [0],\n",
       " 'localisation_Pyla sur Mer': [0],\n",
       " 'localisation_Quinsac': [0],\n",
       " 'localisation_Rauzan': [0],\n",
       " 'localisation_Sadirac': [0],\n",
       " 'localisation_Saint-André-de-Cubzac': [0],\n",
       " 'localisation_Saint-André-et-Appelles': [0],\n",
       " 'localisation_Saint-Astier': [0],\n",
       " 'localisation_Saint-Aubin-de-Branne': [0],\n",
       " 'localisation_Saint-Aubin-de-Médoc': [0],\n",
       " \"localisation_Saint-Germain-d'Esteuil\": [0],\n",
       " 'localisation_Saint-Germain-de-la-Rivière': [0],\n",
       " 'localisation_Saint-Gervais': [0],\n",
       " \"localisation_Saint-Jean-d'Illac\": [0],\n",
       " 'localisation_Saint-Jean-de-Blaignac': [0],\n",
       " 'localisation_Saint-Loubès': [0],\n",
       " 'localisation_Saint-Louis-de-Montferrand': [0],\n",
       " \"localisation_Saint-Médard-d'Eyrans\": [0],\n",
       " 'localisation_Saint-Médard-de-Guizières': [0],\n",
       " 'localisation_Saint-Médard-en-Jalles': [0],\n",
       " 'localisation_Saint-Pey-de-Castets': [0],\n",
       " 'localisation_Saint-Quentin-de-Baron': [0],\n",
       " 'localisation_Saint-Selve': [0],\n",
       " 'localisation_Saint-Seurin-de-Cadourne': [0],\n",
       " 'localisation_Saint-Sulpice-et-Cameyrac': [0],\n",
       " 'localisation_Saint-Vivien-de-Médoc': [0],\n",
       " 'localisation_Saint-Émilion': [0],\n",
       " 'localisation_Sainte-Colombe': [0],\n",
       " 'localisation_Sainte-Eulalie': [0],\n",
       " 'localisation_Sainte-Foy-la-Grande': [0],\n",
       " 'localisation_Sallebœuf': [0],\n",
       " 'localisation_Saucats': [0],\n",
       " 'localisation_Sauternes': [0],\n",
       " 'localisation_Sauveterre-de-Guyenne': [0],\n",
       " 'localisation_Savignac-de-Duras': [0],\n",
       " 'localisation_Soulac-sur-Mer': [0],\n",
       " 'localisation_Soussac': [0],\n",
       " 'localisation_Tabanac': [0],\n",
       " 'localisation_Talence': [0],\n",
       " 'localisation_Targon': [0],\n",
       " 'localisation_Taussat': [0],\n",
       " 'localisation_Teuillac': [0],\n",
       " 'localisation_Thénac': [0],\n",
       " 'localisation_Vendays-Montalivet': [0],\n",
       " \"localisation_Villenave-d'Ornon\": [0],\n",
       " 'localisation_Yvrac': [0]}"
      ]
     },
     "execution_count": 36,
     "metadata": {},
     "output_type": "execute_result"
    }
   ],
   "source": [
    "dict"
   ]
  },
  {
   "cell_type": "code",
   "execution_count": 37,
   "metadata": {},
   "outputs": [
    {
     "data": {
      "text/html": [
       "<div>\n",
       "<style scoped>\n",
       "    .dataframe tbody tr th:only-of-type {\n",
       "        vertical-align: middle;\n",
       "    }\n",
       "\n",
       "    .dataframe tbody tr th {\n",
       "        vertical-align: top;\n",
       "    }\n",
       "\n",
       "    .dataframe thead th {\n",
       "        text-align: right;\n",
       "    }\n",
       "</style>\n",
       "<table border=\"1\" class=\"dataframe\">\n",
       "  <thead>\n",
       "    <tr style=\"text-align: right;\">\n",
       "      <th></th>\n",
       "      <th>typeof</th>\n",
       "      <th>surface</th>\n",
       "      <th>field_surface</th>\n",
       "      <th>rooms</th>\n",
       "      <th>bedrooms</th>\n",
       "      <th>balcony</th>\n",
       "      <th>parking</th>\n",
       "      <th>terrace_OUI</th>\n",
       "      <th>pool_OUI</th>\n",
       "      <th>localisation_Andernos-les-Bains</th>\n",
       "      <th>...</th>\n",
       "      <th>localisation_Soussac</th>\n",
       "      <th>localisation_Tabanac</th>\n",
       "      <th>localisation_Talence</th>\n",
       "      <th>localisation_Targon</th>\n",
       "      <th>localisation_Taussat</th>\n",
       "      <th>localisation_Teuillac</th>\n",
       "      <th>localisation_Thénac</th>\n",
       "      <th>localisation_Vendays-Montalivet</th>\n",
       "      <th>localisation_Villenave-d'Ornon</th>\n",
       "      <th>localisation_Yvrac</th>\n",
       "    </tr>\n",
       "  </thead>\n",
       "  <tbody>\n",
       "    <tr>\n",
       "      <td>0</td>\n",
       "      <td>1</td>\n",
       "      <td>220</td>\n",
       "      <td>0</td>\n",
       "      <td>9</td>\n",
       "      <td>4</td>\n",
       "      <td>0</td>\n",
       "      <td>0</td>\n",
       "      <td>0</td>\n",
       "      <td>0</td>\n",
       "      <td>0</td>\n",
       "      <td>...</td>\n",
       "      <td>0</td>\n",
       "      <td>0</td>\n",
       "      <td>0</td>\n",
       "      <td>0</td>\n",
       "      <td>0</td>\n",
       "      <td>0</td>\n",
       "      <td>0</td>\n",
       "      <td>0</td>\n",
       "      <td>0</td>\n",
       "      <td>0</td>\n",
       "    </tr>\n",
       "  </tbody>\n",
       "</table>\n",
       "<p>1 rows × 145 columns</p>\n",
       "</div>"
      ],
      "text/plain": [
       "   typeof  surface  field_surface  rooms  bedrooms  balcony  parking  \\\n",
       "0       1      220              0      9         4        0        0   \n",
       "\n",
       "   terrace_OUI  pool_OUI  localisation_Andernos-les-Bains  ...  \\\n",
       "0            0         0                                0  ...   \n",
       "\n",
       "   localisation_Soussac  localisation_Tabanac  localisation_Talence  \\\n",
       "0                     0                     0                     0   \n",
       "\n",
       "   localisation_Targon  localisation_Taussat  localisation_Teuillac  \\\n",
       "0                    0                     0                      0   \n",
       "\n",
       "   localisation_Thénac  localisation_Vendays-Montalivet  \\\n",
       "0                    0                                0   \n",
       "\n",
       "   localisation_Villenave-d'Ornon  localisation_Yvrac  \n",
       "0                               0                   0  \n",
       "\n",
       "[1 rows x 145 columns]"
      ]
     },
     "execution_count": 37,
     "metadata": {},
     "output_type": "execute_result"
    }
   ],
   "source": [
    "df_pred = pd.DataFrame(dict)\n",
    "df_pred"
   ]
  },
  {
   "cell_type": "code",
   "execution_count": 38,
   "metadata": {},
   "outputs": [],
   "source": [
    "X_new = df_pred.values"
   ]
  },
  {
   "cell_type": "code",
   "execution_count": 39,
   "metadata": {},
   "outputs": [
    {
     "data": {
      "text/plain": [
       "array([[  1, 220,   0,   9,   4,   0,   0,   0,   0,   0,   0,   0,   0,\n",
       "          0,   0,   0,   0,   0,   0,   0,   0,   0,   0,   0,   0,   1,\n",
       "          0,   0,   0,   0,   0,   0,   0,   0,   0,   0,   0,   0,   0,\n",
       "          0,   0,   0,   0,   0,   0,   0,   0,   0,   0,   0,   0,   0,\n",
       "          0,   0,   0,   0,   0,   0,   0,   0,   0,   0,   0,   0,   0,\n",
       "          0,   0,   0,   0,   0,   0,   0,   0,   0,   0,   0,   0,   0,\n",
       "          0,   0,   0,   0,   0,   0,   0,   0,   0,   0,   0,   0,   0,\n",
       "          0,   0,   0,   0,   0,   0,   0,   0,   0,   0,   0,   0,   0,\n",
       "          0,   0,   0,   0,   0,   0,   0,   0,   0,   0,   0,   0,   0,\n",
       "          0,   0,   0,   0,   0,   0,   0,   0,   0,   0,   0,   0,   0,\n",
       "          0,   0,   0,   0,   0,   0,   0,   0,   0,   0,   0,   0,   0,\n",
       "          0,   0]], dtype=int64)"
      ]
     },
     "execution_count": 39,
     "metadata": {},
     "output_type": "execute_result"
    }
   ],
   "source": [
    "X_new"
   ]
  },
  {
   "cell_type": "markdown",
   "metadata": {},
   "source": [
    "### Prediction\n",
    "Test avec l'input\n",
    "![photo d'appartement](input2.jpg)"
   ]
  },
  {
   "cell_type": "code",
   "execution_count": 42,
   "metadata": {},
   "outputs": [],
   "source": [
    "new_pred2 = grid.best_estimator_.predict(X_new)"
   ]
  },
  {
   "cell_type": "code",
   "execution_count": 43,
   "metadata": {},
   "outputs": [
    {
     "data": {
      "text/plain": [
       "1188110"
      ]
     },
     "execution_count": 43,
     "metadata": {},
     "output_type": "execute_result"
    }
   ],
   "source": [
    "int(np.exp(new_pred2[0]))"
   ]
  },
  {
   "cell_type": "code",
   "execution_count": null,
   "metadata": {},
   "outputs": [],
   "source": [
    "# model = pickle.load(open('realestate_model', 'rb'))"
   ]
  }
 ],
 "metadata": {
  "kernelspec": {
   "display_name": "Python 3",
   "language": "python",
   "name": "python3"
  },
  "language_info": {
   "codemirror_mode": {
    "name": "ipython",
    "version": 3
   },
   "file_extension": ".py",
   "mimetype": "text/x-python",
   "name": "python",
   "nbconvert_exporter": "python",
   "pygments_lexer": "ipython3",
   "version": "3.7.4"
  }
 },
 "nbformat": 4,
 "nbformat_minor": 2
}
